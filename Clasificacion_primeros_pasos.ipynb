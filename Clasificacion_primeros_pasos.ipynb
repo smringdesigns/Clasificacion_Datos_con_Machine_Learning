{
  "nbformat": 4,
  "nbformat_minor": 0,
  "metadata": {
    "colab": {
      "provenance": [],
      "include_colab_link": true
    },
    "kernelspec": {
      "name": "python3",
      "display_name": "Python 3"
    },
    "language_info": {
      "name": "python"
    }
  },
  "cells": [
    {
      "cell_type": "markdown",
      "metadata": {
        "id": "view-in-github",
        "colab_type": "text"
      },
      "source": [
        "<a href=\"https://colab.research.google.com/github/smringdesigns/Clasificacion_Datos_con_Machine_Learning/blob/main/Clasificacion_primeros_pasos.ipynb\" target=\"_parent\"><img src=\"https://colab.research.google.com/assets/colab-badge.svg\" alt=\"Open In Colab\"/></a>"
      ]
    },
    {
      "cell_type": "markdown",
      "source": [
        "# **Clasificación: Primeros pasos**"
      ],
      "metadata": {
        "id": "MJ3tSbLsBPhe"
      }
    },
    {
      "cell_type": "markdown",
      "source": [
        "En este proyecto, analizaremos datos de una campaña de marketing para la adhesión a inversiones. El objetivo es utilizar la información de los datos para predecir si los clientes de un banco invertirán su dinero o no.  \n",
        "\n",
        "Esta predicción se realizará mediante **machine learning**, y este notebook contendrá los pasos para obtener un modelo capaz de hacer dichas predicciones, desde la **lectura**, **análisis exploratorio**, **separación** y **transformación** de los datos, hasta el **ajuste**, **evaluación** y **comparación** de modelos de clasificación."
      ],
      "metadata": {
        "id": "CYC5vst2FcaG"
      }
    },
    {
      "cell_type": "markdown",
      "source": [
        "# 1. Análisis exploratorio"
      ],
      "metadata": {
        "id": "dr9I9xCXoICN"
      }
    },
    {
      "cell_type": "markdown",
      "source": [
        "## Realizando la lectura de los datos"
      ],
      "metadata": {
        "id": "fwuPpdZOBTUn"
      }
    },
    {
      "cell_type": "markdown",
      "source": [
        "Podemos leer los datos utilizando la biblioteca `pandas`. Por esta razón, importaremos la biblioteca con el comando `import pandas as pd`.  \n",
        "\n",
        "Dado que el archivo de datos está en formato *csv*, realizaremos la lectura con la función [`read_csv()`](https://pandas.pydata.org/docs/reference/api/pandas.read_csv.html)."
      ],
      "metadata": {
        "id": "YzOu8ojHPemt"
      }
    },
    {
      "cell_type": "code",
      "source": [
        "import pandas as pd"
      ],
      "metadata": {
        "id": "qCu51gr8BNML"
      },
      "execution_count": 56,
      "outputs": []
    },
    {
      "cell_type": "code",
      "source": [
        "datos = pd.read_csv('/content/marketing_inversiones.csv')"
      ],
      "metadata": {
        "id": "_B6_HwqjBM_P"
      },
      "execution_count": 57,
      "outputs": []
    },
    {
      "cell_type": "code",
      "source": [
        "datos.head()"
      ],
      "metadata": {
        "id": "JHq2MlGdBM8l",
        "colab": {
          "base_uri": "https://localhost:8080/",
          "height": 206
        },
        "outputId": "4f963221-b286-44d8-8c22-ea643b28e267"
      },
      "execution_count": 58,
      "outputs": [
        {
          "output_type": "execute_result",
          "data": {
            "text/plain": [
              "   edad    estado_civil escolaridad default  saldo prestatario  \\\n",
              "0    45      casado (a)    superior      no    242          no   \n",
              "1    42      casado (a)  secundaria      no   1289          no   \n",
              "2    23     soltero (a)    superior      no    363          no   \n",
              "3    58  divorciado (a)    superior      no   1382          no   \n",
              "4    50      casado (a)  secundaria      no   3357          no   \n",
              "\n",
              "   ultimo_contacto  ct_contactos adherencia_inversion  \n",
              "0              587             1                   si  \n",
              "1              250             4                   si  \n",
              "2               16            18                   no  \n",
              "3              700             1                   si  \n",
              "4              239             4                   si  "
            ],
            "text/html": [
              "\n",
              "  <div id=\"df-ecda1ca1-fcf3-4873-ab60-8aaed059892a\" class=\"colab-df-container\">\n",
              "    <div>\n",
              "<style scoped>\n",
              "    .dataframe tbody tr th:only-of-type {\n",
              "        vertical-align: middle;\n",
              "    }\n",
              "\n",
              "    .dataframe tbody tr th {\n",
              "        vertical-align: top;\n",
              "    }\n",
              "\n",
              "    .dataframe thead th {\n",
              "        text-align: right;\n",
              "    }\n",
              "</style>\n",
              "<table border=\"1\" class=\"dataframe\">\n",
              "  <thead>\n",
              "    <tr style=\"text-align: right;\">\n",
              "      <th></th>\n",
              "      <th>edad</th>\n",
              "      <th>estado_civil</th>\n",
              "      <th>escolaridad</th>\n",
              "      <th>default</th>\n",
              "      <th>saldo</th>\n",
              "      <th>prestatario</th>\n",
              "      <th>ultimo_contacto</th>\n",
              "      <th>ct_contactos</th>\n",
              "      <th>adherencia_inversion</th>\n",
              "    </tr>\n",
              "  </thead>\n",
              "  <tbody>\n",
              "    <tr>\n",
              "      <th>0</th>\n",
              "      <td>45</td>\n",
              "      <td>casado (a)</td>\n",
              "      <td>superior</td>\n",
              "      <td>no</td>\n",
              "      <td>242</td>\n",
              "      <td>no</td>\n",
              "      <td>587</td>\n",
              "      <td>1</td>\n",
              "      <td>si</td>\n",
              "    </tr>\n",
              "    <tr>\n",
              "      <th>1</th>\n",
              "      <td>42</td>\n",
              "      <td>casado (a)</td>\n",
              "      <td>secundaria</td>\n",
              "      <td>no</td>\n",
              "      <td>1289</td>\n",
              "      <td>no</td>\n",
              "      <td>250</td>\n",
              "      <td>4</td>\n",
              "      <td>si</td>\n",
              "    </tr>\n",
              "    <tr>\n",
              "      <th>2</th>\n",
              "      <td>23</td>\n",
              "      <td>soltero (a)</td>\n",
              "      <td>superior</td>\n",
              "      <td>no</td>\n",
              "      <td>363</td>\n",
              "      <td>no</td>\n",
              "      <td>16</td>\n",
              "      <td>18</td>\n",
              "      <td>no</td>\n",
              "    </tr>\n",
              "    <tr>\n",
              "      <th>3</th>\n",
              "      <td>58</td>\n",
              "      <td>divorciado (a)</td>\n",
              "      <td>superior</td>\n",
              "      <td>no</td>\n",
              "      <td>1382</td>\n",
              "      <td>no</td>\n",
              "      <td>700</td>\n",
              "      <td>1</td>\n",
              "      <td>si</td>\n",
              "    </tr>\n",
              "    <tr>\n",
              "      <th>4</th>\n",
              "      <td>50</td>\n",
              "      <td>casado (a)</td>\n",
              "      <td>secundaria</td>\n",
              "      <td>no</td>\n",
              "      <td>3357</td>\n",
              "      <td>no</td>\n",
              "      <td>239</td>\n",
              "      <td>4</td>\n",
              "      <td>si</td>\n",
              "    </tr>\n",
              "  </tbody>\n",
              "</table>\n",
              "</div>\n",
              "    <div class=\"colab-df-buttons\">\n",
              "\n",
              "  <div class=\"colab-df-container\">\n",
              "    <button class=\"colab-df-convert\" onclick=\"convertToInteractive('df-ecda1ca1-fcf3-4873-ab60-8aaed059892a')\"\n",
              "            title=\"Convert this dataframe to an interactive table.\"\n",
              "            style=\"display:none;\">\n",
              "\n",
              "  <svg xmlns=\"http://www.w3.org/2000/svg\" height=\"24px\" viewBox=\"0 -960 960 960\">\n",
              "    <path d=\"M120-120v-720h720v720H120Zm60-500h600v-160H180v160Zm220 220h160v-160H400v160Zm0 220h160v-160H400v160ZM180-400h160v-160H180v160Zm440 0h160v-160H620v160ZM180-180h160v-160H180v160Zm440 0h160v-160H620v160Z\"/>\n",
              "  </svg>\n",
              "    </button>\n",
              "\n",
              "  <style>\n",
              "    .colab-df-container {\n",
              "      display:flex;\n",
              "      gap: 12px;\n",
              "    }\n",
              "\n",
              "    .colab-df-convert {\n",
              "      background-color: #E8F0FE;\n",
              "      border: none;\n",
              "      border-radius: 50%;\n",
              "      cursor: pointer;\n",
              "      display: none;\n",
              "      fill: #1967D2;\n",
              "      height: 32px;\n",
              "      padding: 0 0 0 0;\n",
              "      width: 32px;\n",
              "    }\n",
              "\n",
              "    .colab-df-convert:hover {\n",
              "      background-color: #E2EBFA;\n",
              "      box-shadow: 0px 1px 2px rgba(60, 64, 67, 0.3), 0px 1px 3px 1px rgba(60, 64, 67, 0.15);\n",
              "      fill: #174EA6;\n",
              "    }\n",
              "\n",
              "    .colab-df-buttons div {\n",
              "      margin-bottom: 4px;\n",
              "    }\n",
              "\n",
              "    [theme=dark] .colab-df-convert {\n",
              "      background-color: #3B4455;\n",
              "      fill: #D2E3FC;\n",
              "    }\n",
              "\n",
              "    [theme=dark] .colab-df-convert:hover {\n",
              "      background-color: #434B5C;\n",
              "      box-shadow: 0px 1px 3px 1px rgba(0, 0, 0, 0.15);\n",
              "      filter: drop-shadow(0px 1px 2px rgba(0, 0, 0, 0.3));\n",
              "      fill: #FFFFFF;\n",
              "    }\n",
              "  </style>\n",
              "\n",
              "    <script>\n",
              "      const buttonEl =\n",
              "        document.querySelector('#df-ecda1ca1-fcf3-4873-ab60-8aaed059892a button.colab-df-convert');\n",
              "      buttonEl.style.display =\n",
              "        google.colab.kernel.accessAllowed ? 'block' : 'none';\n",
              "\n",
              "      async function convertToInteractive(key) {\n",
              "        const element = document.querySelector('#df-ecda1ca1-fcf3-4873-ab60-8aaed059892a');\n",
              "        const dataTable =\n",
              "          await google.colab.kernel.invokeFunction('convertToInteractive',\n",
              "                                                    [key], {});\n",
              "        if (!dataTable) return;\n",
              "\n",
              "        const docLinkHtml = 'Like what you see? Visit the ' +\n",
              "          '<a target=\"_blank\" href=https://colab.research.google.com/notebooks/data_table.ipynb>data table notebook</a>'\n",
              "          + ' to learn more about interactive tables.';\n",
              "        element.innerHTML = '';\n",
              "        dataTable['output_type'] = 'display_data';\n",
              "        await google.colab.output.renderOutput(dataTable, element);\n",
              "        const docLink = document.createElement('div');\n",
              "        docLink.innerHTML = docLinkHtml;\n",
              "        element.appendChild(docLink);\n",
              "      }\n",
              "    </script>\n",
              "  </div>\n",
              "\n",
              "\n",
              "    <div id=\"df-fa0cf976-2175-43ed-914e-7d76f2bba37f\">\n",
              "      <button class=\"colab-df-quickchart\" onclick=\"quickchart('df-fa0cf976-2175-43ed-914e-7d76f2bba37f')\"\n",
              "                title=\"Suggest charts\"\n",
              "                style=\"display:none;\">\n",
              "\n",
              "<svg xmlns=\"http://www.w3.org/2000/svg\" height=\"24px\"viewBox=\"0 0 24 24\"\n",
              "     width=\"24px\">\n",
              "    <g>\n",
              "        <path d=\"M19 3H5c-1.1 0-2 .9-2 2v14c0 1.1.9 2 2 2h14c1.1 0 2-.9 2-2V5c0-1.1-.9-2-2-2zM9 17H7v-7h2v7zm4 0h-2V7h2v10zm4 0h-2v-4h2v4z\"/>\n",
              "    </g>\n",
              "</svg>\n",
              "      </button>\n",
              "\n",
              "<style>\n",
              "  .colab-df-quickchart {\n",
              "      --bg-color: #E8F0FE;\n",
              "      --fill-color: #1967D2;\n",
              "      --hover-bg-color: #E2EBFA;\n",
              "      --hover-fill-color: #174EA6;\n",
              "      --disabled-fill-color: #AAA;\n",
              "      --disabled-bg-color: #DDD;\n",
              "  }\n",
              "\n",
              "  [theme=dark] .colab-df-quickchart {\n",
              "      --bg-color: #3B4455;\n",
              "      --fill-color: #D2E3FC;\n",
              "      --hover-bg-color: #434B5C;\n",
              "      --hover-fill-color: #FFFFFF;\n",
              "      --disabled-bg-color: #3B4455;\n",
              "      --disabled-fill-color: #666;\n",
              "  }\n",
              "\n",
              "  .colab-df-quickchart {\n",
              "    background-color: var(--bg-color);\n",
              "    border: none;\n",
              "    border-radius: 50%;\n",
              "    cursor: pointer;\n",
              "    display: none;\n",
              "    fill: var(--fill-color);\n",
              "    height: 32px;\n",
              "    padding: 0;\n",
              "    width: 32px;\n",
              "  }\n",
              "\n",
              "  .colab-df-quickchart:hover {\n",
              "    background-color: var(--hover-bg-color);\n",
              "    box-shadow: 0 1px 2px rgba(60, 64, 67, 0.3), 0 1px 3px 1px rgba(60, 64, 67, 0.15);\n",
              "    fill: var(--button-hover-fill-color);\n",
              "  }\n",
              "\n",
              "  .colab-df-quickchart-complete:disabled,\n",
              "  .colab-df-quickchart-complete:disabled:hover {\n",
              "    background-color: var(--disabled-bg-color);\n",
              "    fill: var(--disabled-fill-color);\n",
              "    box-shadow: none;\n",
              "  }\n",
              "\n",
              "  .colab-df-spinner {\n",
              "    border: 2px solid var(--fill-color);\n",
              "    border-color: transparent;\n",
              "    border-bottom-color: var(--fill-color);\n",
              "    animation:\n",
              "      spin 1s steps(1) infinite;\n",
              "  }\n",
              "\n",
              "  @keyframes spin {\n",
              "    0% {\n",
              "      border-color: transparent;\n",
              "      border-bottom-color: var(--fill-color);\n",
              "      border-left-color: var(--fill-color);\n",
              "    }\n",
              "    20% {\n",
              "      border-color: transparent;\n",
              "      border-left-color: var(--fill-color);\n",
              "      border-top-color: var(--fill-color);\n",
              "    }\n",
              "    30% {\n",
              "      border-color: transparent;\n",
              "      border-left-color: var(--fill-color);\n",
              "      border-top-color: var(--fill-color);\n",
              "      border-right-color: var(--fill-color);\n",
              "    }\n",
              "    40% {\n",
              "      border-color: transparent;\n",
              "      border-right-color: var(--fill-color);\n",
              "      border-top-color: var(--fill-color);\n",
              "    }\n",
              "    60% {\n",
              "      border-color: transparent;\n",
              "      border-right-color: var(--fill-color);\n",
              "    }\n",
              "    80% {\n",
              "      border-color: transparent;\n",
              "      border-right-color: var(--fill-color);\n",
              "      border-bottom-color: var(--fill-color);\n",
              "    }\n",
              "    90% {\n",
              "      border-color: transparent;\n",
              "      border-bottom-color: var(--fill-color);\n",
              "    }\n",
              "  }\n",
              "</style>\n",
              "\n",
              "      <script>\n",
              "        async function quickchart(key) {\n",
              "          const quickchartButtonEl =\n",
              "            document.querySelector('#' + key + ' button');\n",
              "          quickchartButtonEl.disabled = true;  // To prevent multiple clicks.\n",
              "          quickchartButtonEl.classList.add('colab-df-spinner');\n",
              "          try {\n",
              "            const charts = await google.colab.kernel.invokeFunction(\n",
              "                'suggestCharts', [key], {});\n",
              "          } catch (error) {\n",
              "            console.error('Error during call to suggestCharts:', error);\n",
              "          }\n",
              "          quickchartButtonEl.classList.remove('colab-df-spinner');\n",
              "          quickchartButtonEl.classList.add('colab-df-quickchart-complete');\n",
              "        }\n",
              "        (() => {\n",
              "          let quickchartButtonEl =\n",
              "            document.querySelector('#df-fa0cf976-2175-43ed-914e-7d76f2bba37f button');\n",
              "          quickchartButtonEl.style.display =\n",
              "            google.colab.kernel.accessAllowed ? 'block' : 'none';\n",
              "        })();\n",
              "      </script>\n",
              "    </div>\n",
              "\n",
              "    </div>\n",
              "  </div>\n"
            ],
            "application/vnd.google.colaboratory.intrinsic+json": {
              "type": "dataframe",
              "variable_name": "datos",
              "summary": "{\n  \"name\": \"datos\",\n  \"rows\": 1268,\n  \"fields\": [\n    {\n      \"column\": \"edad\",\n      \"properties\": {\n        \"dtype\": \"number\",\n        \"std\": 11,\n        \"min\": 19,\n        \"max\": 87,\n        \"num_unique_values\": 64,\n        \"samples\": [\n          70,\n          77,\n          45\n        ],\n        \"semantic_type\": \"\",\n        \"description\": \"\"\n      }\n    },\n    {\n      \"column\": \"estado_civil\",\n      \"properties\": {\n        \"dtype\": \"category\",\n        \"num_unique_values\": 3,\n        \"samples\": [\n          \"casado (a)\",\n          \"soltero (a)\",\n          \"divorciado (a)\"\n        ],\n        \"semantic_type\": \"\",\n        \"description\": \"\"\n      }\n    },\n    {\n      \"column\": \"escolaridad\",\n      \"properties\": {\n        \"dtype\": \"category\",\n        \"num_unique_values\": 3,\n        \"samples\": [\n          \"superior\",\n          \"secundaria\",\n          \"primaria\"\n        ],\n        \"semantic_type\": \"\",\n        \"description\": \"\"\n      }\n    },\n    {\n      \"column\": \"default\",\n      \"properties\": {\n        \"dtype\": \"category\",\n        \"num_unique_values\": 2,\n        \"samples\": [\n          \"si\",\n          \"no\"\n        ],\n        \"semantic_type\": \"\",\n        \"description\": \"\"\n      }\n    },\n    {\n      \"column\": \"saldo\",\n      \"properties\": {\n        \"dtype\": \"number\",\n        \"std\": 2690,\n        \"min\": -1206,\n        \"max\": 27069,\n        \"num_unique_values\": 946,\n        \"samples\": [\n          1148,\n          -247\n        ],\n        \"semantic_type\": \"\",\n        \"description\": \"\"\n      }\n    },\n    {\n      \"column\": \"prestatario\",\n      \"properties\": {\n        \"dtype\": \"category\",\n        \"num_unique_values\": 2,\n        \"samples\": [\n          \"si\",\n          \"no\"\n        ],\n        \"semantic_type\": \"\",\n        \"description\": \"\"\n      }\n    },\n    {\n      \"column\": \"ultimo_contacto\",\n      \"properties\": {\n        \"dtype\": \"number\",\n        \"std\": 347,\n        \"min\": 5,\n        \"max\": 3025,\n        \"num_unique_values\": 646,\n        \"samples\": [\n          1006,\n          1060\n        ],\n        \"semantic_type\": \"\",\n        \"description\": \"\"\n      }\n    },\n    {\n      \"column\": \"ct_contactos\",\n      \"properties\": {\n        \"dtype\": \"number\",\n        \"std\": 2,\n        \"min\": 1,\n        \"max\": 32,\n        \"num_unique_values\": 21,\n        \"samples\": [\n          1,\n          24\n        ],\n        \"semantic_type\": \"\",\n        \"description\": \"\"\n      }\n    },\n    {\n      \"column\": \"adherencia_inversion\",\n      \"properties\": {\n        \"dtype\": \"category\",\n        \"num_unique_values\": 2,\n        \"samples\": [\n          \"no\",\n          \"si\"\n        ],\n        \"semantic_type\": \"\",\n        \"description\": \"\"\n      }\n    }\n  ]\n}"
            }
          },
          "metadata": {},
          "execution_count": 58
        }
      ]
    },
    {
      "cell_type": "markdown",
      "source": [
        "Para crear modelos de clasificación, necesitamos utilizar datos de calidad, sin inconsistencias y sin datos faltantes. Verificaremos si existen datos nulos y el tipo de datos de cada columna en la base de datos utilizando el método [`info()`](https://pandas.pydata.org/docs/reference/api/pandas.DataFrame.info.html)."
      ],
      "metadata": {
        "id": "y5VuhIoQQC51"
      }
    },
    {
      "cell_type": "code",
      "source": [
        "datos.info()"
      ],
      "metadata": {
        "colab": {
          "base_uri": "https://localhost:8080/"
        },
        "id": "N_tVp_J4bCYM",
        "outputId": "58dbded1-7b09-4e60-aac3-6391e0ddc965"
      },
      "execution_count": 59,
      "outputs": [
        {
          "output_type": "stream",
          "name": "stdout",
          "text": [
            "<class 'pandas.core.frame.DataFrame'>\n",
            "RangeIndex: 1268 entries, 0 to 1267\n",
            "Data columns (total 9 columns):\n",
            " #   Column                Non-Null Count  Dtype \n",
            "---  ------                --------------  ----- \n",
            " 0   edad                  1268 non-null   int64 \n",
            " 1   estado_civil          1268 non-null   object\n",
            " 2   escolaridad           1268 non-null   object\n",
            " 3   default               1268 non-null   object\n",
            " 4   saldo                 1268 non-null   int64 \n",
            " 5   prestatario           1268 non-null   object\n",
            " 6   ultimo_contacto       1268 non-null   int64 \n",
            " 7   ct_contactos          1268 non-null   int64 \n",
            " 8   adherencia_inversion  1268 non-null   object\n",
            "dtypes: int64(4), object(5)\n",
            "memory usage: 89.3+ KB\n"
          ]
        }
      ]
    },
    {
      "cell_type": "code",
      "source": [
        "import plotly.express as px"
      ],
      "metadata": {
        "id": "C5GX4iFHBPaC"
      },
      "execution_count": 60,
      "outputs": []
    },
    {
      "cell_type": "code",
      "source": [
        "px.histogram(datos, x='adherencia_inversion', text_auto=True)"
      ],
      "metadata": {
        "id": "8NNdUkpsBPOe",
        "colab": {
          "base_uri": "https://localhost:8080/",
          "height": 542
        },
        "outputId": "67a6c749-568b-4fcd-8e45-560ad33e3899"
      },
      "execution_count": 61,
      "outputs": [
        {
          "output_type": "display_data",
          "data": {
            "text/html": [
              "<html>\n",
              "<head><meta charset=\"utf-8\" /></head>\n",
              "<body>\n",
              "    <div>            <script src=\"https://cdnjs.cloudflare.com/ajax/libs/mathjax/2.7.5/MathJax.js?config=TeX-AMS-MML_SVG\"></script><script type=\"text/javascript\">if (window.MathJax && window.MathJax.Hub && window.MathJax.Hub.Config) {window.MathJax.Hub.Config({SVG: {font: \"STIX-Web\"}});}</script>                <script type=\"text/javascript\">window.PlotlyConfig = {MathJaxConfig: 'local'};</script>\n",
              "        <script charset=\"utf-8\" src=\"https://cdn.plot.ly/plotly-2.35.2.min.js\"></script>                <div id=\"02495cac-a184-4597-9309-606a449792d4\" class=\"plotly-graph-div\" style=\"height:525px; width:100%;\"></div>            <script type=\"text/javascript\">                                    window.PLOTLYENV=window.PLOTLYENV || {};                                    if (document.getElementById(\"02495cac-a184-4597-9309-606a449792d4\")) {                    Plotly.newPlot(                        \"02495cac-a184-4597-9309-606a449792d4\",                        [{\"alignmentgroup\":\"True\",\"bingroup\":\"x\",\"hovertemplate\":\"adherencia_inversion=%{x}\\u003cbr\\u003ecount=%{y}\\u003cextra\\u003e\\u003c\\u002fextra\\u003e\",\"legendgroup\":\"\",\"marker\":{\"color\":\"#636efa\",\"pattern\":{\"shape\":\"\"}},\"name\":\"\",\"offsetgroup\":\"\",\"orientation\":\"v\",\"showlegend\":false,\"texttemplate\":\"%{value}\",\"x\":[\"si\",\"si\",\"no\",\"si\",\"si\",\"si\",\"no\",\"no\",\"no\",\"no\",\"si\",\"no\",\"si\",\"no\",\"no\",\"si\",\"no\",\"no\",\"no\",\"si\",\"no\",\"no\",\"no\",\"si\",\"no\",\"si\",\"no\",\"si\",\"si\",\"si\",\"si\",\"no\",\"no\",\"no\",\"no\",\"no\",\"no\",\"no\",\"no\",\"si\",\"no\",\"no\",\"no\",\"no\",\"no\",\"no\",\"si\",\"no\",\"si\",\"no\",\"si\",\"no\",\"no\",\"si\",\"si\",\"si\",\"no\",\"si\",\"no\",\"no\",\"no\",\"no\",\"no\",\"no\",\"no\",\"no\",\"no\",\"no\",\"no\",\"si\",\"no\",\"no\",\"no\",\"no\",\"si\",\"no\",\"si\",\"si\",\"no\",\"no\",\"si\",\"si\",\"no\",\"no\",\"no\",\"no\",\"si\",\"si\",\"si\",\"si\",\"si\",\"no\",\"si\",\"si\",\"si\",\"no\",\"no\",\"no\",\"no\",\"no\",\"no\",\"si\",\"si\",\"no\",\"si\",\"si\",\"no\",\"no\",\"si\",\"no\",\"no\",\"no\",\"no\",\"si\",\"no\",\"si\",\"no\",\"no\",\"no\",\"si\",\"si\",\"no\",\"no\",\"si\",\"si\",\"no\",\"no\",\"si\",\"no\",\"si\",\"no\",\"si\",\"si\",\"no\",\"no\",\"no\",\"si\",\"si\",\"no\",\"si\",\"si\",\"si\",\"si\",\"si\",\"no\",\"si\",\"si\",\"si\",\"si\",\"si\",\"no\",\"no\",\"no\",\"no\",\"no\",\"si\",\"no\",\"no\",\"no\",\"no\",\"no\",\"no\",\"no\",\"si\",\"no\",\"no\",\"no\",\"si\",\"si\",\"si\",\"no\",\"no\",\"no\",\"no\",\"no\",\"si\",\"si\",\"no\",\"no\",\"si\",\"no\",\"si\",\"no\",\"si\",\"si\",\"no\",\"no\",\"si\",\"si\",\"no\",\"no\",\"si\",\"si\",\"no\",\"no\",\"no\",\"no\",\"si\",\"no\",\"no\",\"si\",\"si\",\"no\",\"no\",\"no\",\"si\",\"si\",\"no\",\"si\",\"no\",\"si\",\"no\",\"si\",\"no\",\"no\",\"no\",\"si\",\"no\",\"no\",\"si\",\"no\",\"si\",\"si\",\"no\",\"no\",\"no\",\"si\",\"si\",\"si\",\"no\",\"no\",\"no\",\"no\",\"si\",\"no\",\"si\",\"si\",\"no\",\"no\",\"si\",\"si\",\"no\",\"no\",\"no\",\"no\",\"no\",\"no\",\"no\",\"no\",\"no\",\"no\",\"no\",\"no\",\"no\",\"no\",\"no\",\"no\",\"si\",\"no\",\"no\",\"si\",\"si\",\"no\",\"si\",\"no\",\"no\",\"si\",\"si\",\"si\",\"si\",\"si\",\"no\",\"si\",\"no\",\"no\",\"si\",\"si\",\"si\",\"si\",\"no\",\"no\",\"si\",\"no\",\"no\",\"no\",\"no\",\"no\",\"si\",\"no\",\"no\",\"no\",\"no\",\"si\",\"no\",\"no\",\"no\",\"no\",\"no\",\"no\",\"si\",\"si\",\"no\",\"no\",\"no\",\"no\",\"si\",\"no\",\"si\",\"no\",\"no\",\"no\",\"no\",\"si\",\"no\",\"no\",\"no\",\"si\",\"no\",\"si\",\"si\",\"si\",\"no\",\"no\",\"si\",\"no\",\"no\",\"no\",\"no\",\"no\",\"no\",\"no\",\"no\",\"si\",\"si\",\"no\",\"no\",\"no\",\"no\",\"si\",\"no\",\"no\",\"no\",\"no\",\"no\",\"si\",\"no\",\"no\",\"si\",\"si\",\"si\",\"no\",\"no\",\"no\",\"si\",\"no\",\"no\",\"si\",\"no\",\"no\",\"si\",\"si\",\"no\",\"no\",\"no\",\"no\",\"si\",\"no\",\"si\",\"si\",\"si\",\"no\",\"no\",\"si\",\"no\",\"si\",\"no\",\"no\",\"no\",\"no\",\"no\",\"no\",\"si\",\"si\",\"si\",\"si\",\"si\",\"no\",\"si\",\"no\",\"no\",\"no\",\"no\",\"no\",\"si\",\"no\",\"no\",\"si\",\"no\",\"no\",\"no\",\"si\",\"si\",\"si\",\"si\",\"si\",\"no\",\"no\",\"no\",\"si\",\"no\",\"si\",\"si\",\"no\",\"no\",\"no\",\"no\",\"si\",\"si\",\"no\",\"no\",\"no\",\"no\",\"si\",\"no\",\"no\",\"si\",\"si\",\"no\",\"no\",\"no\",\"si\",\"si\",\"si\",\"si\",\"si\",\"no\",\"si\",\"no\",\"no\",\"si\",\"no\",\"no\",\"no\",\"no\",\"no\",\"no\",\"no\",\"no\",\"no\",\"si\",\"no\",\"si\",\"no\",\"no\",\"si\",\"no\",\"no\",\"no\",\"no\",\"no\",\"si\",\"no\",\"no\",\"no\",\"si\",\"si\",\"si\",\"no\",\"si\",\"no\",\"no\",\"no\",\"si\",\"no\",\"si\",\"si\",\"no\",\"si\",\"si\",\"si\",\"no\",\"si\",\"no\",\"no\",\"si\",\"no\",\"si\",\"si\",\"no\",\"no\",\"no\",\"si\",\"no\",\"no\",\"si\",\"si\",\"si\",\"no\",\"no\",\"no\",\"si\",\"no\",\"no\",\"no\",\"no\",\"no\",\"no\",\"no\",\"si\",\"si\",\"no\",\"no\",\"no\",\"si\",\"no\",\"si\",\"no\",\"si\",\"no\",\"no\",\"no\",\"no\",\"si\",\"si\",\"si\",\"no\",\"no\",\"no\",\"si\",\"no\",\"no\",\"no\",\"no\",\"no\",\"si\",\"si\",\"si\",\"no\",\"si\",\"no\",\"si\",\"no\",\"no\",\"si\",\"si\",\"no\",\"si\",\"si\",\"no\",\"si\",\"no\",\"no\",\"no\",\"no\",\"si\",\"no\",\"no\",\"si\",\"si\",\"si\",\"no\",\"no\",\"no\",\"no\",\"no\",\"no\",\"si\",\"no\",\"no\",\"si\",\"no\",\"si\",\"no\",\"no\",\"no\",\"no\",\"no\",\"no\",\"no\",\"no\",\"no\",\"no\",\"no\",\"si\",\"no\",\"no\",\"si\",\"no\",\"si\",\"no\",\"no\",\"si\",\"no\",\"si\",\"si\",\"no\",\"no\",\"si\",\"no\",\"no\",\"si\",\"no\",\"no\",\"si\",\"si\",\"no\",\"si\",\"no\",\"si\",\"si\",\"no\",\"no\",\"si\",\"si\",\"no\",\"si\",\"si\",\"si\",\"si\",\"si\",\"no\",\"si\",\"no\",\"si\",\"si\",\"no\",\"no\",\"no\",\"no\",\"si\",\"no\",\"no\",\"no\",\"no\",\"si\",\"no\",\"no\",\"si\",\"no\",\"no\",\"no\",\"si\",\"no\",\"si\",\"no\",\"no\",\"no\",\"no\",\"si\",\"no\",\"si\",\"si\",\"si\",\"si\",\"no\",\"no\",\"no\",\"no\",\"no\",\"no\",\"si\",\"no\",\"si\",\"no\",\"no\",\"no\",\"no\",\"no\",\"no\",\"no\",\"si\",\"si\",\"no\",\"no\",\"no\",\"no\",\"si\",\"no\",\"no\",\"no\",\"no\",\"no\",\"no\",\"no\",\"si\",\"no\",\"si\",\"no\",\"no\",\"no\",\"si\",\"si\",\"no\",\"no\",\"si\",\"no\",\"no\",\"no\",\"no\",\"no\",\"no\",\"si\",\"si\",\"si\",\"no\",\"no\",\"no\",\"no\",\"si\",\"no\",\"si\",\"si\",\"si\",\"no\",\"no\",\"no\",\"no\",\"si\",\"si\",\"si\",\"no\",\"si\",\"si\",\"no\",\"no\",\"no\",\"no\",\"si\",\"no\",\"no\",\"no\",\"si\",\"no\",\"no\",\"si\",\"si\",\"si\",\"no\",\"no\",\"no\",\"no\",\"si\",\"no\",\"si\",\"no\",\"no\",\"si\",\"no\",\"si\",\"si\",\"si\",\"si\",\"no\",\"si\",\"no\",\"no\",\"si\",\"no\",\"no\",\"no\",\"no\",\"si\",\"no\",\"no\",\"no\",\"no\",\"no\",\"si\",\"si\",\"no\",\"si\",\"no\",\"no\",\"no\",\"no\",\"no\",\"si\",\"no\",\"si\",\"si\",\"no\",\"no\",\"si\",\"si\",\"si\",\"no\",\"no\",\"si\",\"no\",\"no\",\"no\",\"no\",\"no\",\"no\",\"si\",\"no\",\"no\",\"no\",\"si\",\"no\",\"no\",\"si\",\"si\",\"no\",\"si\",\"no\",\"si\",\"no\",\"si\",\"no\",\"si\",\"no\",\"si\",\"no\",\"si\",\"si\",\"si\",\"no\",\"no\",\"si\",\"no\",\"no\",\"no\",\"no\",\"no\",\"no\",\"no\",\"si\",\"si\",\"no\",\"si\",\"no\",\"no\",\"si\",\"no\",\"no\",\"si\",\"si\",\"no\",\"si\",\"no\",\"si\",\"no\",\"no\",\"no\",\"no\",\"si\",\"no\",\"no\",\"si\",\"si\",\"no\",\"no\",\"no\",\"no\",\"no\",\"no\",\"no\",\"si\",\"no\",\"no\",\"no\",\"si\",\"si\",\"no\",\"no\",\"no\",\"si\",\"si\",\"si\",\"no\",\"si\",\"si\",\"no\",\"no\",\"no\",\"si\",\"no\",\"no\",\"si\",\"si\",\"no\",\"no\",\"si\",\"no\",\"no\",\"no\",\"no\",\"no\",\"no\",\"si\",\"si\",\"si\",\"no\",\"no\",\"si\",\"si\",\"si\",\"no\",\"no\",\"no\",\"no\",\"no\",\"no\",\"no\",\"si\",\"no\",\"si\",\"si\",\"si\",\"si\",\"no\",\"no\",\"no\",\"si\",\"no\",\"no\",\"no\",\"si\",\"no\",\"no\",\"no\",\"no\",\"si\",\"no\",\"si\",\"si\",\"no\",\"si\",\"no\",\"no\",\"si\",\"no\",\"no\",\"si\",\"si\",\"no\",\"no\",\"no\",\"no\",\"si\",\"si\",\"no\",\"si\",\"si\",\"no\",\"si\",\"si\",\"si\",\"no\",\"no\",\"si\",\"si\",\"no\",\"no\",\"no\",\"si\",\"si\",\"si\",\"si\",\"si\",\"si\",\"no\",\"no\",\"no\",\"si\",\"no\",\"si\",\"si\",\"no\",\"no\",\"si\",\"no\",\"si\",\"si\",\"no\",\"si\",\"no\",\"si\",\"no\",\"no\",\"no\",\"no\",\"si\",\"si\",\"si\",\"si\",\"si\",\"no\",\"no\",\"si\",\"si\",\"no\",\"no\",\"no\",\"no\",\"no\",\"si\",\"no\",\"no\",\"si\",\"si\",\"no\",\"no\",\"no\",\"no\",\"no\",\"si\",\"no\",\"no\",\"no\",\"no\",\"no\",\"no\",\"no\",\"no\",\"si\",\"si\",\"si\",\"no\",\"si\",\"si\",\"no\",\"si\",\"si\",\"no\",\"no\",\"no\",\"si\",\"no\",\"no\",\"no\",\"no\",\"si\",\"si\",\"no\",\"no\",\"si\",\"si\",\"si\",\"si\",\"no\",\"si\",\"si\",\"si\",\"si\",\"si\",\"no\",\"si\",\"no\",\"si\",\"no\",\"no\",\"si\",\"no\",\"no\",\"no\",\"no\",\"si\",\"no\",\"si\",\"si\",\"no\",\"no\",\"si\",\"si\",\"si\",\"si\",\"no\",\"no\",\"si\",\"no\",\"no\",\"no\",\"no\",\"si\",\"si\",\"no\",\"si\",\"no\",\"si\",\"no\",\"no\",\"si\",\"si\",\"no\",\"no\",\"no\",\"no\",\"no\",\"no\",\"si\",\"no\",\"si\",\"no\",\"no\",\"si\",\"no\",\"no\",\"no\",\"si\",\"no\",\"si\",\"si\",\"no\",\"si\",\"no\",\"no\",\"no\",\"no\",\"no\",\"si\",\"si\",\"si\",\"no\",\"no\",\"si\",\"no\",\"no\",\"no\",\"si\",\"no\",\"no\",\"si\",\"si\",\"si\",\"no\",\"si\",\"no\",\"no\",\"no\",\"si\",\"no\",\"si\",\"no\",\"no\",\"si\",\"no\",\"no\",\"si\",\"no\",\"no\",\"si\",\"si\",\"si\",\"no\",\"no\",\"si\",\"si\",\"no\",\"si\",\"si\",\"si\",\"no\",\"no\",\"si\",\"no\",\"no\",\"no\",\"si\",\"no\",\"no\",\"si\",\"si\",\"si\",\"si\",\"no\",\"no\",\"si\",\"no\",\"si\",\"no\",\"no\",\"no\",\"no\",\"no\",\"no\",\"si\",\"si\",\"no\",\"si\",\"no\",\"no\",\"no\",\"si\",\"si\",\"no\",\"no\",\"no\",\"no\",\"no\",\"si\",\"si\",\"si\",\"no\",\"no\",\"no\",\"si\",\"no\",\"si\",\"no\",\"si\",\"no\",\"no\",\"no\",\"no\",\"no\",\"si\",\"no\",\"si\",\"si\",\"si\",\"no\",\"no\",\"si\",\"no\",\"si\",\"no\",\"si\",\"no\",\"si\",\"no\",\"no\",\"no\",\"no\",\"no\",\"no\",\"si\",\"no\",\"no\",\"si\",\"si\",\"no\",\"si\",\"no\",\"si\",\"no\",\"si\",\"no\",\"no\",\"si\",\"no\",\"si\",\"no\",\"no\",\"no\",\"no\",\"si\",\"no\",\"si\",\"si\",\"no\",\"si\",\"no\",\"si\",\"no\",\"si\",\"si\",\"no\",\"no\",\"si\",\"no\",\"no\",\"si\",\"si\",\"si\",\"si\",\"si\"],\"xaxis\":\"x\",\"yaxis\":\"y\",\"type\":\"histogram\"}],                        {\"template\":{\"data\":{\"histogram2dcontour\":[{\"type\":\"histogram2dcontour\",\"colorbar\":{\"outlinewidth\":0,\"ticks\":\"\"},\"colorscale\":[[0.0,\"#0d0887\"],[0.1111111111111111,\"#46039f\"],[0.2222222222222222,\"#7201a8\"],[0.3333333333333333,\"#9c179e\"],[0.4444444444444444,\"#bd3786\"],[0.5555555555555556,\"#d8576b\"],[0.6666666666666666,\"#ed7953\"],[0.7777777777777778,\"#fb9f3a\"],[0.8888888888888888,\"#fdca26\"],[1.0,\"#f0f921\"]]}],\"choropleth\":[{\"type\":\"choropleth\",\"colorbar\":{\"outlinewidth\":0,\"ticks\":\"\"}}],\"histogram2d\":[{\"type\":\"histogram2d\",\"colorbar\":{\"outlinewidth\":0,\"ticks\":\"\"},\"colorscale\":[[0.0,\"#0d0887\"],[0.1111111111111111,\"#46039f\"],[0.2222222222222222,\"#7201a8\"],[0.3333333333333333,\"#9c179e\"],[0.4444444444444444,\"#bd3786\"],[0.5555555555555556,\"#d8576b\"],[0.6666666666666666,\"#ed7953\"],[0.7777777777777778,\"#fb9f3a\"],[0.8888888888888888,\"#fdca26\"],[1.0,\"#f0f921\"]]}],\"heatmap\":[{\"type\":\"heatmap\",\"colorbar\":{\"outlinewidth\":0,\"ticks\":\"\"},\"colorscale\":[[0.0,\"#0d0887\"],[0.1111111111111111,\"#46039f\"],[0.2222222222222222,\"#7201a8\"],[0.3333333333333333,\"#9c179e\"],[0.4444444444444444,\"#bd3786\"],[0.5555555555555556,\"#d8576b\"],[0.6666666666666666,\"#ed7953\"],[0.7777777777777778,\"#fb9f3a\"],[0.8888888888888888,\"#fdca26\"],[1.0,\"#f0f921\"]]}],\"heatmapgl\":[{\"type\":\"heatmapgl\",\"colorbar\":{\"outlinewidth\":0,\"ticks\":\"\"},\"colorscale\":[[0.0,\"#0d0887\"],[0.1111111111111111,\"#46039f\"],[0.2222222222222222,\"#7201a8\"],[0.3333333333333333,\"#9c179e\"],[0.4444444444444444,\"#bd3786\"],[0.5555555555555556,\"#d8576b\"],[0.6666666666666666,\"#ed7953\"],[0.7777777777777778,\"#fb9f3a\"],[0.8888888888888888,\"#fdca26\"],[1.0,\"#f0f921\"]]}],\"contourcarpet\":[{\"type\":\"contourcarpet\",\"colorbar\":{\"outlinewidth\":0,\"ticks\":\"\"}}],\"contour\":[{\"type\":\"contour\",\"colorbar\":{\"outlinewidth\":0,\"ticks\":\"\"},\"colorscale\":[[0.0,\"#0d0887\"],[0.1111111111111111,\"#46039f\"],[0.2222222222222222,\"#7201a8\"],[0.3333333333333333,\"#9c179e\"],[0.4444444444444444,\"#bd3786\"],[0.5555555555555556,\"#d8576b\"],[0.6666666666666666,\"#ed7953\"],[0.7777777777777778,\"#fb9f3a\"],[0.8888888888888888,\"#fdca26\"],[1.0,\"#f0f921\"]]}],\"surface\":[{\"type\":\"surface\",\"colorbar\":{\"outlinewidth\":0,\"ticks\":\"\"},\"colorscale\":[[0.0,\"#0d0887\"],[0.1111111111111111,\"#46039f\"],[0.2222222222222222,\"#7201a8\"],[0.3333333333333333,\"#9c179e\"],[0.4444444444444444,\"#bd3786\"],[0.5555555555555556,\"#d8576b\"],[0.6666666666666666,\"#ed7953\"],[0.7777777777777778,\"#fb9f3a\"],[0.8888888888888888,\"#fdca26\"],[1.0,\"#f0f921\"]]}],\"mesh3d\":[{\"type\":\"mesh3d\",\"colorbar\":{\"outlinewidth\":0,\"ticks\":\"\"}}],\"scatter\":[{\"fillpattern\":{\"fillmode\":\"overlay\",\"size\":10,\"solidity\":0.2},\"type\":\"scatter\"}],\"parcoords\":[{\"type\":\"parcoords\",\"line\":{\"colorbar\":{\"outlinewidth\":0,\"ticks\":\"\"}}}],\"scatterpolargl\":[{\"type\":\"scatterpolargl\",\"marker\":{\"colorbar\":{\"outlinewidth\":0,\"ticks\":\"\"}}}],\"bar\":[{\"error_x\":{\"color\":\"#2a3f5f\"},\"error_y\":{\"color\":\"#2a3f5f\"},\"marker\":{\"line\":{\"color\":\"#E5ECF6\",\"width\":0.5},\"pattern\":{\"fillmode\":\"overlay\",\"size\":10,\"solidity\":0.2}},\"type\":\"bar\"}],\"scattergeo\":[{\"type\":\"scattergeo\",\"marker\":{\"colorbar\":{\"outlinewidth\":0,\"ticks\":\"\"}}}],\"scatterpolar\":[{\"type\":\"scatterpolar\",\"marker\":{\"colorbar\":{\"outlinewidth\":0,\"ticks\":\"\"}}}],\"histogram\":[{\"marker\":{\"pattern\":{\"fillmode\":\"overlay\",\"size\":10,\"solidity\":0.2}},\"type\":\"histogram\"}],\"scattergl\":[{\"type\":\"scattergl\",\"marker\":{\"colorbar\":{\"outlinewidth\":0,\"ticks\":\"\"}}}],\"scatter3d\":[{\"type\":\"scatter3d\",\"line\":{\"colorbar\":{\"outlinewidth\":0,\"ticks\":\"\"}},\"marker\":{\"colorbar\":{\"outlinewidth\":0,\"ticks\":\"\"}}}],\"scattermapbox\":[{\"type\":\"scattermapbox\",\"marker\":{\"colorbar\":{\"outlinewidth\":0,\"ticks\":\"\"}}}],\"scatterternary\":[{\"type\":\"scatterternary\",\"marker\":{\"colorbar\":{\"outlinewidth\":0,\"ticks\":\"\"}}}],\"scattercarpet\":[{\"type\":\"scattercarpet\",\"marker\":{\"colorbar\":{\"outlinewidth\":0,\"ticks\":\"\"}}}],\"carpet\":[{\"aaxis\":{\"endlinecolor\":\"#2a3f5f\",\"gridcolor\":\"white\",\"linecolor\":\"white\",\"minorgridcolor\":\"white\",\"startlinecolor\":\"#2a3f5f\"},\"baxis\":{\"endlinecolor\":\"#2a3f5f\",\"gridcolor\":\"white\",\"linecolor\":\"white\",\"minorgridcolor\":\"white\",\"startlinecolor\":\"#2a3f5f\"},\"type\":\"carpet\"}],\"table\":[{\"cells\":{\"fill\":{\"color\":\"#EBF0F8\"},\"line\":{\"color\":\"white\"}},\"header\":{\"fill\":{\"color\":\"#C8D4E3\"},\"line\":{\"color\":\"white\"}},\"type\":\"table\"}],\"barpolar\":[{\"marker\":{\"line\":{\"color\":\"#E5ECF6\",\"width\":0.5},\"pattern\":{\"fillmode\":\"overlay\",\"size\":10,\"solidity\":0.2}},\"type\":\"barpolar\"}],\"pie\":[{\"automargin\":true,\"type\":\"pie\"}]},\"layout\":{\"autotypenumbers\":\"strict\",\"colorway\":[\"#636efa\",\"#EF553B\",\"#00cc96\",\"#ab63fa\",\"#FFA15A\",\"#19d3f3\",\"#FF6692\",\"#B6E880\",\"#FF97FF\",\"#FECB52\"],\"font\":{\"color\":\"#2a3f5f\"},\"hovermode\":\"closest\",\"hoverlabel\":{\"align\":\"left\"},\"paper_bgcolor\":\"white\",\"plot_bgcolor\":\"#E5ECF6\",\"polar\":{\"bgcolor\":\"#E5ECF6\",\"angularaxis\":{\"gridcolor\":\"white\",\"linecolor\":\"white\",\"ticks\":\"\"},\"radialaxis\":{\"gridcolor\":\"white\",\"linecolor\":\"white\",\"ticks\":\"\"}},\"ternary\":{\"bgcolor\":\"#E5ECF6\",\"aaxis\":{\"gridcolor\":\"white\",\"linecolor\":\"white\",\"ticks\":\"\"},\"baxis\":{\"gridcolor\":\"white\",\"linecolor\":\"white\",\"ticks\":\"\"},\"caxis\":{\"gridcolor\":\"white\",\"linecolor\":\"white\",\"ticks\":\"\"}},\"coloraxis\":{\"colorbar\":{\"outlinewidth\":0,\"ticks\":\"\"}},\"colorscale\":{\"sequential\":[[0.0,\"#0d0887\"],[0.1111111111111111,\"#46039f\"],[0.2222222222222222,\"#7201a8\"],[0.3333333333333333,\"#9c179e\"],[0.4444444444444444,\"#bd3786\"],[0.5555555555555556,\"#d8576b\"],[0.6666666666666666,\"#ed7953\"],[0.7777777777777778,\"#fb9f3a\"],[0.8888888888888888,\"#fdca26\"],[1.0,\"#f0f921\"]],\"sequentialminus\":[[0.0,\"#0d0887\"],[0.1111111111111111,\"#46039f\"],[0.2222222222222222,\"#7201a8\"],[0.3333333333333333,\"#9c179e\"],[0.4444444444444444,\"#bd3786\"],[0.5555555555555556,\"#d8576b\"],[0.6666666666666666,\"#ed7953\"],[0.7777777777777778,\"#fb9f3a\"],[0.8888888888888888,\"#fdca26\"],[1.0,\"#f0f921\"]],\"diverging\":[[0,\"#8e0152\"],[0.1,\"#c51b7d\"],[0.2,\"#de77ae\"],[0.3,\"#f1b6da\"],[0.4,\"#fde0ef\"],[0.5,\"#f7f7f7\"],[0.6,\"#e6f5d0\"],[0.7,\"#b8e186\"],[0.8,\"#7fbc41\"],[0.9,\"#4d9221\"],[1,\"#276419\"]]},\"xaxis\":{\"gridcolor\":\"white\",\"linecolor\":\"white\",\"ticks\":\"\",\"title\":{\"standoff\":15},\"zerolinecolor\":\"white\",\"automargin\":true,\"zerolinewidth\":2},\"yaxis\":{\"gridcolor\":\"white\",\"linecolor\":\"white\",\"ticks\":\"\",\"title\":{\"standoff\":15},\"zerolinecolor\":\"white\",\"automargin\":true,\"zerolinewidth\":2},\"scene\":{\"xaxis\":{\"backgroundcolor\":\"#E5ECF6\",\"gridcolor\":\"white\",\"linecolor\":\"white\",\"showbackground\":true,\"ticks\":\"\",\"zerolinecolor\":\"white\",\"gridwidth\":2},\"yaxis\":{\"backgroundcolor\":\"#E5ECF6\",\"gridcolor\":\"white\",\"linecolor\":\"white\",\"showbackground\":true,\"ticks\":\"\",\"zerolinecolor\":\"white\",\"gridwidth\":2},\"zaxis\":{\"backgroundcolor\":\"#E5ECF6\",\"gridcolor\":\"white\",\"linecolor\":\"white\",\"showbackground\":true,\"ticks\":\"\",\"zerolinecolor\":\"white\",\"gridwidth\":2}},\"shapedefaults\":{\"line\":{\"color\":\"#2a3f5f\"}},\"annotationdefaults\":{\"arrowcolor\":\"#2a3f5f\",\"arrowhead\":0,\"arrowwidth\":1},\"geo\":{\"bgcolor\":\"white\",\"landcolor\":\"#E5ECF6\",\"subunitcolor\":\"white\",\"showland\":true,\"showlakes\":true,\"lakecolor\":\"white\"},\"title\":{\"x\":0.05},\"mapbox\":{\"style\":\"light\"}}},\"xaxis\":{\"anchor\":\"y\",\"domain\":[0.0,1.0],\"title\":{\"text\":\"adherencia_inversion\"}},\"yaxis\":{\"anchor\":\"x\",\"domain\":[0.0,1.0],\"title\":{\"text\":\"count\"}},\"legend\":{\"tracegroupgap\":0},\"margin\":{\"t\":60},\"barmode\":\"relative\"},                        {\"responsive\": true}                    ).then(function(){\n",
              "                            \n",
              "var gd = document.getElementById('02495cac-a184-4597-9309-606a449792d4');\n",
              "var x = new MutationObserver(function (mutations, observer) {{\n",
              "        var display = window.getComputedStyle(gd).display;\n",
              "        if (!display || display === 'none') {{\n",
              "            console.log([gd, 'removed!']);\n",
              "            Plotly.purge(gd);\n",
              "            observer.disconnect();\n",
              "        }}\n",
              "}});\n",
              "\n",
              "// Listen for the removal of the full notebook cells\n",
              "var notebookContainer = gd.closest('#notebook-container');\n",
              "if (notebookContainer) {{\n",
              "    x.observe(notebookContainer, {childList: true});\n",
              "}}\n",
              "\n",
              "// Listen for the clearing of the current output cell\n",
              "var outputEl = gd.closest('.output');\n",
              "if (outputEl) {{\n",
              "    x.observe(outputEl, {childList: true});\n",
              "}}\n",
              "\n",
              "                        })                };                            </script>        </div>\n",
              "</body>\n",
              "</html>"
            ]
          },
          "metadata": {}
        }
      ]
    },
    {
      "cell_type": "markdown",
      "source": [
        "## Explorando los datos"
      ],
      "metadata": {
        "id": "sgiS9acdmOQn"
      }
    },
    {
      "cell_type": "markdown",
      "source": [
        "Una etapa muy importante en proyectos de *machine learning* es la exploración y comprensión de los datos, conocida como **análisis exploratorio**. Podemos utilizar gráficos para verificar qué información contiene cada una de las columnas de la base de datos, así como identificar inconsistencias y patrones que puedan existir.  \n",
        "\n",
        "Exploraremos cada una de las columnas de la base de datos utilizando la biblioteca `plotly`. Comenzaremos con las variables categóricas y luego analizaremos las variables numéricas."
      ],
      "metadata": {
        "id": "rMyhhPIMQnWt"
      }
    },
    {
      "cell_type": "markdown",
      "source": [
        "### Variables categóricas"
      ],
      "metadata": {
        "id": "I6m3meBiMLk8"
      }
    },
    {
      "cell_type": "code",
      "source": [
        "px.histogram(datos, x='estado_civil', text_auto=True, color='adherencia_inversion', barmode='group')"
      ],
      "metadata": {
        "id": "ncsqGWGRBSAO",
        "colab": {
          "base_uri": "https://localhost:8080/",
          "height": 542
        },
        "outputId": "50014d4b-f1bb-47c5-85c1-b7aa796f8cf2"
      },
      "execution_count": 62,
      "outputs": [
        {
          "output_type": "display_data",
          "data": {
            "text/html": [
              "<html>\n",
              "<head><meta charset=\"utf-8\" /></head>\n",
              "<body>\n",
              "    <div>            <script src=\"https://cdnjs.cloudflare.com/ajax/libs/mathjax/2.7.5/MathJax.js?config=TeX-AMS-MML_SVG\"></script><script type=\"text/javascript\">if (window.MathJax && window.MathJax.Hub && window.MathJax.Hub.Config) {window.MathJax.Hub.Config({SVG: {font: \"STIX-Web\"}});}</script>                <script type=\"text/javascript\">window.PlotlyConfig = {MathJaxConfig: 'local'};</script>\n",
              "        <script charset=\"utf-8\" src=\"https://cdn.plot.ly/plotly-2.35.2.min.js\"></script>                <div id=\"780be83d-f0a5-4988-bb68-56a4126c965e\" class=\"plotly-graph-div\" style=\"height:525px; width:100%;\"></div>            <script type=\"text/javascript\">                                    window.PLOTLYENV=window.PLOTLYENV || {};                                    if (document.getElementById(\"780be83d-f0a5-4988-bb68-56a4126c965e\")) {                    Plotly.newPlot(                        \"780be83d-f0a5-4988-bb68-56a4126c965e\",                        [{\"alignmentgroup\":\"True\",\"bingroup\":\"x\",\"hovertemplate\":\"adherencia_inversion=si\\u003cbr\\u003eestado_civil=%{x}\\u003cbr\\u003ecount=%{y}\\u003cextra\\u003e\\u003c\\u002fextra\\u003e\",\"legendgroup\":\"si\",\"marker\":{\"color\":\"#636efa\",\"pattern\":{\"shape\":\"\"}},\"name\":\"si\",\"offsetgroup\":\"si\",\"orientation\":\"v\",\"showlegend\":true,\"texttemplate\":\"%{value}\",\"x\":[\"casado (a)\",\"casado (a)\",\"divorciado (a)\",\"casado (a)\",\"soltero (a)\",\"soltero (a)\",\"casado (a)\",\"divorciado (a)\",\"casado (a)\",\"divorciado (a)\",\"casado (a)\",\"soltero (a)\",\"soltero (a)\",\"casado (a)\",\"soltero (a)\",\"casado (a)\",\"casado (a)\",\"casado (a)\",\"casado (a)\",\"casado (a)\",\"casado (a)\",\"casado (a)\",\"casado (a)\",\"soltero (a)\",\"soltero (a)\",\"divorciado (a)\",\"divorciado (a)\",\"soltero (a)\",\"divorciado (a)\",\"soltero (a)\",\"soltero (a)\",\"soltero (a)\",\"soltero (a)\",\"soltero (a)\",\"casado (a)\",\"casado (a)\",\"casado (a)\",\"casado (a)\",\"casado (a)\",\"soltero (a)\",\"soltero (a)\",\"casado (a)\",\"soltero (a)\",\"casado (a)\",\"casado (a)\",\"casado (a)\",\"divorciado (a)\",\"casado (a)\",\"soltero (a)\",\"soltero (a)\",\"casado (a)\",\"casado (a)\",\"casado (a)\",\"casado (a)\",\"soltero (a)\",\"casado (a)\",\"divorciado (a)\",\"casado (a)\",\"divorciado (a)\",\"casado (a)\",\"soltero (a)\",\"casado (a)\",\"casado (a)\",\"divorciado (a)\",\"divorciado (a)\",\"soltero (a)\",\"casado (a)\",\"casado (a)\",\"casado (a)\",\"soltero (a)\",\"divorciado (a)\",\"soltero (a)\",\"casado (a)\",\"casado (a)\",\"casado (a)\",\"divorciado (a)\",\"divorciado (a)\",\"casado (a)\",\"soltero (a)\",\"casado (a)\",\"soltero (a)\",\"casado (a)\",\"casado (a)\",\"casado (a)\",\"casado (a)\",\"casado (a)\",\"divorciado (a)\",\"divorciado (a)\",\"casado (a)\",\"divorciado (a)\",\"casado (a)\",\"casado (a)\",\"casado (a)\",\"soltero (a)\",\"casado (a)\",\"casado (a)\",\"casado (a)\",\"soltero (a)\",\"soltero (a)\",\"soltero (a)\",\"casado (a)\",\"casado (a)\",\"divorciado (a)\",\"casado (a)\",\"soltero (a)\",\"casado (a)\",\"casado (a)\",\"soltero (a)\",\"divorciado (a)\",\"soltero (a)\",\"casado (a)\",\"soltero (a)\",\"casado (a)\",\"soltero (a)\",\"casado (a)\",\"soltero (a)\",\"soltero (a)\",\"casado (a)\",\"casado (a)\",\"casado (a)\",\"casado (a)\",\"soltero (a)\",\"divorciado (a)\",\"soltero (a)\",\"soltero (a)\",\"soltero (a)\",\"casado (a)\",\"soltero (a)\",\"soltero (a)\",\"soltero (a)\",\"soltero (a)\",\"casado (a)\",\"soltero (a)\",\"divorciado (a)\",\"casado (a)\",\"casado (a)\",\"casado (a)\",\"divorciado (a)\",\"casado (a)\",\"soltero (a)\",\"casado (a)\",\"casado (a)\",\"soltero (a)\",\"casado (a)\",\"soltero (a)\",\"casado (a)\",\"casado (a)\",\"soltero (a)\",\"casado (a)\",\"soltero (a)\",\"soltero (a)\",\"casado (a)\",\"soltero (a)\",\"casado (a)\",\"soltero (a)\",\"divorciado (a)\",\"soltero (a)\",\"soltero (a)\",\"soltero (a)\",\"casado (a)\",\"casado (a)\",\"casado (a)\",\"casado (a)\",\"soltero (a)\",\"casado (a)\",\"casado (a)\",\"casado (a)\",\"casado (a)\",\"casado (a)\",\"soltero (a)\",\"soltero (a)\",\"casado (a)\",\"casado (a)\",\"casado (a)\",\"soltero (a)\",\"casado (a)\",\"casado (a)\",\"divorciado (a)\",\"casado (a)\",\"casado (a)\",\"soltero (a)\",\"casado (a)\",\"divorciado (a)\",\"casado (a)\",\"casado (a)\",\"soltero (a)\",\"soltero (a)\",\"divorciado (a)\",\"casado (a)\",\"casado (a)\",\"casado (a)\",\"casado (a)\",\"divorciado (a)\",\"divorciado (a)\",\"soltero (a)\",\"soltero (a)\",\"casado (a)\",\"soltero (a)\",\"soltero (a)\",\"casado (a)\",\"casado (a)\",\"casado (a)\",\"casado (a)\",\"casado (a)\",\"soltero (a)\",\"soltero (a)\",\"divorciado (a)\",\"soltero (a)\",\"divorciado (a)\",\"casado (a)\",\"soltero (a)\",\"casado (a)\",\"divorciado (a)\",\"soltero (a)\",\"casado (a)\",\"casado (a)\",\"soltero (a)\",\"casado (a)\",\"casado (a)\",\"divorciado (a)\",\"casado (a)\",\"soltero (a)\",\"casado (a)\",\"casado (a)\",\"casado (a)\",\"divorciado (a)\",\"casado (a)\",\"soltero (a)\",\"casado (a)\",\"casado (a)\",\"casado (a)\",\"divorciado (a)\",\"casado (a)\",\"soltero (a)\",\"casado (a)\",\"casado (a)\",\"casado (a)\",\"casado (a)\",\"casado (a)\",\"casado (a)\",\"soltero (a)\",\"casado (a)\",\"casado (a)\",\"casado (a)\",\"soltero (a)\",\"casado (a)\",\"casado (a)\",\"casado (a)\",\"casado (a)\",\"divorciado (a)\",\"soltero (a)\",\"casado (a)\",\"casado (a)\",\"casado (a)\",\"divorciado (a)\",\"casado (a)\",\"divorciado (a)\",\"soltero (a)\",\"casado (a)\",\"soltero (a)\",\"soltero (a)\",\"casado (a)\",\"casado (a)\",\"casado (a)\",\"casado (a)\",\"soltero (a)\",\"soltero (a)\",\"casado (a)\",\"casado (a)\",\"casado (a)\",\"soltero (a)\",\"soltero (a)\",\"casado (a)\",\"casado (a)\",\"casado (a)\",\"soltero (a)\",\"casado (a)\",\"casado (a)\",\"casado (a)\",\"casado (a)\",\"divorciado (a)\",\"soltero (a)\",\"casado (a)\",\"divorciado (a)\",\"soltero (a)\",\"soltero (a)\",\"casado (a)\",\"casado (a)\",\"casado (a)\",\"casado (a)\",\"casado (a)\",\"soltero (a)\",\"soltero (a)\",\"casado (a)\",\"soltero (a)\",\"soltero (a)\",\"soltero (a)\",\"divorciado (a)\",\"soltero (a)\",\"casado (a)\",\"divorciado (a)\",\"casado (a)\",\"casado (a)\",\"casado (a)\",\"casado (a)\",\"casado (a)\",\"soltero (a)\",\"casado (a)\",\"casado (a)\",\"casado (a)\",\"casado (a)\",\"soltero (a)\",\"casado (a)\",\"soltero (a)\",\"soltero (a)\",\"divorciado (a)\",\"soltero (a)\",\"soltero (a)\",\"casado (a)\",\"casado (a)\",\"divorciado (a)\",\"casado (a)\",\"soltero (a)\",\"casado (a)\",\"divorciado (a)\",\"soltero (a)\",\"casado (a)\",\"casado (a)\",\"divorciado (a)\",\"casado (a)\",\"casado (a)\",\"casado (a)\",\"soltero (a)\",\"casado (a)\",\"soltero (a)\",\"soltero (a)\",\"soltero (a)\",\"casado (a)\",\"casado (a)\",\"soltero (a)\",\"soltero (a)\",\"casado (a)\",\"casado (a)\",\"soltero (a)\",\"soltero (a)\",\"soltero (a)\",\"casado (a)\",\"casado (a)\",\"casado (a)\",\"casado (a)\",\"divorciado (a)\",\"soltero (a)\",\"divorciado (a)\",\"casado (a)\",\"divorciado (a)\",\"casado (a)\",\"soltero (a)\",\"soltero (a)\",\"divorciado (a)\",\"casado (a)\",\"soltero (a)\",\"soltero (a)\",\"casado (a)\",\"casado (a)\",\"casado (a)\",\"divorciado (a)\",\"soltero (a)\",\"soltero (a)\",\"soltero (a)\",\"casado (a)\",\"soltero (a)\",\"casado (a)\",\"casado (a)\",\"casado (a)\",\"soltero (a)\",\"casado (a)\",\"casado (a)\",\"soltero (a)\",\"soltero (a)\",\"divorciado (a)\",\"soltero (a)\",\"divorciado (a)\",\"divorciado (a)\",\"casado (a)\",\"divorciado (a)\",\"casado (a)\",\"divorciado (a)\",\"divorciado (a)\",\"divorciado (a)\",\"soltero (a)\",\"divorciado (a)\",\"divorciado (a)\",\"soltero (a)\",\"soltero (a)\",\"soltero (a)\",\"casado (a)\",\"divorciado (a)\",\"soltero (a)\",\"casado (a)\",\"divorciado (a)\",\"soltero (a)\",\"soltero (a)\",\"casado (a)\",\"soltero (a)\",\"soltero (a)\",\"soltero (a)\",\"soltero (a)\",\"casado (a)\",\"casado (a)\",\"soltero (a)\",\"divorciado (a)\",\"soltero (a)\",\"casado (a)\",\"casado (a)\",\"casado (a)\",\"casado (a)\",\"soltero (a)\",\"divorciado (a)\",\"casado (a)\",\"casado (a)\",\"casado (a)\",\"soltero (a)\",\"casado (a)\",\"casado (a)\",\"soltero (a)\",\"soltero (a)\",\"casado (a)\",\"soltero (a)\",\"casado (a)\",\"casado (a)\",\"soltero (a)\",\"casado (a)\",\"divorciado (a)\",\"casado (a)\",\"divorciado (a)\",\"soltero (a)\",\"soltero (a)\",\"casado (a)\",\"casado (a)\",\"soltero (a)\",\"divorciado (a)\",\"casado (a)\",\"divorciado (a)\",\"casado (a)\",\"soltero (a)\",\"casado (a)\",\"soltero (a)\",\"divorciado (a)\",\"divorciado (a)\",\"casado (a)\",\"casado (a)\",\"soltero (a)\",\"soltero (a)\",\"casado (a)\",\"casado (a)\",\"casado (a)\",\"casado (a)\",\"divorciado (a)\",\"soltero (a)\",\"casado (a)\",\"soltero (a)\",\"casado (a)\",\"casado (a)\",\"divorciado (a)\",\"casado (a)\",\"casado (a)\",\"casado (a)\",\"soltero (a)\",\"casado (a)\",\"soltero (a)\",\"casado (a)\",\"casado (a)\",\"casado (a)\",\"soltero (a)\",\"divorciado (a)\",\"casado (a)\",\"casado (a)\",\"casado (a)\",\"casado (a)\",\"casado (a)\",\"casado (a)\",\"soltero (a)\",\"soltero (a)\",\"casado (a)\",\"casado (a)\",\"casado (a)\",\"soltero (a)\",\"casado (a)\",\"casado (a)\",\"casado (a)\",\"divorciado (a)\",\"casado (a)\",\"soltero (a)\",\"casado (a)\",\"casado (a)\",\"divorciado (a)\",\"casado (a)\",\"soltero (a)\",\"soltero (a)\",\"soltero (a)\",\"casado (a)\",\"soltero (a)\"],\"xaxis\":\"x\",\"yaxis\":\"y\",\"type\":\"histogram\"},{\"alignmentgroup\":\"True\",\"bingroup\":\"x\",\"hovertemplate\":\"adherencia_inversion=no\\u003cbr\\u003eestado_civil=%{x}\\u003cbr\\u003ecount=%{y}\\u003cextra\\u003e\\u003c\\u002fextra\\u003e\",\"legendgroup\":\"no\",\"marker\":{\"color\":\"#EF553B\",\"pattern\":{\"shape\":\"\"}},\"name\":\"no\",\"offsetgroup\":\"no\",\"orientation\":\"v\",\"showlegend\":true,\"texttemplate\":\"%{value}\",\"x\":[\"soltero (a)\",\"casado (a)\",\"casado (a)\",\"casado (a)\",\"divorciado (a)\",\"casado (a)\",\"casado (a)\",\"soltero (a)\",\"casado (a)\",\"casado (a)\",\"casado (a)\",\"divorciado (a)\",\"soltero (a)\",\"casado (a)\",\"casado (a)\",\"casado (a)\",\"casado (a)\",\"soltero (a)\",\"casado (a)\",\"casado (a)\",\"casado (a)\",\"casado (a)\",\"divorciado (a)\",\"divorciado (a)\",\"casado (a)\",\"casado (a)\",\"casado (a)\",\"casado (a)\",\"casado (a)\",\"divorciado (a)\",\"casado (a)\",\"casado (a)\",\"casado (a)\",\"soltero (a)\",\"casado (a)\",\"soltero (a)\",\"divorciado (a)\",\"soltero (a)\",\"casado (a)\",\"casado (a)\",\"casado (a)\",\"casado (a)\",\"divorciado (a)\",\"casado (a)\",\"casado (a)\",\"casado (a)\",\"casado (a)\",\"casado (a)\",\"casado (a)\",\"casado (a)\",\"soltero (a)\",\"casado (a)\",\"casado (a)\",\"casado (a)\",\"soltero (a)\",\"casado (a)\",\"casado (a)\",\"casado (a)\",\"divorciado (a)\",\"soltero (a)\",\"casado (a)\",\"casado (a)\",\"soltero (a)\",\"casado (a)\",\"casado (a)\",\"casado (a)\",\"soltero (a)\",\"casado (a)\",\"soltero (a)\",\"casado (a)\",\"casado (a)\",\"casado (a)\",\"soltero (a)\",\"casado (a)\",\"casado (a)\",\"soltero (a)\",\"casado (a)\",\"soltero (a)\",\"casado (a)\",\"casado (a)\",\"casado (a)\",\"casado (a)\",\"casado (a)\",\"casado (a)\",\"casado (a)\",\"casado (a)\",\"casado (a)\",\"casado (a)\",\"casado (a)\",\"divorciado (a)\",\"casado (a)\",\"casado (a)\",\"casado (a)\",\"casado (a)\",\"soltero (a)\",\"casado (a)\",\"casado (a)\",\"casado (a)\",\"casado (a)\",\"casado (a)\",\"casado (a)\",\"casado (a)\",\"casado (a)\",\"casado (a)\",\"casado (a)\",\"casado (a)\",\"casado (a)\",\"soltero (a)\",\"soltero (a)\",\"soltero (a)\",\"soltero (a)\",\"soltero (a)\",\"casado (a)\",\"casado (a)\",\"casado (a)\",\"casado (a)\",\"casado (a)\",\"casado (a)\",\"casado (a)\",\"casado (a)\",\"casado (a)\",\"divorciado (a)\",\"casado (a)\",\"casado (a)\",\"casado (a)\",\"casado (a)\",\"casado (a)\",\"soltero (a)\",\"casado (a)\",\"soltero (a)\",\"casado (a)\",\"casado (a)\",\"casado (a)\",\"casado (a)\",\"casado (a)\",\"casado (a)\",\"soltero (a)\",\"casado (a)\",\"casado (a)\",\"casado (a)\",\"soltero (a)\",\"divorciado (a)\",\"casado (a)\",\"soltero (a)\",\"divorciado (a)\",\"casado (a)\",\"soltero (a)\",\"casado (a)\",\"soltero (a)\",\"soltero (a)\",\"casado (a)\",\"soltero (a)\",\"divorciado (a)\",\"divorciado (a)\",\"casado (a)\",\"soltero (a)\",\"casado (a)\",\"soltero (a)\",\"soltero (a)\",\"casado (a)\",\"casado (a)\",\"casado (a)\",\"soltero (a)\",\"casado (a)\",\"soltero (a)\",\"casado (a)\",\"casado (a)\",\"casado (a)\",\"casado (a)\",\"divorciado (a)\",\"soltero (a)\",\"soltero (a)\",\"casado (a)\",\"casado (a)\",\"divorciado (a)\",\"casado (a)\",\"soltero (a)\",\"casado (a)\",\"soltero (a)\",\"divorciado (a)\",\"casado (a)\",\"soltero (a)\",\"soltero (a)\",\"casado (a)\",\"casado (a)\",\"casado (a)\",\"soltero (a)\",\"casado (a)\",\"soltero (a)\",\"divorciado (a)\",\"divorciado (a)\",\"casado (a)\",\"casado (a)\",\"soltero (a)\",\"casado (a)\",\"casado (a)\",\"casado (a)\",\"soltero (a)\",\"divorciado (a)\",\"divorciado (a)\",\"casado (a)\",\"soltero (a)\",\"casado (a)\",\"casado (a)\",\"soltero (a)\",\"casado (a)\",\"divorciado (a)\",\"soltero (a)\",\"casado (a)\",\"casado (a)\",\"casado (a)\",\"casado (a)\",\"casado (a)\",\"casado (a)\",\"casado (a)\",\"casado (a)\",\"soltero (a)\",\"soltero (a)\",\"soltero (a)\",\"soltero (a)\",\"soltero (a)\",\"divorciado (a)\",\"soltero (a)\",\"casado (a)\",\"divorciado (a)\",\"casado (a)\",\"casado (a)\",\"casado (a)\",\"soltero (a)\",\"casado (a)\",\"soltero (a)\",\"soltero (a)\",\"casado (a)\",\"divorciado (a)\",\"soltero (a)\",\"casado (a)\",\"casado (a)\",\"casado (a)\",\"soltero (a)\",\"soltero (a)\",\"casado (a)\",\"divorciado (a)\",\"divorciado (a)\",\"casado (a)\",\"casado (a)\",\"casado (a)\",\"casado (a)\",\"casado (a)\",\"casado (a)\",\"casado (a)\",\"soltero (a)\",\"soltero (a)\",\"casado (a)\",\"casado (a)\",\"casado (a)\",\"casado (a)\",\"casado (a)\",\"casado (a)\",\"divorciado (a)\",\"casado (a)\",\"casado (a)\",\"divorciado (a)\",\"soltero (a)\",\"soltero (a)\",\"casado (a)\",\"casado (a)\",\"soltero (a)\",\"soltero (a)\",\"casado (a)\",\"casado (a)\",\"casado (a)\",\"casado (a)\",\"soltero (a)\",\"casado (a)\",\"soltero (a)\",\"divorciado (a)\",\"soltero (a)\",\"casado (a)\",\"casado (a)\",\"casado (a)\",\"divorciado (a)\",\"casado (a)\",\"casado (a)\",\"casado (a)\",\"soltero (a)\",\"soltero (a)\",\"divorciado (a)\",\"casado (a)\",\"casado (a)\",\"soltero (a)\",\"casado (a)\",\"soltero (a)\",\"soltero (a)\",\"soltero (a)\",\"casado (a)\",\"casado (a)\",\"casado (a)\",\"soltero (a)\",\"soltero (a)\",\"casado (a)\",\"casado (a)\",\"soltero (a)\",\"divorciado (a)\",\"casado (a)\",\"casado (a)\",\"divorciado (a)\",\"soltero (a)\",\"soltero (a)\",\"soltero (a)\",\"casado (a)\",\"casado (a)\",\"casado (a)\",\"casado (a)\",\"casado (a)\",\"soltero (a)\",\"soltero (a)\",\"soltero (a)\",\"casado (a)\",\"soltero (a)\",\"casado (a)\",\"casado (a)\",\"soltero (a)\",\"soltero (a)\",\"soltero (a)\",\"casado (a)\",\"divorciado (a)\",\"divorciado (a)\",\"soltero (a)\",\"casado (a)\",\"casado (a)\",\"casado (a)\",\"casado (a)\",\"soltero (a)\",\"soltero (a)\",\"casado (a)\",\"soltero (a)\",\"casado (a)\",\"casado (a)\",\"soltero (a)\",\"casado (a)\",\"casado (a)\",\"casado (a)\",\"casado (a)\",\"casado (a)\",\"casado (a)\",\"casado (a)\",\"casado (a)\",\"casado (a)\",\"casado (a)\",\"soltero (a)\",\"casado (a)\",\"soltero (a)\",\"soltero (a)\",\"casado (a)\",\"soltero (a)\",\"casado (a)\",\"casado (a)\",\"casado (a)\",\"casado (a)\",\"divorciado (a)\",\"soltero (a)\",\"casado (a)\",\"soltero (a)\",\"casado (a)\",\"soltero (a)\",\"casado (a)\",\"casado (a)\",\"casado (a)\",\"casado (a)\",\"divorciado (a)\",\"soltero (a)\",\"casado (a)\",\"soltero (a)\",\"casado (a)\",\"soltero (a)\",\"casado (a)\",\"casado (a)\",\"casado (a)\",\"casado (a)\",\"casado (a)\",\"soltero (a)\",\"casado (a)\",\"casado (a)\",\"casado (a)\",\"soltero (a)\",\"divorciado (a)\",\"soltero (a)\",\"casado (a)\",\"casado (a)\",\"casado (a)\",\"soltero (a)\",\"casado (a)\",\"casado (a)\",\"soltero (a)\",\"casado (a)\",\"soltero (a)\",\"casado (a)\",\"casado (a)\",\"casado (a)\",\"casado (a)\",\"casado (a)\",\"soltero (a)\",\"casado (a)\",\"soltero (a)\",\"casado (a)\",\"casado (a)\",\"casado (a)\",\"divorciado (a)\",\"casado (a)\",\"casado (a)\",\"casado (a)\",\"divorciado (a)\",\"casado (a)\",\"casado (a)\",\"soltero (a)\",\"casado (a)\",\"soltero (a)\",\"casado (a)\",\"divorciado (a)\",\"casado (a)\",\"casado (a)\",\"casado (a)\",\"divorciado (a)\",\"casado (a)\",\"casado (a)\",\"casado (a)\",\"soltero (a)\",\"soltero (a)\",\"casado (a)\",\"soltero (a)\",\"casado (a)\",\"casado (a)\",\"soltero (a)\",\"casado (a)\",\"soltero (a)\",\"casado (a)\",\"casado (a)\",\"casado (a)\",\"casado (a)\",\"casado (a)\",\"casado (a)\",\"casado (a)\",\"casado (a)\",\"casado (a)\",\"soltero (a)\",\"divorciado (a)\",\"casado (a)\",\"soltero (a)\",\"divorciado (a)\",\"soltero (a)\",\"divorciado (a)\",\"casado (a)\",\"casado (a)\",\"casado (a)\",\"casado (a)\",\"divorciado (a)\",\"casado (a)\",\"soltero (a)\",\"divorciado (a)\",\"casado (a)\",\"soltero (a)\",\"casado (a)\",\"divorciado (a)\",\"casado (a)\",\"casado (a)\",\"casado (a)\",\"soltero (a)\",\"casado (a)\",\"soltero (a)\",\"soltero (a)\",\"casado (a)\",\"casado (a)\",\"divorciado (a)\",\"soltero (a)\",\"soltero (a)\",\"casado (a)\",\"soltero (a)\",\"soltero (a)\",\"divorciado (a)\",\"casado (a)\",\"divorciado (a)\",\"casado (a)\",\"soltero (a)\",\"casado (a)\",\"divorciado (a)\",\"casado (a)\",\"casado (a)\",\"casado (a)\",\"divorciado (a)\",\"casado (a)\",\"casado (a)\",\"divorciado (a)\",\"casado (a)\",\"casado (a)\",\"casado (a)\",\"soltero (a)\",\"casado (a)\",\"divorciado (a)\",\"casado (a)\",\"casado (a)\",\"casado (a)\",\"casado (a)\",\"casado (a)\",\"casado (a)\",\"soltero (a)\",\"casado (a)\",\"soltero (a)\",\"casado (a)\",\"soltero (a)\",\"soltero (a)\",\"soltero (a)\",\"casado (a)\",\"casado (a)\",\"casado (a)\",\"casado (a)\",\"casado (a)\",\"soltero (a)\",\"casado (a)\",\"casado (a)\",\"soltero (a)\",\"soltero (a)\",\"casado (a)\",\"casado (a)\",\"divorciado (a)\",\"casado (a)\",\"divorciado (a)\",\"casado (a)\",\"soltero (a)\",\"casado (a)\",\"divorciado (a)\",\"casado (a)\",\"casado (a)\",\"soltero (a)\",\"casado (a)\",\"casado (a)\",\"divorciado (a)\",\"soltero (a)\",\"divorciado (a)\",\"casado (a)\",\"soltero (a)\",\"soltero (a)\",\"casado (a)\",\"soltero (a)\",\"casado (a)\",\"divorciado (a)\",\"casado (a)\",\"casado (a)\",\"casado (a)\",\"casado (a)\",\"casado (a)\",\"casado (a)\",\"soltero (a)\",\"casado (a)\",\"casado (a)\",\"casado (a)\",\"soltero (a)\",\"casado (a)\",\"casado (a)\",\"casado (a)\",\"soltero (a)\",\"divorciado (a)\",\"soltero (a)\",\"casado (a)\",\"soltero (a)\",\"casado (a)\",\"soltero (a)\",\"casado (a)\",\"casado (a)\",\"casado (a)\",\"casado (a)\",\"divorciado (a)\",\"casado (a)\",\"casado (a)\",\"divorciado (a)\",\"casado (a)\",\"casado (a)\",\"casado (a)\",\"casado (a)\",\"casado (a)\",\"soltero (a)\",\"divorciado (a)\",\"casado (a)\",\"casado (a)\",\"casado (a)\",\"soltero (a)\",\"casado (a)\",\"casado (a)\",\"casado (a)\",\"casado (a)\",\"casado (a)\",\"soltero (a)\",\"soltero (a)\",\"soltero (a)\",\"casado (a)\",\"divorciado (a)\",\"casado (a)\",\"divorciado (a)\",\"casado (a)\",\"casado (a)\",\"soltero (a)\",\"divorciado (a)\",\"casado (a)\",\"soltero (a)\",\"casado (a)\",\"casado (a)\",\"soltero (a)\",\"casado (a)\",\"casado (a)\",\"casado (a)\",\"casado (a)\",\"divorciado (a)\",\"casado (a)\",\"casado (a)\",\"casado (a)\",\"soltero (a)\",\"divorciado (a)\",\"soltero (a)\",\"casado (a)\",\"casado (a)\",\"soltero (a)\",\"casado (a)\",\"casado (a)\",\"casado (a)\",\"casado (a)\",\"casado (a)\",\"casado (a)\",\"soltero (a)\",\"soltero (a)\",\"divorciado (a)\",\"divorciado (a)\",\"casado (a)\",\"casado (a)\",\"soltero (a)\",\"divorciado (a)\",\"casado (a)\",\"soltero (a)\",\"casado (a)\",\"casado (a)\",\"casado (a)\",\"soltero (a)\",\"casado (a)\",\"casado (a)\",\"soltero (a)\",\"casado (a)\",\"soltero (a)\",\"soltero (a)\",\"casado (a)\",\"casado (a)\",\"casado (a)\",\"casado (a)\",\"divorciado (a)\",\"divorciado (a)\",\"casado (a)\",\"casado (a)\",\"casado (a)\",\"soltero (a)\",\"casado (a)\",\"divorciado (a)\",\"divorciado (a)\",\"divorciado (a)\",\"casado (a)\",\"soltero (a)\",\"divorciado (a)\",\"soltero (a)\",\"casado (a)\",\"casado (a)\",\"soltero (a)\",\"casado (a)\",\"divorciado (a)\",\"casado (a)\",\"casado (a)\",\"casado (a)\",\"soltero (a)\",\"casado (a)\",\"casado (a)\",\"casado (a)\",\"casado (a)\",\"casado (a)\",\"casado (a)\",\"casado (a)\",\"casado (a)\",\"casado (a)\",\"soltero (a)\",\"casado (a)\",\"divorciado (a)\",\"soltero (a)\",\"casado (a)\",\"casado (a)\",\"casado (a)\",\"casado (a)\",\"soltero (a)\",\"casado (a)\",\"casado (a)\",\"soltero (a)\",\"soltero (a)\",\"soltero (a)\",\"casado (a)\",\"casado (a)\",\"casado (a)\",\"casado (a)\",\"soltero (a)\",\"casado (a)\",\"casado (a)\",\"soltero (a)\",\"casado (a)\",\"divorciado (a)\",\"soltero (a)\",\"divorciado (a)\",\"casado (a)\",\"soltero (a)\",\"casado (a)\",\"casado (a)\",\"casado (a)\",\"soltero (a)\",\"casado (a)\",\"soltero (a)\",\"casado (a)\",\"casado (a)\",\"casado (a)\",\"divorciado (a)\",\"casado (a)\",\"soltero (a)\",\"soltero (a)\",\"casado (a)\",\"casado (a)\",\"soltero (a)\",\"casado (a)\",\"casado (a)\",\"divorciado (a)\",\"casado (a)\",\"soltero (a)\",\"casado (a)\",\"soltero (a)\",\"casado (a)\",\"divorciado (a)\",\"casado (a)\",\"soltero (a)\",\"casado (a)\",\"casado (a)\",\"soltero (a)\",\"casado (a)\",\"soltero (a)\",\"casado (a)\",\"casado (a)\",\"casado (a)\",\"casado (a)\",\"casado (a)\",\"casado (a)\",\"soltero (a)\",\"casado (a)\",\"soltero (a)\",\"casado (a)\",\"casado (a)\",\"casado (a)\",\"soltero (a)\",\"casado (a)\",\"casado (a)\",\"soltero (a)\",\"casado (a)\",\"casado (a)\",\"soltero (a)\",\"casado (a)\",\"divorciado (a)\",\"soltero (a)\",\"casado (a)\",\"casado (a)\"],\"xaxis\":\"x\",\"yaxis\":\"y\",\"type\":\"histogram\"}],                        {\"template\":{\"data\":{\"histogram2dcontour\":[{\"type\":\"histogram2dcontour\",\"colorbar\":{\"outlinewidth\":0,\"ticks\":\"\"},\"colorscale\":[[0.0,\"#0d0887\"],[0.1111111111111111,\"#46039f\"],[0.2222222222222222,\"#7201a8\"],[0.3333333333333333,\"#9c179e\"],[0.4444444444444444,\"#bd3786\"],[0.5555555555555556,\"#d8576b\"],[0.6666666666666666,\"#ed7953\"],[0.7777777777777778,\"#fb9f3a\"],[0.8888888888888888,\"#fdca26\"],[1.0,\"#f0f921\"]]}],\"choropleth\":[{\"type\":\"choropleth\",\"colorbar\":{\"outlinewidth\":0,\"ticks\":\"\"}}],\"histogram2d\":[{\"type\":\"histogram2d\",\"colorbar\":{\"outlinewidth\":0,\"ticks\":\"\"},\"colorscale\":[[0.0,\"#0d0887\"],[0.1111111111111111,\"#46039f\"],[0.2222222222222222,\"#7201a8\"],[0.3333333333333333,\"#9c179e\"],[0.4444444444444444,\"#bd3786\"],[0.5555555555555556,\"#d8576b\"],[0.6666666666666666,\"#ed7953\"],[0.7777777777777778,\"#fb9f3a\"],[0.8888888888888888,\"#fdca26\"],[1.0,\"#f0f921\"]]}],\"heatmap\":[{\"type\":\"heatmap\",\"colorbar\":{\"outlinewidth\":0,\"ticks\":\"\"},\"colorscale\":[[0.0,\"#0d0887\"],[0.1111111111111111,\"#46039f\"],[0.2222222222222222,\"#7201a8\"],[0.3333333333333333,\"#9c179e\"],[0.4444444444444444,\"#bd3786\"],[0.5555555555555556,\"#d8576b\"],[0.6666666666666666,\"#ed7953\"],[0.7777777777777778,\"#fb9f3a\"],[0.8888888888888888,\"#fdca26\"],[1.0,\"#f0f921\"]]}],\"heatmapgl\":[{\"type\":\"heatmapgl\",\"colorbar\":{\"outlinewidth\":0,\"ticks\":\"\"},\"colorscale\":[[0.0,\"#0d0887\"],[0.1111111111111111,\"#46039f\"],[0.2222222222222222,\"#7201a8\"],[0.3333333333333333,\"#9c179e\"],[0.4444444444444444,\"#bd3786\"],[0.5555555555555556,\"#d8576b\"],[0.6666666666666666,\"#ed7953\"],[0.7777777777777778,\"#fb9f3a\"],[0.8888888888888888,\"#fdca26\"],[1.0,\"#f0f921\"]]}],\"contourcarpet\":[{\"type\":\"contourcarpet\",\"colorbar\":{\"outlinewidth\":0,\"ticks\":\"\"}}],\"contour\":[{\"type\":\"contour\",\"colorbar\":{\"outlinewidth\":0,\"ticks\":\"\"},\"colorscale\":[[0.0,\"#0d0887\"],[0.1111111111111111,\"#46039f\"],[0.2222222222222222,\"#7201a8\"],[0.3333333333333333,\"#9c179e\"],[0.4444444444444444,\"#bd3786\"],[0.5555555555555556,\"#d8576b\"],[0.6666666666666666,\"#ed7953\"],[0.7777777777777778,\"#fb9f3a\"],[0.8888888888888888,\"#fdca26\"],[1.0,\"#f0f921\"]]}],\"surface\":[{\"type\":\"surface\",\"colorbar\":{\"outlinewidth\":0,\"ticks\":\"\"},\"colorscale\":[[0.0,\"#0d0887\"],[0.1111111111111111,\"#46039f\"],[0.2222222222222222,\"#7201a8\"],[0.3333333333333333,\"#9c179e\"],[0.4444444444444444,\"#bd3786\"],[0.5555555555555556,\"#d8576b\"],[0.6666666666666666,\"#ed7953\"],[0.7777777777777778,\"#fb9f3a\"],[0.8888888888888888,\"#fdca26\"],[1.0,\"#f0f921\"]]}],\"mesh3d\":[{\"type\":\"mesh3d\",\"colorbar\":{\"outlinewidth\":0,\"ticks\":\"\"}}],\"scatter\":[{\"fillpattern\":{\"fillmode\":\"overlay\",\"size\":10,\"solidity\":0.2},\"type\":\"scatter\"}],\"parcoords\":[{\"type\":\"parcoords\",\"line\":{\"colorbar\":{\"outlinewidth\":0,\"ticks\":\"\"}}}],\"scatterpolargl\":[{\"type\":\"scatterpolargl\",\"marker\":{\"colorbar\":{\"outlinewidth\":0,\"ticks\":\"\"}}}],\"bar\":[{\"error_x\":{\"color\":\"#2a3f5f\"},\"error_y\":{\"color\":\"#2a3f5f\"},\"marker\":{\"line\":{\"color\":\"#E5ECF6\",\"width\":0.5},\"pattern\":{\"fillmode\":\"overlay\",\"size\":10,\"solidity\":0.2}},\"type\":\"bar\"}],\"scattergeo\":[{\"type\":\"scattergeo\",\"marker\":{\"colorbar\":{\"outlinewidth\":0,\"ticks\":\"\"}}}],\"scatterpolar\":[{\"type\":\"scatterpolar\",\"marker\":{\"colorbar\":{\"outlinewidth\":0,\"ticks\":\"\"}}}],\"histogram\":[{\"marker\":{\"pattern\":{\"fillmode\":\"overlay\",\"size\":10,\"solidity\":0.2}},\"type\":\"histogram\"}],\"scattergl\":[{\"type\":\"scattergl\",\"marker\":{\"colorbar\":{\"outlinewidth\":0,\"ticks\":\"\"}}}],\"scatter3d\":[{\"type\":\"scatter3d\",\"line\":{\"colorbar\":{\"outlinewidth\":0,\"ticks\":\"\"}},\"marker\":{\"colorbar\":{\"outlinewidth\":0,\"ticks\":\"\"}}}],\"scattermapbox\":[{\"type\":\"scattermapbox\",\"marker\":{\"colorbar\":{\"outlinewidth\":0,\"ticks\":\"\"}}}],\"scatterternary\":[{\"type\":\"scatterternary\",\"marker\":{\"colorbar\":{\"outlinewidth\":0,\"ticks\":\"\"}}}],\"scattercarpet\":[{\"type\":\"scattercarpet\",\"marker\":{\"colorbar\":{\"outlinewidth\":0,\"ticks\":\"\"}}}],\"carpet\":[{\"aaxis\":{\"endlinecolor\":\"#2a3f5f\",\"gridcolor\":\"white\",\"linecolor\":\"white\",\"minorgridcolor\":\"white\",\"startlinecolor\":\"#2a3f5f\"},\"baxis\":{\"endlinecolor\":\"#2a3f5f\",\"gridcolor\":\"white\",\"linecolor\":\"white\",\"minorgridcolor\":\"white\",\"startlinecolor\":\"#2a3f5f\"},\"type\":\"carpet\"}],\"table\":[{\"cells\":{\"fill\":{\"color\":\"#EBF0F8\"},\"line\":{\"color\":\"white\"}},\"header\":{\"fill\":{\"color\":\"#C8D4E3\"},\"line\":{\"color\":\"white\"}},\"type\":\"table\"}],\"barpolar\":[{\"marker\":{\"line\":{\"color\":\"#E5ECF6\",\"width\":0.5},\"pattern\":{\"fillmode\":\"overlay\",\"size\":10,\"solidity\":0.2}},\"type\":\"barpolar\"}],\"pie\":[{\"automargin\":true,\"type\":\"pie\"}]},\"layout\":{\"autotypenumbers\":\"strict\",\"colorway\":[\"#636efa\",\"#EF553B\",\"#00cc96\",\"#ab63fa\",\"#FFA15A\",\"#19d3f3\",\"#FF6692\",\"#B6E880\",\"#FF97FF\",\"#FECB52\"],\"font\":{\"color\":\"#2a3f5f\"},\"hovermode\":\"closest\",\"hoverlabel\":{\"align\":\"left\"},\"paper_bgcolor\":\"white\",\"plot_bgcolor\":\"#E5ECF6\",\"polar\":{\"bgcolor\":\"#E5ECF6\",\"angularaxis\":{\"gridcolor\":\"white\",\"linecolor\":\"white\",\"ticks\":\"\"},\"radialaxis\":{\"gridcolor\":\"white\",\"linecolor\":\"white\",\"ticks\":\"\"}},\"ternary\":{\"bgcolor\":\"#E5ECF6\",\"aaxis\":{\"gridcolor\":\"white\",\"linecolor\":\"white\",\"ticks\":\"\"},\"baxis\":{\"gridcolor\":\"white\",\"linecolor\":\"white\",\"ticks\":\"\"},\"caxis\":{\"gridcolor\":\"white\",\"linecolor\":\"white\",\"ticks\":\"\"}},\"coloraxis\":{\"colorbar\":{\"outlinewidth\":0,\"ticks\":\"\"}},\"colorscale\":{\"sequential\":[[0.0,\"#0d0887\"],[0.1111111111111111,\"#46039f\"],[0.2222222222222222,\"#7201a8\"],[0.3333333333333333,\"#9c179e\"],[0.4444444444444444,\"#bd3786\"],[0.5555555555555556,\"#d8576b\"],[0.6666666666666666,\"#ed7953\"],[0.7777777777777778,\"#fb9f3a\"],[0.8888888888888888,\"#fdca26\"],[1.0,\"#f0f921\"]],\"sequentialminus\":[[0.0,\"#0d0887\"],[0.1111111111111111,\"#46039f\"],[0.2222222222222222,\"#7201a8\"],[0.3333333333333333,\"#9c179e\"],[0.4444444444444444,\"#bd3786\"],[0.5555555555555556,\"#d8576b\"],[0.6666666666666666,\"#ed7953\"],[0.7777777777777778,\"#fb9f3a\"],[0.8888888888888888,\"#fdca26\"],[1.0,\"#f0f921\"]],\"diverging\":[[0,\"#8e0152\"],[0.1,\"#c51b7d\"],[0.2,\"#de77ae\"],[0.3,\"#f1b6da\"],[0.4,\"#fde0ef\"],[0.5,\"#f7f7f7\"],[0.6,\"#e6f5d0\"],[0.7,\"#b8e186\"],[0.8,\"#7fbc41\"],[0.9,\"#4d9221\"],[1,\"#276419\"]]},\"xaxis\":{\"gridcolor\":\"white\",\"linecolor\":\"white\",\"ticks\":\"\",\"title\":{\"standoff\":15},\"zerolinecolor\":\"white\",\"automargin\":true,\"zerolinewidth\":2},\"yaxis\":{\"gridcolor\":\"white\",\"linecolor\":\"white\",\"ticks\":\"\",\"title\":{\"standoff\":15},\"zerolinecolor\":\"white\",\"automargin\":true,\"zerolinewidth\":2},\"scene\":{\"xaxis\":{\"backgroundcolor\":\"#E5ECF6\",\"gridcolor\":\"white\",\"linecolor\":\"white\",\"showbackground\":true,\"ticks\":\"\",\"zerolinecolor\":\"white\",\"gridwidth\":2},\"yaxis\":{\"backgroundcolor\":\"#E5ECF6\",\"gridcolor\":\"white\",\"linecolor\":\"white\",\"showbackground\":true,\"ticks\":\"\",\"zerolinecolor\":\"white\",\"gridwidth\":2},\"zaxis\":{\"backgroundcolor\":\"#E5ECF6\",\"gridcolor\":\"white\",\"linecolor\":\"white\",\"showbackground\":true,\"ticks\":\"\",\"zerolinecolor\":\"white\",\"gridwidth\":2}},\"shapedefaults\":{\"line\":{\"color\":\"#2a3f5f\"}},\"annotationdefaults\":{\"arrowcolor\":\"#2a3f5f\",\"arrowhead\":0,\"arrowwidth\":1},\"geo\":{\"bgcolor\":\"white\",\"landcolor\":\"#E5ECF6\",\"subunitcolor\":\"white\",\"showland\":true,\"showlakes\":true,\"lakecolor\":\"white\"},\"title\":{\"x\":0.05},\"mapbox\":{\"style\":\"light\"}}},\"xaxis\":{\"anchor\":\"y\",\"domain\":[0.0,1.0],\"title\":{\"text\":\"estado_civil\"}},\"yaxis\":{\"anchor\":\"x\",\"domain\":[0.0,1.0],\"title\":{\"text\":\"count\"}},\"legend\":{\"title\":{\"text\":\"adherencia_inversion\"},\"tracegroupgap\":0},\"margin\":{\"t\":60},\"barmode\":\"group\"},                        {\"responsive\": true}                    ).then(function(){\n",
              "                            \n",
              "var gd = document.getElementById('780be83d-f0a5-4988-bb68-56a4126c965e');\n",
              "var x = new MutationObserver(function (mutations, observer) {{\n",
              "        var display = window.getComputedStyle(gd).display;\n",
              "        if (!display || display === 'none') {{\n",
              "            console.log([gd, 'removed!']);\n",
              "            Plotly.purge(gd);\n",
              "            observer.disconnect();\n",
              "        }}\n",
              "}});\n",
              "\n",
              "// Listen for the removal of the full notebook cells\n",
              "var notebookContainer = gd.closest('#notebook-container');\n",
              "if (notebookContainer) {{\n",
              "    x.observe(notebookContainer, {childList: true});\n",
              "}}\n",
              "\n",
              "// Listen for the clearing of the current output cell\n",
              "var outputEl = gd.closest('.output');\n",
              "if (outputEl) {{\n",
              "    x.observe(outputEl, {childList: true});\n",
              "}}\n",
              "\n",
              "                        })                };                            </script>        </div>\n",
              "</body>\n",
              "</html>"
            ]
          },
          "metadata": {}
        }
      ]
    },
    {
      "cell_type": "code",
      "source": [
        "px.histogram(datos, x='escolaridad', text_auto=True, color='adherencia_inversion', barmode='group')"
      ],
      "metadata": {
        "id": "kBCrnevSBR0l",
        "colab": {
          "base_uri": "https://localhost:8080/",
          "height": 542
        },
        "outputId": "163c1df5-73c9-42a4-ce8b-2c019c5c4da2"
      },
      "execution_count": 63,
      "outputs": [
        {
          "output_type": "display_data",
          "data": {
            "text/html": [
              "<html>\n",
              "<head><meta charset=\"utf-8\" /></head>\n",
              "<body>\n",
              "    <div>            <script src=\"https://cdnjs.cloudflare.com/ajax/libs/mathjax/2.7.5/MathJax.js?config=TeX-AMS-MML_SVG\"></script><script type=\"text/javascript\">if (window.MathJax && window.MathJax.Hub && window.MathJax.Hub.Config) {window.MathJax.Hub.Config({SVG: {font: \"STIX-Web\"}});}</script>                <script type=\"text/javascript\">window.PlotlyConfig = {MathJaxConfig: 'local'};</script>\n",
              "        <script charset=\"utf-8\" src=\"https://cdn.plot.ly/plotly-2.35.2.min.js\"></script>                <div id=\"47469e9e-3498-494f-ba28-e0f2cf9b2f98\" class=\"plotly-graph-div\" style=\"height:525px; width:100%;\"></div>            <script type=\"text/javascript\">                                    window.PLOTLYENV=window.PLOTLYENV || {};                                    if (document.getElementById(\"47469e9e-3498-494f-ba28-e0f2cf9b2f98\")) {                    Plotly.newPlot(                        \"47469e9e-3498-494f-ba28-e0f2cf9b2f98\",                        [{\"alignmentgroup\":\"True\",\"bingroup\":\"x\",\"hovertemplate\":\"adherencia_inversion=si\\u003cbr\\u003eescolaridad=%{x}\\u003cbr\\u003ecount=%{y}\\u003cextra\\u003e\\u003c\\u002fextra\\u003e\",\"legendgroup\":\"si\",\"marker\":{\"color\":\"#636efa\",\"pattern\":{\"shape\":\"\"}},\"name\":\"si\",\"offsetgroup\":\"si\",\"orientation\":\"v\",\"showlegend\":true,\"texttemplate\":\"%{value}\",\"x\":[\"superior\",\"secundaria\",\"superior\",\"secundaria\",\"secundaria\",\"superior\",\"secundaria\",\"secundaria\",\"secundaria\",\"superior\",\"superior\",\"superior\",\"secundaria\",\"secundaria\",\"secundaria\",\"superior\",\"superior\",\"secundaria\",\"secundaria\",\"secundaria\",\"secundaria\",\"secundaria\",\"superior\",\"superior\",\"superior\",\"superior\",\"superior\",\"superior\",\"superior\",\"secundaria\",\"superior\",\"superior\",\"secundaria\",\"primaria\",\"secundaria\",\"secundaria\",\"superior\",\"superior\",\"superior\",\"superior\",\"secundaria\",\"secundaria\",\"superior\",\"secundaria\",\"superior\",\"secundaria\",\"secundaria\",\"primaria\",\"secundaria\",\"secundaria\",\"secundaria\",\"superior\",\"secundaria\",\"superior\",\"superior\",\"superior\",\"primaria\",\"secundaria\",\"primaria\",\"superior\",\"superior\",\"secundaria\",\"superior\",\"secundaria\",\"secundaria\",\"secundaria\",\"secundaria\",\"secundaria\",\"superior\",\"superior\",\"primaria\",\"secundaria\",\"secundaria\",\"superior\",\"primaria\",\"superior\",\"secundaria\",\"primaria\",\"superior\",\"secundaria\",\"secundaria\",\"primaria\",\"secundaria\",\"primaria\",\"secundaria\",\"primaria\",\"primaria\",\"superior\",\"superior\",\"secundaria\",\"superior\",\"secundaria\",\"secundaria\",\"superior\",\"secundaria\",\"superior\",\"secundaria\",\"secundaria\",\"superior\",\"secundaria\",\"secundaria\",\"secundaria\",\"secundaria\",\"secundaria\",\"superior\",\"secundaria\",\"secundaria\",\"secundaria\",\"secundaria\",\"superior\",\"secundaria\",\"secundaria\",\"superior\",\"secundaria\",\"superior\",\"secundaria\",\"secundaria\",\"secundaria\",\"superior\",\"secundaria\",\"superior\",\"primaria\",\"secundaria\",\"superior\",\"secundaria\",\"secundaria\",\"primaria\",\"secundaria\",\"secundaria\",\"superior\",\"secundaria\",\"secundaria\",\"superior\",\"secundaria\",\"secundaria\",\"superior\",\"secundaria\",\"secundaria\",\"secundaria\",\"secundaria\",\"primaria\",\"primaria\",\"superior\",\"superior\",\"secundaria\",\"superior\",\"superior\",\"superior\",\"secundaria\",\"secundaria\",\"superior\",\"secundaria\",\"superior\",\"superior\",\"secundaria\",\"superior\",\"secundaria\",\"superior\",\"secundaria\",\"primaria\",\"secundaria\",\"superior\",\"secundaria\",\"secundaria\",\"primaria\",\"superior\",\"secundaria\",\"secundaria\",\"secundaria\",\"superior\",\"secundaria\",\"superior\",\"superior\",\"superior\",\"secundaria\",\"superior\",\"primaria\",\"superior\",\"secundaria\",\"secundaria\",\"secundaria\",\"superior\",\"secundaria\",\"superior\",\"superior\",\"primaria\",\"secundaria\",\"secundaria\",\"secundaria\",\"superior\",\"secundaria\",\"secundaria\",\"primaria\",\"primaria\",\"superior\",\"superior\",\"secundaria\",\"superior\",\"secundaria\",\"primaria\",\"primaria\",\"secundaria\",\"primaria\",\"superior\",\"primaria\",\"secundaria\",\"secundaria\",\"secundaria\",\"secundaria\",\"superior\",\"secundaria\",\"secundaria\",\"superior\",\"superior\",\"superior\",\"superior\",\"secundaria\",\"secundaria\",\"superior\",\"superior\",\"secundaria\",\"secundaria\",\"secundaria\",\"secundaria\",\"secundaria\",\"superior\",\"secundaria\",\"superior\",\"secundaria\",\"secundaria\",\"superior\",\"secundaria\",\"primaria\",\"secundaria\",\"primaria\",\"superior\",\"superior\",\"primaria\",\"primaria\",\"primaria\",\"superior\",\"superior\",\"superior\",\"secundaria\",\"secundaria\",\"secundaria\",\"secundaria\",\"secundaria\",\"secundaria\",\"secundaria\",\"secundaria\",\"secundaria\",\"superior\",\"primaria\",\"secundaria\",\"superior\",\"secundaria\",\"superior\",\"secundaria\",\"superior\",\"secundaria\",\"primaria\",\"primaria\",\"secundaria\",\"superior\",\"superior\",\"superior\",\"secundaria\",\"secundaria\",\"secundaria\",\"superior\",\"secundaria\",\"superior\",\"superior\",\"secundaria\",\"superior\",\"primaria\",\"secundaria\",\"secundaria\",\"secundaria\",\"secundaria\",\"superior\",\"superior\",\"secundaria\",\"secundaria\",\"secundaria\",\"primaria\",\"primaria\",\"secundaria\",\"superior\",\"superior\",\"primaria\",\"superior\",\"superior\",\"superior\",\"superior\",\"secundaria\",\"secundaria\",\"secundaria\",\"superior\",\"secundaria\",\"secundaria\",\"secundaria\",\"secundaria\",\"primaria\",\"secundaria\",\"superior\",\"secundaria\",\"secundaria\",\"secundaria\",\"superior\",\"secundaria\",\"secundaria\",\"primaria\",\"secundaria\",\"superior\",\"superior\",\"superior\",\"superior\",\"secundaria\",\"superior\",\"primaria\",\"secundaria\",\"primaria\",\"secundaria\",\"superior\",\"secundaria\",\"superior\",\"primaria\",\"secundaria\",\"superior\",\"secundaria\",\"secundaria\",\"superior\",\"superior\",\"superior\",\"secundaria\",\"secundaria\",\"superior\",\"secundaria\",\"superior\",\"secundaria\",\"superior\",\"secundaria\",\"secundaria\",\"primaria\",\"secundaria\",\"secundaria\",\"superior\",\"primaria\",\"secundaria\",\"primaria\",\"secundaria\",\"superior\",\"secundaria\",\"secundaria\",\"superior\",\"secundaria\",\"primaria\",\"superior\",\"secundaria\",\"secundaria\",\"secundaria\",\"secundaria\",\"secundaria\",\"primaria\",\"primaria\",\"superior\",\"secundaria\",\"secundaria\",\"superior\",\"superior\",\"superior\",\"superior\",\"secundaria\",\"secundaria\",\"primaria\",\"secundaria\",\"secundaria\",\"superior\",\"secundaria\",\"primaria\",\"superior\",\"primaria\",\"superior\",\"secundaria\",\"superior\",\"primaria\",\"secundaria\",\"secundaria\",\"primaria\",\"primaria\",\"superior\",\"secundaria\",\"secundaria\",\"superior\",\"secundaria\",\"secundaria\",\"superior\",\"superior\",\"secundaria\",\"secundaria\",\"superior\",\"superior\",\"superior\",\"superior\",\"secundaria\",\"primaria\",\"superior\",\"superior\",\"secundaria\",\"superior\",\"secundaria\",\"secundaria\",\"primaria\",\"superior\",\"superior\",\"secundaria\",\"secundaria\",\"primaria\",\"primaria\",\"superior\",\"superior\",\"superior\",\"superior\",\"superior\",\"secundaria\",\"secundaria\",\"superior\",\"secundaria\",\"secundaria\",\"superior\",\"secundaria\",\"superior\",\"superior\",\"superior\",\"superior\",\"secundaria\",\"primaria\",\"superior\",\"secundaria\",\"secundaria\",\"primaria\",\"superior\",\"secundaria\",\"secundaria\",\"superior\",\"secundaria\",\"superior\",\"superior\",\"secundaria\",\"secundaria\",\"superior\",\"secundaria\",\"superior\",\"superior\",\"superior\",\"superior\",\"secundaria\",\"secundaria\",\"superior\",\"secundaria\",\"primaria\",\"secundaria\",\"secundaria\",\"primaria\",\"superior\",\"secundaria\",\"secundaria\",\"secundaria\",\"secundaria\",\"secundaria\",\"secundaria\",\"secundaria\",\"secundaria\",\"secundaria\",\"secundaria\",\"primaria\",\"secundaria\",\"secundaria\",\"superior\",\"superior\",\"superior\",\"superior\",\"superior\",\"primaria\",\"superior\",\"superior\",\"superior\",\"secundaria\",\"secundaria\",\"secundaria\",\"secundaria\",\"superior\",\"secundaria\",\"superior\",\"superior\",\"superior\",\"superior\",\"superior\",\"superior\",\"superior\"],\"xaxis\":\"x\",\"yaxis\":\"y\",\"type\":\"histogram\"},{\"alignmentgroup\":\"True\",\"bingroup\":\"x\",\"hovertemplate\":\"adherencia_inversion=no\\u003cbr\\u003eescolaridad=%{x}\\u003cbr\\u003ecount=%{y}\\u003cextra\\u003e\\u003c\\u002fextra\\u003e\",\"legendgroup\":\"no\",\"marker\":{\"color\":\"#EF553B\",\"pattern\":{\"shape\":\"\"}},\"name\":\"no\",\"offsetgroup\":\"no\",\"orientation\":\"v\",\"showlegend\":true,\"texttemplate\":\"%{value}\",\"x\":[\"superior\",\"superior\",\"secundaria\",\"primaria\",\"secundaria\",\"primaria\",\"superior\",\"superior\",\"primaria\",\"secundaria\",\"secundaria\",\"secundaria\",\"secundaria\",\"secundaria\",\"secundaria\",\"primaria\",\"secundaria\",\"secundaria\",\"secundaria\",\"secundaria\",\"secundaria\",\"superior\",\"secundaria\",\"secundaria\",\"primaria\",\"superior\",\"superior\",\"superior\",\"superior\",\"superior\",\"superior\",\"secundaria\",\"superior\",\"secundaria\",\"secundaria\",\"primaria\",\"superior\",\"secundaria\",\"secundaria\",\"superior\",\"secundaria\",\"primaria\",\"primaria\",\"superior\",\"superior\",\"secundaria\",\"superior\",\"secundaria\",\"primaria\",\"secundaria\",\"superior\",\"superior\",\"secundaria\",\"superior\",\"secundaria\",\"secundaria\",\"primaria\",\"primaria\",\"secundaria\",\"superior\",\"secundaria\",\"primaria\",\"superior\",\"secundaria\",\"secundaria\",\"secundaria\",\"secundaria\",\"superior\",\"superior\",\"superior\",\"superior\",\"primaria\",\"superior\",\"secundaria\",\"secundaria\",\"secundaria\",\"primaria\",\"secundaria\",\"primaria\",\"secundaria\",\"superior\",\"secundaria\",\"secundaria\",\"superior\",\"secundaria\",\"secundaria\",\"primaria\",\"secundaria\",\"secundaria\",\"superior\",\"secundaria\",\"secundaria\",\"secundaria\",\"secundaria\",\"superior\",\"secundaria\",\"secundaria\",\"secundaria\",\"superior\",\"secundaria\",\"secundaria\",\"superior\",\"secundaria\",\"secundaria\",\"superior\",\"secundaria\",\"secundaria\",\"superior\",\"secundaria\",\"secundaria\",\"primaria\",\"superior\",\"secundaria\",\"secundaria\",\"secundaria\",\"secundaria\",\"secundaria\",\"primaria\",\"secundaria\",\"superior\",\"secundaria\",\"secundaria\",\"secundaria\",\"superior\",\"secundaria\",\"secundaria\",\"superior\",\"primaria\",\"secundaria\",\"secundaria\",\"secundaria\",\"secundaria\",\"secundaria\",\"secundaria\",\"secundaria\",\"secundaria\",\"superior\",\"secundaria\",\"secundaria\",\"primaria\",\"secundaria\",\"secundaria\",\"superior\",\"superior\",\"superior\",\"secundaria\",\"secundaria\",\"secundaria\",\"superior\",\"primaria\",\"superior\",\"primaria\",\"secundaria\",\"secundaria\",\"secundaria\",\"secundaria\",\"primaria\",\"secundaria\",\"secundaria\",\"primaria\",\"superior\",\"primaria\",\"primaria\",\"superior\",\"secundaria\",\"primaria\",\"secundaria\",\"secundaria\",\"superior\",\"secundaria\",\"primaria\",\"superior\",\"superior\",\"secundaria\",\"superior\",\"secundaria\",\"secundaria\",\"primaria\",\"secundaria\",\"primaria\",\"secundaria\",\"superior\",\"superior\",\"secundaria\",\"secundaria\",\"superior\",\"secundaria\",\"superior\",\"secundaria\",\"superior\",\"superior\",\"secundaria\",\"secundaria\",\"superior\",\"superior\",\"primaria\",\"secundaria\",\"superior\",\"secundaria\",\"secundaria\",\"primaria\",\"primaria\",\"secundaria\",\"secundaria\",\"secundaria\",\"primaria\",\"secundaria\",\"secundaria\",\"superior\",\"superior\",\"primaria\",\"secundaria\",\"secundaria\",\"secundaria\",\"superior\",\"primaria\",\"superior\",\"superior\",\"secundaria\",\"superior\",\"superior\",\"superior\",\"secundaria\",\"secundaria\",\"primaria\",\"superior\",\"secundaria\",\"secundaria\",\"primaria\",\"secundaria\",\"primaria\",\"superior\",\"secundaria\",\"secundaria\",\"secundaria\",\"secundaria\",\"secundaria\",\"secundaria\",\"secundaria\",\"secundaria\",\"secundaria\",\"secundaria\",\"secundaria\",\"secundaria\",\"secundaria\",\"superior\",\"primaria\",\"primaria\",\"superior\",\"secundaria\",\"secundaria\",\"superior\",\"secundaria\",\"primaria\",\"superior\",\"primaria\",\"superior\",\"secundaria\",\"superior\",\"primaria\",\"secundaria\",\"secundaria\",\"primaria\",\"superior\",\"secundaria\",\"secundaria\",\"primaria\",\"superior\",\"secundaria\",\"superior\",\"secundaria\",\"secundaria\",\"secundaria\",\"secundaria\",\"superior\",\"secundaria\",\"secundaria\",\"primaria\",\"superior\",\"secundaria\",\"superior\",\"secundaria\",\"secundaria\",\"superior\",\"superior\",\"superior\",\"superior\",\"superior\",\"secundaria\",\"secundaria\",\"secundaria\",\"secundaria\",\"secundaria\",\"secundaria\",\"secundaria\",\"secundaria\",\"primaria\",\"primaria\",\"secundaria\",\"secundaria\",\"superior\",\"secundaria\",\"superior\",\"secundaria\",\"secundaria\",\"superior\",\"superior\",\"secundaria\",\"secundaria\",\"secundaria\",\"secundaria\",\"secundaria\",\"secundaria\",\"secundaria\",\"superior\",\"secundaria\",\"superior\",\"primaria\",\"secundaria\",\"secundaria\",\"secundaria\",\"secundaria\",\"secundaria\",\"superior\",\"secundaria\",\"secundaria\",\"secundaria\",\"superior\",\"primaria\",\"superior\",\"secundaria\",\"superior\",\"superior\",\"secundaria\",\"superior\",\"superior\",\"superior\",\"secundaria\",\"secundaria\",\"primaria\",\"secundaria\",\"primaria\",\"secundaria\",\"primaria\",\"secundaria\",\"secundaria\",\"primaria\",\"primaria\",\"secundaria\",\"superior\",\"secundaria\",\"secundaria\",\"superior\",\"secundaria\",\"secundaria\",\"primaria\",\"primaria\",\"primaria\",\"secundaria\",\"secundaria\",\"superior\",\"secundaria\",\"primaria\",\"superior\",\"secundaria\",\"primaria\",\"primaria\",\"superior\",\"primaria\",\"secundaria\",\"secundaria\",\"secundaria\",\"secundaria\",\"primaria\",\"secundaria\",\"secundaria\",\"secundaria\",\"primaria\",\"secundaria\",\"superior\",\"secundaria\",\"secundaria\",\"secundaria\",\"secundaria\",\"secundaria\",\"secundaria\",\"superior\",\"secundaria\",\"secundaria\",\"secundaria\",\"superior\",\"secundaria\",\"secundaria\",\"secundaria\",\"primaria\",\"superior\",\"superior\",\"superior\",\"secundaria\",\"superior\",\"primaria\",\"secundaria\",\"secundaria\",\"superior\",\"superior\",\"secundaria\",\"superior\",\"superior\",\"secundaria\",\"secundaria\",\"primaria\",\"secundaria\",\"secundaria\",\"primaria\",\"secundaria\",\"secundaria\",\"superior\",\"primaria\",\"primaria\",\"superior\",\"secundaria\",\"secundaria\",\"secundaria\",\"superior\",\"secundaria\",\"superior\",\"secundaria\",\"superior\",\"primaria\",\"secundaria\",\"superior\",\"secundaria\",\"primaria\",\"secundaria\",\"superior\",\"superior\",\"secundaria\",\"secundaria\",\"superior\",\"primaria\",\"secundaria\",\"secundaria\",\"superior\",\"primaria\",\"secundaria\",\"superior\",\"secundaria\",\"superior\",\"superior\",\"superior\",\"superior\",\"primaria\",\"secundaria\",\"superior\",\"secundaria\",\"secundaria\",\"superior\",\"secundaria\",\"superior\",\"superior\",\"superior\",\"superior\",\"secundaria\",\"primaria\",\"secundaria\",\"secundaria\",\"superior\",\"primaria\",\"superior\",\"secundaria\",\"secundaria\",\"secundaria\",\"secundaria\",\"secundaria\",\"secundaria\",\"secundaria\",\"secundaria\",\"secundaria\",\"primaria\",\"primaria\",\"secundaria\",\"secundaria\",\"superior\",\"secundaria\",\"primaria\",\"secundaria\",\"primaria\",\"superior\",\"secundaria\",\"secundaria\",\"secundaria\",\"secundaria\",\"secundaria\",\"superior\",\"primaria\",\"secundaria\",\"secundaria\",\"secundaria\",\"secundaria\",\"secundaria\",\"secundaria\",\"superior\",\"superior\",\"secundaria\",\"secundaria\",\"superior\",\"superior\",\"secundaria\",\"secundaria\",\"secundaria\",\"secundaria\",\"secundaria\",\"secundaria\",\"primaria\",\"superior\",\"superior\",\"superior\",\"superior\",\"secundaria\",\"primaria\",\"primaria\",\"secundaria\",\"secundaria\",\"primaria\",\"secundaria\",\"secundaria\",\"superior\",\"secundaria\",\"secundaria\",\"secundaria\",\"superior\",\"superior\",\"superior\",\"secundaria\",\"secundaria\",\"secundaria\",\"secundaria\",\"primaria\",\"secundaria\",\"superior\",\"superior\",\"superior\",\"secundaria\",\"secundaria\",\"superior\",\"superior\",\"superior\",\"secundaria\",\"secundaria\",\"superior\",\"superior\",\"secundaria\",\"secundaria\",\"secundaria\",\"primaria\",\"primaria\",\"primaria\",\"secundaria\",\"secundaria\",\"secundaria\",\"secundaria\",\"secundaria\",\"secundaria\",\"superior\",\"secundaria\",\"superior\",\"primaria\",\"secundaria\",\"secundaria\",\"primaria\",\"primaria\",\"primaria\",\"secundaria\",\"secundaria\",\"secundaria\",\"superior\",\"primaria\",\"superior\",\"secundaria\",\"secundaria\",\"superior\",\"primaria\",\"superior\",\"primaria\",\"secundaria\",\"primaria\",\"superior\",\"primaria\",\"superior\",\"superior\",\"secundaria\",\"superior\",\"secundaria\",\"secundaria\",\"superior\",\"secundaria\",\"secundaria\",\"superior\",\"secundaria\",\"superior\",\"primaria\",\"superior\",\"secundaria\",\"primaria\",\"superior\",\"superior\",\"secundaria\",\"primaria\",\"primaria\",\"primaria\",\"secundaria\",\"secundaria\",\"secundaria\",\"primaria\",\"superior\",\"secundaria\",\"secundaria\",\"secundaria\",\"secundaria\",\"secundaria\",\"secundaria\",\"secundaria\",\"secundaria\",\"superior\",\"superior\",\"secundaria\",\"superior\",\"secundaria\",\"superior\",\"secundaria\",\"secundaria\",\"secundaria\",\"superior\",\"secundaria\",\"secundaria\",\"superior\",\"primaria\",\"secundaria\",\"secundaria\",\"superior\",\"secundaria\",\"secundaria\",\"secundaria\",\"superior\",\"secundaria\",\"secundaria\",\"primaria\",\"primaria\",\"primaria\",\"superior\",\"secundaria\",\"secundaria\",\"superior\",\"superior\",\"primaria\",\"secundaria\",\"secundaria\",\"secundaria\",\"secundaria\",\"secundaria\",\"secundaria\",\"primaria\",\"primaria\",\"superior\",\"secundaria\",\"secundaria\",\"secundaria\",\"superior\",\"superior\",\"secundaria\",\"superior\",\"primaria\",\"superior\",\"superior\",\"secundaria\",\"secundaria\",\"secundaria\",\"primaria\",\"secundaria\",\"secundaria\",\"secundaria\",\"primaria\",\"superior\",\"superior\",\"secundaria\",\"secundaria\",\"secundaria\",\"secundaria\",\"superior\",\"secundaria\",\"superior\",\"superior\",\"secundaria\",\"secundaria\",\"secundaria\",\"superior\",\"primaria\",\"secundaria\",\"secundaria\",\"primaria\",\"secundaria\",\"secundaria\",\"primaria\",\"superior\",\"secundaria\",\"secundaria\",\"superior\",\"secundaria\",\"primaria\",\"superior\",\"secundaria\",\"primaria\",\"superior\",\"superior\",\"secundaria\",\"superior\",\"primaria\",\"superior\",\"secundaria\",\"primaria\",\"secundaria\",\"secundaria\",\"superior\",\"primaria\",\"secundaria\",\"secundaria\",\"secundaria\",\"secundaria\",\"secundaria\",\"secundaria\",\"primaria\",\"secundaria\",\"secundaria\",\"secundaria\",\"secundaria\",\"secundaria\",\"superior\",\"secundaria\",\"secundaria\",\"superior\",\"superior\",\"secundaria\",\"superior\",\"primaria\",\"superior\",\"primaria\",\"superior\",\"secundaria\",\"secundaria\",\"secundaria\",\"secundaria\",\"secundaria\",\"primaria\",\"secundaria\",\"secundaria\",\"primaria\",\"secundaria\",\"superior\",\"superior\",\"superior\",\"secundaria\",\"secundaria\",\"secundaria\",\"secundaria\",\"secundaria\",\"secundaria\"],\"xaxis\":\"x\",\"yaxis\":\"y\",\"type\":\"histogram\"}],                        {\"template\":{\"data\":{\"histogram2dcontour\":[{\"type\":\"histogram2dcontour\",\"colorbar\":{\"outlinewidth\":0,\"ticks\":\"\"},\"colorscale\":[[0.0,\"#0d0887\"],[0.1111111111111111,\"#46039f\"],[0.2222222222222222,\"#7201a8\"],[0.3333333333333333,\"#9c179e\"],[0.4444444444444444,\"#bd3786\"],[0.5555555555555556,\"#d8576b\"],[0.6666666666666666,\"#ed7953\"],[0.7777777777777778,\"#fb9f3a\"],[0.8888888888888888,\"#fdca26\"],[1.0,\"#f0f921\"]]}],\"choropleth\":[{\"type\":\"choropleth\",\"colorbar\":{\"outlinewidth\":0,\"ticks\":\"\"}}],\"histogram2d\":[{\"type\":\"histogram2d\",\"colorbar\":{\"outlinewidth\":0,\"ticks\":\"\"},\"colorscale\":[[0.0,\"#0d0887\"],[0.1111111111111111,\"#46039f\"],[0.2222222222222222,\"#7201a8\"],[0.3333333333333333,\"#9c179e\"],[0.4444444444444444,\"#bd3786\"],[0.5555555555555556,\"#d8576b\"],[0.6666666666666666,\"#ed7953\"],[0.7777777777777778,\"#fb9f3a\"],[0.8888888888888888,\"#fdca26\"],[1.0,\"#f0f921\"]]}],\"heatmap\":[{\"type\":\"heatmap\",\"colorbar\":{\"outlinewidth\":0,\"ticks\":\"\"},\"colorscale\":[[0.0,\"#0d0887\"],[0.1111111111111111,\"#46039f\"],[0.2222222222222222,\"#7201a8\"],[0.3333333333333333,\"#9c179e\"],[0.4444444444444444,\"#bd3786\"],[0.5555555555555556,\"#d8576b\"],[0.6666666666666666,\"#ed7953\"],[0.7777777777777778,\"#fb9f3a\"],[0.8888888888888888,\"#fdca26\"],[1.0,\"#f0f921\"]]}],\"heatmapgl\":[{\"type\":\"heatmapgl\",\"colorbar\":{\"outlinewidth\":0,\"ticks\":\"\"},\"colorscale\":[[0.0,\"#0d0887\"],[0.1111111111111111,\"#46039f\"],[0.2222222222222222,\"#7201a8\"],[0.3333333333333333,\"#9c179e\"],[0.4444444444444444,\"#bd3786\"],[0.5555555555555556,\"#d8576b\"],[0.6666666666666666,\"#ed7953\"],[0.7777777777777778,\"#fb9f3a\"],[0.8888888888888888,\"#fdca26\"],[1.0,\"#f0f921\"]]}],\"contourcarpet\":[{\"type\":\"contourcarpet\",\"colorbar\":{\"outlinewidth\":0,\"ticks\":\"\"}}],\"contour\":[{\"type\":\"contour\",\"colorbar\":{\"outlinewidth\":0,\"ticks\":\"\"},\"colorscale\":[[0.0,\"#0d0887\"],[0.1111111111111111,\"#46039f\"],[0.2222222222222222,\"#7201a8\"],[0.3333333333333333,\"#9c179e\"],[0.4444444444444444,\"#bd3786\"],[0.5555555555555556,\"#d8576b\"],[0.6666666666666666,\"#ed7953\"],[0.7777777777777778,\"#fb9f3a\"],[0.8888888888888888,\"#fdca26\"],[1.0,\"#f0f921\"]]}],\"surface\":[{\"type\":\"surface\",\"colorbar\":{\"outlinewidth\":0,\"ticks\":\"\"},\"colorscale\":[[0.0,\"#0d0887\"],[0.1111111111111111,\"#46039f\"],[0.2222222222222222,\"#7201a8\"],[0.3333333333333333,\"#9c179e\"],[0.4444444444444444,\"#bd3786\"],[0.5555555555555556,\"#d8576b\"],[0.6666666666666666,\"#ed7953\"],[0.7777777777777778,\"#fb9f3a\"],[0.8888888888888888,\"#fdca26\"],[1.0,\"#f0f921\"]]}],\"mesh3d\":[{\"type\":\"mesh3d\",\"colorbar\":{\"outlinewidth\":0,\"ticks\":\"\"}}],\"scatter\":[{\"fillpattern\":{\"fillmode\":\"overlay\",\"size\":10,\"solidity\":0.2},\"type\":\"scatter\"}],\"parcoords\":[{\"type\":\"parcoords\",\"line\":{\"colorbar\":{\"outlinewidth\":0,\"ticks\":\"\"}}}],\"scatterpolargl\":[{\"type\":\"scatterpolargl\",\"marker\":{\"colorbar\":{\"outlinewidth\":0,\"ticks\":\"\"}}}],\"bar\":[{\"error_x\":{\"color\":\"#2a3f5f\"},\"error_y\":{\"color\":\"#2a3f5f\"},\"marker\":{\"line\":{\"color\":\"#E5ECF6\",\"width\":0.5},\"pattern\":{\"fillmode\":\"overlay\",\"size\":10,\"solidity\":0.2}},\"type\":\"bar\"}],\"scattergeo\":[{\"type\":\"scattergeo\",\"marker\":{\"colorbar\":{\"outlinewidth\":0,\"ticks\":\"\"}}}],\"scatterpolar\":[{\"type\":\"scatterpolar\",\"marker\":{\"colorbar\":{\"outlinewidth\":0,\"ticks\":\"\"}}}],\"histogram\":[{\"marker\":{\"pattern\":{\"fillmode\":\"overlay\",\"size\":10,\"solidity\":0.2}},\"type\":\"histogram\"}],\"scattergl\":[{\"type\":\"scattergl\",\"marker\":{\"colorbar\":{\"outlinewidth\":0,\"ticks\":\"\"}}}],\"scatter3d\":[{\"type\":\"scatter3d\",\"line\":{\"colorbar\":{\"outlinewidth\":0,\"ticks\":\"\"}},\"marker\":{\"colorbar\":{\"outlinewidth\":0,\"ticks\":\"\"}}}],\"scattermapbox\":[{\"type\":\"scattermapbox\",\"marker\":{\"colorbar\":{\"outlinewidth\":0,\"ticks\":\"\"}}}],\"scatterternary\":[{\"type\":\"scatterternary\",\"marker\":{\"colorbar\":{\"outlinewidth\":0,\"ticks\":\"\"}}}],\"scattercarpet\":[{\"type\":\"scattercarpet\",\"marker\":{\"colorbar\":{\"outlinewidth\":0,\"ticks\":\"\"}}}],\"carpet\":[{\"aaxis\":{\"endlinecolor\":\"#2a3f5f\",\"gridcolor\":\"white\",\"linecolor\":\"white\",\"minorgridcolor\":\"white\",\"startlinecolor\":\"#2a3f5f\"},\"baxis\":{\"endlinecolor\":\"#2a3f5f\",\"gridcolor\":\"white\",\"linecolor\":\"white\",\"minorgridcolor\":\"white\",\"startlinecolor\":\"#2a3f5f\"},\"type\":\"carpet\"}],\"table\":[{\"cells\":{\"fill\":{\"color\":\"#EBF0F8\"},\"line\":{\"color\":\"white\"}},\"header\":{\"fill\":{\"color\":\"#C8D4E3\"},\"line\":{\"color\":\"white\"}},\"type\":\"table\"}],\"barpolar\":[{\"marker\":{\"line\":{\"color\":\"#E5ECF6\",\"width\":0.5},\"pattern\":{\"fillmode\":\"overlay\",\"size\":10,\"solidity\":0.2}},\"type\":\"barpolar\"}],\"pie\":[{\"automargin\":true,\"type\":\"pie\"}]},\"layout\":{\"autotypenumbers\":\"strict\",\"colorway\":[\"#636efa\",\"#EF553B\",\"#00cc96\",\"#ab63fa\",\"#FFA15A\",\"#19d3f3\",\"#FF6692\",\"#B6E880\",\"#FF97FF\",\"#FECB52\"],\"font\":{\"color\":\"#2a3f5f\"},\"hovermode\":\"closest\",\"hoverlabel\":{\"align\":\"left\"},\"paper_bgcolor\":\"white\",\"plot_bgcolor\":\"#E5ECF6\",\"polar\":{\"bgcolor\":\"#E5ECF6\",\"angularaxis\":{\"gridcolor\":\"white\",\"linecolor\":\"white\",\"ticks\":\"\"},\"radialaxis\":{\"gridcolor\":\"white\",\"linecolor\":\"white\",\"ticks\":\"\"}},\"ternary\":{\"bgcolor\":\"#E5ECF6\",\"aaxis\":{\"gridcolor\":\"white\",\"linecolor\":\"white\",\"ticks\":\"\"},\"baxis\":{\"gridcolor\":\"white\",\"linecolor\":\"white\",\"ticks\":\"\"},\"caxis\":{\"gridcolor\":\"white\",\"linecolor\":\"white\",\"ticks\":\"\"}},\"coloraxis\":{\"colorbar\":{\"outlinewidth\":0,\"ticks\":\"\"}},\"colorscale\":{\"sequential\":[[0.0,\"#0d0887\"],[0.1111111111111111,\"#46039f\"],[0.2222222222222222,\"#7201a8\"],[0.3333333333333333,\"#9c179e\"],[0.4444444444444444,\"#bd3786\"],[0.5555555555555556,\"#d8576b\"],[0.6666666666666666,\"#ed7953\"],[0.7777777777777778,\"#fb9f3a\"],[0.8888888888888888,\"#fdca26\"],[1.0,\"#f0f921\"]],\"sequentialminus\":[[0.0,\"#0d0887\"],[0.1111111111111111,\"#46039f\"],[0.2222222222222222,\"#7201a8\"],[0.3333333333333333,\"#9c179e\"],[0.4444444444444444,\"#bd3786\"],[0.5555555555555556,\"#d8576b\"],[0.6666666666666666,\"#ed7953\"],[0.7777777777777778,\"#fb9f3a\"],[0.8888888888888888,\"#fdca26\"],[1.0,\"#f0f921\"]],\"diverging\":[[0,\"#8e0152\"],[0.1,\"#c51b7d\"],[0.2,\"#de77ae\"],[0.3,\"#f1b6da\"],[0.4,\"#fde0ef\"],[0.5,\"#f7f7f7\"],[0.6,\"#e6f5d0\"],[0.7,\"#b8e186\"],[0.8,\"#7fbc41\"],[0.9,\"#4d9221\"],[1,\"#276419\"]]},\"xaxis\":{\"gridcolor\":\"white\",\"linecolor\":\"white\",\"ticks\":\"\",\"title\":{\"standoff\":15},\"zerolinecolor\":\"white\",\"automargin\":true,\"zerolinewidth\":2},\"yaxis\":{\"gridcolor\":\"white\",\"linecolor\":\"white\",\"ticks\":\"\",\"title\":{\"standoff\":15},\"zerolinecolor\":\"white\",\"automargin\":true,\"zerolinewidth\":2},\"scene\":{\"xaxis\":{\"backgroundcolor\":\"#E5ECF6\",\"gridcolor\":\"white\",\"linecolor\":\"white\",\"showbackground\":true,\"ticks\":\"\",\"zerolinecolor\":\"white\",\"gridwidth\":2},\"yaxis\":{\"backgroundcolor\":\"#E5ECF6\",\"gridcolor\":\"white\",\"linecolor\":\"white\",\"showbackground\":true,\"ticks\":\"\",\"zerolinecolor\":\"white\",\"gridwidth\":2},\"zaxis\":{\"backgroundcolor\":\"#E5ECF6\",\"gridcolor\":\"white\",\"linecolor\":\"white\",\"showbackground\":true,\"ticks\":\"\",\"zerolinecolor\":\"white\",\"gridwidth\":2}},\"shapedefaults\":{\"line\":{\"color\":\"#2a3f5f\"}},\"annotationdefaults\":{\"arrowcolor\":\"#2a3f5f\",\"arrowhead\":0,\"arrowwidth\":1},\"geo\":{\"bgcolor\":\"white\",\"landcolor\":\"#E5ECF6\",\"subunitcolor\":\"white\",\"showland\":true,\"showlakes\":true,\"lakecolor\":\"white\"},\"title\":{\"x\":0.05},\"mapbox\":{\"style\":\"light\"}}},\"xaxis\":{\"anchor\":\"y\",\"domain\":[0.0,1.0],\"title\":{\"text\":\"escolaridad\"}},\"yaxis\":{\"anchor\":\"x\",\"domain\":[0.0,1.0],\"title\":{\"text\":\"count\"}},\"legend\":{\"title\":{\"text\":\"adherencia_inversion\"},\"tracegroupgap\":0},\"margin\":{\"t\":60},\"barmode\":\"group\"},                        {\"responsive\": true}                    ).then(function(){\n",
              "                            \n",
              "var gd = document.getElementById('47469e9e-3498-494f-ba28-e0f2cf9b2f98');\n",
              "var x = new MutationObserver(function (mutations, observer) {{\n",
              "        var display = window.getComputedStyle(gd).display;\n",
              "        if (!display || display === 'none') {{\n",
              "            console.log([gd, 'removed!']);\n",
              "            Plotly.purge(gd);\n",
              "            observer.disconnect();\n",
              "        }}\n",
              "}});\n",
              "\n",
              "// Listen for the removal of the full notebook cells\n",
              "var notebookContainer = gd.closest('#notebook-container');\n",
              "if (notebookContainer) {{\n",
              "    x.observe(notebookContainer, {childList: true});\n",
              "}}\n",
              "\n",
              "// Listen for the clearing of the current output cell\n",
              "var outputEl = gd.closest('.output');\n",
              "if (outputEl) {{\n",
              "    x.observe(outputEl, {childList: true});\n",
              "}}\n",
              "\n",
              "                        })                };                            </script>        </div>\n",
              "</body>\n",
              "</html>"
            ]
          },
          "metadata": {}
        }
      ]
    },
    {
      "cell_type": "code",
      "source": [
        "px.histogram(datos, x='default', text_auto=True, color='adherencia_inversion', barmode='group')"
      ],
      "metadata": {
        "id": "k1KsB0c1BVtL",
        "colab": {
          "base_uri": "https://localhost:8080/",
          "height": 542
        },
        "outputId": "25850feb-4513-48ce-ae15-1284c8a36a44"
      },
      "execution_count": 64,
      "outputs": [
        {
          "output_type": "display_data",
          "data": {
            "text/html": [
              "<html>\n",
              "<head><meta charset=\"utf-8\" /></head>\n",
              "<body>\n",
              "    <div>            <script src=\"https://cdnjs.cloudflare.com/ajax/libs/mathjax/2.7.5/MathJax.js?config=TeX-AMS-MML_SVG\"></script><script type=\"text/javascript\">if (window.MathJax && window.MathJax.Hub && window.MathJax.Hub.Config) {window.MathJax.Hub.Config({SVG: {font: \"STIX-Web\"}});}</script>                <script type=\"text/javascript\">window.PlotlyConfig = {MathJaxConfig: 'local'};</script>\n",
              "        <script charset=\"utf-8\" src=\"https://cdn.plot.ly/plotly-2.35.2.min.js\"></script>                <div id=\"9d017a20-3c72-409d-96c7-73807e92135c\" class=\"plotly-graph-div\" style=\"height:525px; width:100%;\"></div>            <script type=\"text/javascript\">                                    window.PLOTLYENV=window.PLOTLYENV || {};                                    if (document.getElementById(\"9d017a20-3c72-409d-96c7-73807e92135c\")) {                    Plotly.newPlot(                        \"9d017a20-3c72-409d-96c7-73807e92135c\",                        [{\"alignmentgroup\":\"True\",\"bingroup\":\"x\",\"hovertemplate\":\"adherencia_inversion=si\\u003cbr\\u003edefault=%{x}\\u003cbr\\u003ecount=%{y}\\u003cextra\\u003e\\u003c\\u002fextra\\u003e\",\"legendgroup\":\"si\",\"marker\":{\"color\":\"#636efa\",\"pattern\":{\"shape\":\"\"}},\"name\":\"si\",\"offsetgroup\":\"si\",\"orientation\":\"v\",\"showlegend\":true,\"texttemplate\":\"%{value}\",\"x\":[\"no\",\"no\",\"no\",\"no\",\"no\",\"no\",\"no\",\"no\",\"no\",\"no\",\"no\",\"no\",\"no\",\"no\",\"no\",\"no\",\"no\",\"no\",\"no\",\"no\",\"no\",\"no\",\"no\",\"no\",\"no\",\"no\",\"no\",\"no\",\"no\",\"no\",\"no\",\"no\",\"no\",\"no\",\"no\",\"no\",\"no\",\"no\",\"no\",\"no\",\"no\",\"no\",\"no\",\"no\",\"no\",\"si\",\"no\",\"no\",\"no\",\"no\",\"no\",\"no\",\"no\",\"no\",\"no\",\"no\",\"no\",\"no\",\"no\",\"no\",\"no\",\"no\",\"no\",\"no\",\"no\",\"no\",\"no\",\"no\",\"no\",\"no\",\"no\",\"no\",\"no\",\"no\",\"no\",\"no\",\"no\",\"no\",\"no\",\"no\",\"no\",\"no\",\"no\",\"no\",\"no\",\"no\",\"no\",\"no\",\"no\",\"no\",\"no\",\"no\",\"no\",\"no\",\"no\",\"no\",\"no\",\"no\",\"no\",\"no\",\"no\",\"no\",\"no\",\"no\",\"no\",\"no\",\"no\",\"no\",\"no\",\"no\",\"no\",\"no\",\"no\",\"no\",\"no\",\"no\",\"no\",\"no\",\"no\",\"no\",\"no\",\"no\",\"no\",\"no\",\"no\",\"no\",\"no\",\"no\",\"no\",\"no\",\"no\",\"no\",\"no\",\"no\",\"no\",\"no\",\"no\",\"no\",\"no\",\"no\",\"no\",\"no\",\"no\",\"no\",\"no\",\"no\",\"no\",\"no\",\"no\",\"no\",\"no\",\"no\",\"no\",\"no\",\"no\",\"no\",\"no\",\"no\",\"si\",\"no\",\"no\",\"no\",\"no\",\"no\",\"no\",\"no\",\"no\",\"no\",\"si\",\"no\",\"no\",\"no\",\"no\",\"no\",\"no\",\"no\",\"no\",\"no\",\"no\",\"no\",\"no\",\"no\",\"no\",\"no\",\"no\",\"no\",\"no\",\"no\",\"no\",\"no\",\"no\",\"no\",\"no\",\"no\",\"no\",\"no\",\"no\",\"no\",\"no\",\"no\",\"no\",\"no\",\"no\",\"no\",\"no\",\"no\",\"no\",\"no\",\"no\",\"no\",\"si\",\"no\",\"no\",\"no\",\"no\",\"no\",\"no\",\"no\",\"no\",\"no\",\"no\",\"no\",\"no\",\"no\",\"no\",\"no\",\"no\",\"no\",\"no\",\"no\",\"no\",\"no\",\"no\",\"no\",\"no\",\"no\",\"no\",\"no\",\"no\",\"no\",\"no\",\"no\",\"no\",\"no\",\"no\",\"no\",\"no\",\"no\",\"no\",\"no\",\"no\",\"no\",\"no\",\"no\",\"no\",\"no\",\"no\",\"no\",\"no\",\"no\",\"no\",\"no\",\"no\",\"no\",\"no\",\"no\",\"no\",\"no\",\"no\",\"no\",\"no\",\"no\",\"no\",\"no\",\"no\",\"no\",\"no\",\"no\",\"no\",\"no\",\"no\",\"no\",\"no\",\"no\",\"no\",\"no\",\"no\",\"no\",\"no\",\"no\",\"no\",\"no\",\"no\",\"no\",\"no\",\"no\",\"no\",\"no\",\"no\",\"no\",\"no\",\"no\",\"no\",\"no\",\"no\",\"no\",\"no\",\"no\",\"no\",\"no\",\"no\",\"no\",\"no\",\"no\",\"no\",\"no\",\"no\",\"no\",\"no\",\"no\",\"no\",\"no\",\"no\",\"no\",\"no\",\"no\",\"no\",\"no\",\"no\",\"no\",\"no\",\"no\",\"no\",\"no\",\"no\",\"no\",\"no\",\"no\",\"no\",\"no\",\"no\",\"no\",\"no\",\"no\",\"no\",\"no\",\"no\",\"no\",\"no\",\"no\",\"no\",\"no\",\"no\",\"no\",\"no\",\"no\",\"no\",\"no\",\"no\",\"no\",\"no\",\"no\",\"no\",\"no\",\"no\",\"no\",\"no\",\"no\",\"no\",\"no\",\"no\",\"no\",\"no\",\"no\",\"no\",\"no\",\"no\",\"no\",\"no\",\"no\",\"no\",\"no\",\"no\",\"no\",\"no\",\"no\",\"no\",\"si\",\"no\",\"no\",\"no\",\"no\",\"no\",\"no\",\"no\",\"no\",\"no\",\"no\",\"no\",\"no\",\"no\",\"si\",\"no\",\"no\",\"no\",\"no\",\"no\",\"no\",\"no\",\"no\",\"no\",\"no\",\"no\",\"no\",\"no\",\"no\",\"no\",\"no\",\"no\",\"no\",\"no\",\"no\",\"no\",\"no\",\"no\",\"no\",\"no\",\"no\",\"no\",\"no\",\"no\",\"no\",\"no\",\"no\",\"no\",\"no\",\"no\",\"no\",\"no\",\"no\",\"no\",\"no\",\"no\",\"no\",\"no\",\"no\",\"no\",\"no\",\"si\",\"no\",\"no\",\"no\",\"no\",\"no\",\"no\",\"no\",\"no\",\"no\",\"no\",\"no\",\"no\",\"no\",\"no\",\"no\",\"no\",\"no\",\"no\",\"no\",\"no\",\"no\",\"no\",\"no\",\"no\",\"no\",\"no\",\"no\",\"si\",\"no\",\"no\",\"no\",\"no\",\"no\",\"no\",\"no\",\"no\",\"no\",\"no\",\"no\",\"no\",\"no\",\"no\",\"no\",\"no\",\"no\",\"no\",\"no\",\"no\",\"no\",\"no\",\"no\",\"no\",\"no\"],\"xaxis\":\"x\",\"yaxis\":\"y\",\"type\":\"histogram\"},{\"alignmentgroup\":\"True\",\"bingroup\":\"x\",\"hovertemplate\":\"adherencia_inversion=no\\u003cbr\\u003edefault=%{x}\\u003cbr\\u003ecount=%{y}\\u003cextra\\u003e\\u003c\\u002fextra\\u003e\",\"legendgroup\":\"no\",\"marker\":{\"color\":\"#EF553B\",\"pattern\":{\"shape\":\"\"}},\"name\":\"no\",\"offsetgroup\":\"no\",\"orientation\":\"v\",\"showlegend\":true,\"texttemplate\":\"%{value}\",\"x\":[\"no\",\"no\",\"no\",\"no\",\"no\",\"no\",\"no\",\"no\",\"no\",\"no\",\"no\",\"no\",\"no\",\"no\",\"no\",\"no\",\"no\",\"no\",\"no\",\"no\",\"no\",\"no\",\"no\",\"si\",\"no\",\"no\",\"no\",\"no\",\"no\",\"no\",\"no\",\"no\",\"no\",\"no\",\"no\",\"no\",\"no\",\"no\",\"no\",\"no\",\"no\",\"no\",\"no\",\"no\",\"no\",\"no\",\"no\",\"no\",\"no\",\"no\",\"no\",\"no\",\"no\",\"no\",\"no\",\"no\",\"si\",\"no\",\"no\",\"no\",\"no\",\"no\",\"no\",\"no\",\"no\",\"no\",\"no\",\"no\",\"no\",\"no\",\"no\",\"no\",\"no\",\"no\",\"no\",\"no\",\"no\",\"no\",\"no\",\"no\",\"no\",\"no\",\"no\",\"no\",\"no\",\"no\",\"no\",\"no\",\"no\",\"no\",\"no\",\"no\",\"no\",\"no\",\"no\",\"no\",\"no\",\"no\",\"no\",\"no\",\"no\",\"no\",\"no\",\"no\",\"no\",\"no\",\"no\",\"no\",\"no\",\"no\",\"no\",\"si\",\"no\",\"no\",\"si\",\"no\",\"no\",\"no\",\"no\",\"no\",\"no\",\"no\",\"no\",\"no\",\"no\",\"no\",\"no\",\"no\",\"no\",\"no\",\"no\",\"no\",\"no\",\"no\",\"no\",\"no\",\"no\",\"no\",\"no\",\"no\",\"no\",\"no\",\"no\",\"no\",\"no\",\"no\",\"no\",\"no\",\"no\",\"no\",\"no\",\"no\",\"no\",\"no\",\"no\",\"no\",\"no\",\"no\",\"no\",\"no\",\"no\",\"no\",\"no\",\"no\",\"si\",\"no\",\"no\",\"no\",\"no\",\"no\",\"no\",\"no\",\"no\",\"no\",\"no\",\"no\",\"no\",\"no\",\"no\",\"no\",\"no\",\"no\",\"no\",\"no\",\"no\",\"no\",\"no\",\"no\",\"no\",\"no\",\"no\",\"no\",\"no\",\"no\",\"no\",\"no\",\"no\",\"no\",\"no\",\"no\",\"no\",\"no\",\"no\",\"no\",\"no\",\"no\",\"no\",\"no\",\"no\",\"no\",\"no\",\"no\",\"no\",\"no\",\"no\",\"no\",\"no\",\"no\",\"no\",\"no\",\"no\",\"no\",\"no\",\"no\",\"no\",\"no\",\"no\",\"no\",\"no\",\"no\",\"no\",\"no\",\"no\",\"no\",\"no\",\"no\",\"no\",\"no\",\"no\",\"no\",\"no\",\"no\",\"no\",\"no\",\"no\",\"no\",\"no\",\"no\",\"no\",\"no\",\"no\",\"no\",\"no\",\"no\",\"no\",\"no\",\"no\",\"no\",\"no\",\"no\",\"no\",\"no\",\"no\",\"no\",\"no\",\"no\",\"no\",\"no\",\"no\",\"no\",\"no\",\"no\",\"no\",\"no\",\"no\",\"no\",\"no\",\"no\",\"no\",\"no\",\"no\",\"no\",\"no\",\"no\",\"no\",\"no\",\"no\",\"no\",\"no\",\"no\",\"no\",\"no\",\"no\",\"no\",\"no\",\"no\",\"no\",\"no\",\"no\",\"no\",\"no\",\"no\",\"no\",\"no\",\"no\",\"si\",\"no\",\"si\",\"no\",\"no\",\"no\",\"no\",\"no\",\"no\",\"no\",\"no\",\"no\",\"no\",\"no\",\"no\",\"no\",\"no\",\"no\",\"no\",\"no\",\"no\",\"si\",\"no\",\"no\",\"no\",\"no\",\"no\",\"no\",\"no\",\"no\",\"no\",\"no\",\"no\",\"no\",\"no\",\"no\",\"no\",\"no\",\"no\",\"no\",\"no\",\"no\",\"no\",\"no\",\"no\",\"no\",\"no\",\"no\",\"no\",\"no\",\"no\",\"no\",\"no\",\"no\",\"no\",\"no\",\"no\",\"no\",\"no\",\"si\",\"no\",\"no\",\"no\",\"no\",\"no\",\"no\",\"no\",\"no\",\"no\",\"no\",\"no\",\"no\",\"no\",\"no\",\"no\",\"no\",\"no\",\"no\",\"no\",\"no\",\"no\",\"no\",\"no\",\"no\",\"no\",\"no\",\"no\",\"no\",\"no\",\"no\",\"no\",\"no\",\"no\",\"no\",\"no\",\"no\",\"no\",\"no\",\"no\",\"no\",\"no\",\"no\",\"no\",\"no\",\"no\",\"no\",\"no\",\"no\",\"no\",\"no\",\"no\",\"no\",\"no\",\"no\",\"no\",\"no\",\"no\",\"no\",\"no\",\"no\",\"no\",\"no\",\"no\",\"no\",\"no\",\"no\",\"no\",\"no\",\"no\",\"no\",\"no\",\"no\",\"no\",\"no\",\"no\",\"no\",\"no\",\"no\",\"no\",\"no\",\"no\",\"no\",\"no\",\"si\",\"no\",\"no\",\"no\",\"no\",\"no\",\"no\",\"no\",\"no\",\"no\",\"no\",\"no\",\"no\",\"no\",\"no\",\"no\",\"no\",\"no\",\"no\",\"no\",\"no\",\"no\",\"no\",\"no\",\"no\",\"no\",\"no\",\"no\",\"no\",\"no\",\"no\",\"no\",\"no\",\"no\",\"no\",\"no\",\"no\",\"no\",\"no\",\"no\",\"no\",\"no\",\"no\",\"no\",\"no\",\"no\",\"no\",\"no\",\"no\",\"no\",\"no\",\"no\",\"no\",\"no\",\"no\",\"no\",\"no\",\"no\",\"no\",\"no\",\"no\",\"no\",\"no\",\"no\",\"no\",\"no\",\"no\",\"no\",\"no\",\"no\",\"no\",\"no\",\"no\",\"no\",\"no\",\"no\",\"no\",\"no\",\"no\",\"no\",\"no\",\"no\",\"no\",\"no\",\"no\",\"no\",\"no\",\"no\",\"no\",\"no\",\"no\",\"no\",\"no\",\"no\",\"no\",\"no\",\"no\",\"no\",\"no\",\"no\",\"no\",\"no\",\"no\",\"no\",\"no\",\"no\",\"no\",\"no\",\"no\",\"no\",\"no\",\"no\",\"no\",\"no\",\"no\",\"no\",\"no\",\"no\",\"no\",\"no\",\"no\",\"no\",\"no\",\"no\",\"no\",\"si\",\"no\",\"no\",\"no\",\"no\",\"no\",\"no\",\"no\",\"no\",\"no\",\"no\",\"no\",\"si\",\"no\",\"no\",\"no\",\"no\",\"no\",\"no\",\"no\",\"no\",\"no\",\"no\",\"no\",\"no\",\"no\",\"no\",\"no\",\"no\",\"no\",\"no\",\"no\",\"no\",\"no\",\"no\",\"no\",\"no\",\"no\",\"no\",\"no\",\"no\",\"no\",\"no\",\"no\",\"no\",\"no\",\"no\",\"no\",\"no\",\"no\",\"no\",\"no\",\"no\",\"no\",\"no\",\"no\",\"no\",\"no\",\"no\",\"no\",\"no\",\"no\",\"no\",\"no\",\"no\",\"no\",\"no\",\"no\",\"no\",\"no\",\"no\",\"no\",\"no\",\"no\",\"no\",\"no\",\"no\",\"no\",\"no\",\"no\",\"no\",\"no\",\"no\",\"no\",\"no\",\"no\",\"no\",\"no\",\"no\",\"no\",\"no\",\"no\",\"no\",\"no\",\"no\",\"no\",\"no\",\"no\",\"no\",\"no\",\"no\",\"no\",\"no\",\"no\",\"no\",\"no\",\"no\",\"no\",\"no\",\"no\",\"no\",\"no\",\"no\",\"no\",\"no\",\"no\",\"no\",\"si\",\"no\",\"si\",\"no\",\"no\",\"no\",\"no\",\"no\",\"no\",\"no\",\"no\",\"no\",\"no\",\"no\",\"no\",\"no\",\"no\",\"no\",\"no\",\"no\",\"no\",\"no\",\"no\",\"no\",\"no\",\"no\",\"no\",\"no\",\"no\",\"no\",\"no\",\"no\",\"no\",\"no\",\"no\",\"no\",\"no\",\"no\",\"no\",\"no\",\"no\",\"no\",\"no\",\"no\",\"no\",\"no\",\"si\",\"no\",\"no\",\"no\",\"no\",\"no\",\"no\",\"no\",\"no\",\"no\",\"no\",\"no\",\"no\",\"no\",\"no\",\"no\",\"no\",\"no\",\"no\",\"no\",\"no\",\"no\",\"no\",\"no\",\"no\",\"no\",\"no\",\"no\",\"no\",\"no\"],\"xaxis\":\"x\",\"yaxis\":\"y\",\"type\":\"histogram\"}],                        {\"template\":{\"data\":{\"histogram2dcontour\":[{\"type\":\"histogram2dcontour\",\"colorbar\":{\"outlinewidth\":0,\"ticks\":\"\"},\"colorscale\":[[0.0,\"#0d0887\"],[0.1111111111111111,\"#46039f\"],[0.2222222222222222,\"#7201a8\"],[0.3333333333333333,\"#9c179e\"],[0.4444444444444444,\"#bd3786\"],[0.5555555555555556,\"#d8576b\"],[0.6666666666666666,\"#ed7953\"],[0.7777777777777778,\"#fb9f3a\"],[0.8888888888888888,\"#fdca26\"],[1.0,\"#f0f921\"]]}],\"choropleth\":[{\"type\":\"choropleth\",\"colorbar\":{\"outlinewidth\":0,\"ticks\":\"\"}}],\"histogram2d\":[{\"type\":\"histogram2d\",\"colorbar\":{\"outlinewidth\":0,\"ticks\":\"\"},\"colorscale\":[[0.0,\"#0d0887\"],[0.1111111111111111,\"#46039f\"],[0.2222222222222222,\"#7201a8\"],[0.3333333333333333,\"#9c179e\"],[0.4444444444444444,\"#bd3786\"],[0.5555555555555556,\"#d8576b\"],[0.6666666666666666,\"#ed7953\"],[0.7777777777777778,\"#fb9f3a\"],[0.8888888888888888,\"#fdca26\"],[1.0,\"#f0f921\"]]}],\"heatmap\":[{\"type\":\"heatmap\",\"colorbar\":{\"outlinewidth\":0,\"ticks\":\"\"},\"colorscale\":[[0.0,\"#0d0887\"],[0.1111111111111111,\"#46039f\"],[0.2222222222222222,\"#7201a8\"],[0.3333333333333333,\"#9c179e\"],[0.4444444444444444,\"#bd3786\"],[0.5555555555555556,\"#d8576b\"],[0.6666666666666666,\"#ed7953\"],[0.7777777777777778,\"#fb9f3a\"],[0.8888888888888888,\"#fdca26\"],[1.0,\"#f0f921\"]]}],\"heatmapgl\":[{\"type\":\"heatmapgl\",\"colorbar\":{\"outlinewidth\":0,\"ticks\":\"\"},\"colorscale\":[[0.0,\"#0d0887\"],[0.1111111111111111,\"#46039f\"],[0.2222222222222222,\"#7201a8\"],[0.3333333333333333,\"#9c179e\"],[0.4444444444444444,\"#bd3786\"],[0.5555555555555556,\"#d8576b\"],[0.6666666666666666,\"#ed7953\"],[0.7777777777777778,\"#fb9f3a\"],[0.8888888888888888,\"#fdca26\"],[1.0,\"#f0f921\"]]}],\"contourcarpet\":[{\"type\":\"contourcarpet\",\"colorbar\":{\"outlinewidth\":0,\"ticks\":\"\"}}],\"contour\":[{\"type\":\"contour\",\"colorbar\":{\"outlinewidth\":0,\"ticks\":\"\"},\"colorscale\":[[0.0,\"#0d0887\"],[0.1111111111111111,\"#46039f\"],[0.2222222222222222,\"#7201a8\"],[0.3333333333333333,\"#9c179e\"],[0.4444444444444444,\"#bd3786\"],[0.5555555555555556,\"#d8576b\"],[0.6666666666666666,\"#ed7953\"],[0.7777777777777778,\"#fb9f3a\"],[0.8888888888888888,\"#fdca26\"],[1.0,\"#f0f921\"]]}],\"surface\":[{\"type\":\"surface\",\"colorbar\":{\"outlinewidth\":0,\"ticks\":\"\"},\"colorscale\":[[0.0,\"#0d0887\"],[0.1111111111111111,\"#46039f\"],[0.2222222222222222,\"#7201a8\"],[0.3333333333333333,\"#9c179e\"],[0.4444444444444444,\"#bd3786\"],[0.5555555555555556,\"#d8576b\"],[0.6666666666666666,\"#ed7953\"],[0.7777777777777778,\"#fb9f3a\"],[0.8888888888888888,\"#fdca26\"],[1.0,\"#f0f921\"]]}],\"mesh3d\":[{\"type\":\"mesh3d\",\"colorbar\":{\"outlinewidth\":0,\"ticks\":\"\"}}],\"scatter\":[{\"fillpattern\":{\"fillmode\":\"overlay\",\"size\":10,\"solidity\":0.2},\"type\":\"scatter\"}],\"parcoords\":[{\"type\":\"parcoords\",\"line\":{\"colorbar\":{\"outlinewidth\":0,\"ticks\":\"\"}}}],\"scatterpolargl\":[{\"type\":\"scatterpolargl\",\"marker\":{\"colorbar\":{\"outlinewidth\":0,\"ticks\":\"\"}}}],\"bar\":[{\"error_x\":{\"color\":\"#2a3f5f\"},\"error_y\":{\"color\":\"#2a3f5f\"},\"marker\":{\"line\":{\"color\":\"#E5ECF6\",\"width\":0.5},\"pattern\":{\"fillmode\":\"overlay\",\"size\":10,\"solidity\":0.2}},\"type\":\"bar\"}],\"scattergeo\":[{\"type\":\"scattergeo\",\"marker\":{\"colorbar\":{\"outlinewidth\":0,\"ticks\":\"\"}}}],\"scatterpolar\":[{\"type\":\"scatterpolar\",\"marker\":{\"colorbar\":{\"outlinewidth\":0,\"ticks\":\"\"}}}],\"histogram\":[{\"marker\":{\"pattern\":{\"fillmode\":\"overlay\",\"size\":10,\"solidity\":0.2}},\"type\":\"histogram\"}],\"scattergl\":[{\"type\":\"scattergl\",\"marker\":{\"colorbar\":{\"outlinewidth\":0,\"ticks\":\"\"}}}],\"scatter3d\":[{\"type\":\"scatter3d\",\"line\":{\"colorbar\":{\"outlinewidth\":0,\"ticks\":\"\"}},\"marker\":{\"colorbar\":{\"outlinewidth\":0,\"ticks\":\"\"}}}],\"scattermapbox\":[{\"type\":\"scattermapbox\",\"marker\":{\"colorbar\":{\"outlinewidth\":0,\"ticks\":\"\"}}}],\"scatterternary\":[{\"type\":\"scatterternary\",\"marker\":{\"colorbar\":{\"outlinewidth\":0,\"ticks\":\"\"}}}],\"scattercarpet\":[{\"type\":\"scattercarpet\",\"marker\":{\"colorbar\":{\"outlinewidth\":0,\"ticks\":\"\"}}}],\"carpet\":[{\"aaxis\":{\"endlinecolor\":\"#2a3f5f\",\"gridcolor\":\"white\",\"linecolor\":\"white\",\"minorgridcolor\":\"white\",\"startlinecolor\":\"#2a3f5f\"},\"baxis\":{\"endlinecolor\":\"#2a3f5f\",\"gridcolor\":\"white\",\"linecolor\":\"white\",\"minorgridcolor\":\"white\",\"startlinecolor\":\"#2a3f5f\"},\"type\":\"carpet\"}],\"table\":[{\"cells\":{\"fill\":{\"color\":\"#EBF0F8\"},\"line\":{\"color\":\"white\"}},\"header\":{\"fill\":{\"color\":\"#C8D4E3\"},\"line\":{\"color\":\"white\"}},\"type\":\"table\"}],\"barpolar\":[{\"marker\":{\"line\":{\"color\":\"#E5ECF6\",\"width\":0.5},\"pattern\":{\"fillmode\":\"overlay\",\"size\":10,\"solidity\":0.2}},\"type\":\"barpolar\"}],\"pie\":[{\"automargin\":true,\"type\":\"pie\"}]},\"layout\":{\"autotypenumbers\":\"strict\",\"colorway\":[\"#636efa\",\"#EF553B\",\"#00cc96\",\"#ab63fa\",\"#FFA15A\",\"#19d3f3\",\"#FF6692\",\"#B6E880\",\"#FF97FF\",\"#FECB52\"],\"font\":{\"color\":\"#2a3f5f\"},\"hovermode\":\"closest\",\"hoverlabel\":{\"align\":\"left\"},\"paper_bgcolor\":\"white\",\"plot_bgcolor\":\"#E5ECF6\",\"polar\":{\"bgcolor\":\"#E5ECF6\",\"angularaxis\":{\"gridcolor\":\"white\",\"linecolor\":\"white\",\"ticks\":\"\"},\"radialaxis\":{\"gridcolor\":\"white\",\"linecolor\":\"white\",\"ticks\":\"\"}},\"ternary\":{\"bgcolor\":\"#E5ECF6\",\"aaxis\":{\"gridcolor\":\"white\",\"linecolor\":\"white\",\"ticks\":\"\"},\"baxis\":{\"gridcolor\":\"white\",\"linecolor\":\"white\",\"ticks\":\"\"},\"caxis\":{\"gridcolor\":\"white\",\"linecolor\":\"white\",\"ticks\":\"\"}},\"coloraxis\":{\"colorbar\":{\"outlinewidth\":0,\"ticks\":\"\"}},\"colorscale\":{\"sequential\":[[0.0,\"#0d0887\"],[0.1111111111111111,\"#46039f\"],[0.2222222222222222,\"#7201a8\"],[0.3333333333333333,\"#9c179e\"],[0.4444444444444444,\"#bd3786\"],[0.5555555555555556,\"#d8576b\"],[0.6666666666666666,\"#ed7953\"],[0.7777777777777778,\"#fb9f3a\"],[0.8888888888888888,\"#fdca26\"],[1.0,\"#f0f921\"]],\"sequentialminus\":[[0.0,\"#0d0887\"],[0.1111111111111111,\"#46039f\"],[0.2222222222222222,\"#7201a8\"],[0.3333333333333333,\"#9c179e\"],[0.4444444444444444,\"#bd3786\"],[0.5555555555555556,\"#d8576b\"],[0.6666666666666666,\"#ed7953\"],[0.7777777777777778,\"#fb9f3a\"],[0.8888888888888888,\"#fdca26\"],[1.0,\"#f0f921\"]],\"diverging\":[[0,\"#8e0152\"],[0.1,\"#c51b7d\"],[0.2,\"#de77ae\"],[0.3,\"#f1b6da\"],[0.4,\"#fde0ef\"],[0.5,\"#f7f7f7\"],[0.6,\"#e6f5d0\"],[0.7,\"#b8e186\"],[0.8,\"#7fbc41\"],[0.9,\"#4d9221\"],[1,\"#276419\"]]},\"xaxis\":{\"gridcolor\":\"white\",\"linecolor\":\"white\",\"ticks\":\"\",\"title\":{\"standoff\":15},\"zerolinecolor\":\"white\",\"automargin\":true,\"zerolinewidth\":2},\"yaxis\":{\"gridcolor\":\"white\",\"linecolor\":\"white\",\"ticks\":\"\",\"title\":{\"standoff\":15},\"zerolinecolor\":\"white\",\"automargin\":true,\"zerolinewidth\":2},\"scene\":{\"xaxis\":{\"backgroundcolor\":\"#E5ECF6\",\"gridcolor\":\"white\",\"linecolor\":\"white\",\"showbackground\":true,\"ticks\":\"\",\"zerolinecolor\":\"white\",\"gridwidth\":2},\"yaxis\":{\"backgroundcolor\":\"#E5ECF6\",\"gridcolor\":\"white\",\"linecolor\":\"white\",\"showbackground\":true,\"ticks\":\"\",\"zerolinecolor\":\"white\",\"gridwidth\":2},\"zaxis\":{\"backgroundcolor\":\"#E5ECF6\",\"gridcolor\":\"white\",\"linecolor\":\"white\",\"showbackground\":true,\"ticks\":\"\",\"zerolinecolor\":\"white\",\"gridwidth\":2}},\"shapedefaults\":{\"line\":{\"color\":\"#2a3f5f\"}},\"annotationdefaults\":{\"arrowcolor\":\"#2a3f5f\",\"arrowhead\":0,\"arrowwidth\":1},\"geo\":{\"bgcolor\":\"white\",\"landcolor\":\"#E5ECF6\",\"subunitcolor\":\"white\",\"showland\":true,\"showlakes\":true,\"lakecolor\":\"white\"},\"title\":{\"x\":0.05},\"mapbox\":{\"style\":\"light\"}}},\"xaxis\":{\"anchor\":\"y\",\"domain\":[0.0,1.0],\"title\":{\"text\":\"default\"}},\"yaxis\":{\"anchor\":\"x\",\"domain\":[0.0,1.0],\"title\":{\"text\":\"count\"}},\"legend\":{\"title\":{\"text\":\"adherencia_inversion\"},\"tracegroupgap\":0},\"margin\":{\"t\":60},\"barmode\":\"group\"},                        {\"responsive\": true}                    ).then(function(){\n",
              "                            \n",
              "var gd = document.getElementById('9d017a20-3c72-409d-96c7-73807e92135c');\n",
              "var x = new MutationObserver(function (mutations, observer) {{\n",
              "        var display = window.getComputedStyle(gd).display;\n",
              "        if (!display || display === 'none') {{\n",
              "            console.log([gd, 'removed!']);\n",
              "            Plotly.purge(gd);\n",
              "            observer.disconnect();\n",
              "        }}\n",
              "}});\n",
              "\n",
              "// Listen for the removal of the full notebook cells\n",
              "var notebookContainer = gd.closest('#notebook-container');\n",
              "if (notebookContainer) {{\n",
              "    x.observe(notebookContainer, {childList: true});\n",
              "}}\n",
              "\n",
              "// Listen for the clearing of the current output cell\n",
              "var outputEl = gd.closest('.output');\n",
              "if (outputEl) {{\n",
              "    x.observe(outputEl, {childList: true});\n",
              "}}\n",
              "\n",
              "                        })                };                            </script>        </div>\n",
              "</body>\n",
              "</html>"
            ]
          },
          "metadata": {}
        }
      ]
    },
    {
      "cell_type": "code",
      "source": [
        "px.histogram(datos, x='prestatario', text_auto=True, color='adherencia_inversion', barmode='group')"
      ],
      "metadata": {
        "colab": {
          "base_uri": "https://localhost:8080/",
          "height": 542
        },
        "id": "Hg9bcplb5Qbe",
        "outputId": "84825b91-7cfa-4a86-874b-b753dee2c896"
      },
      "execution_count": 65,
      "outputs": [
        {
          "output_type": "display_data",
          "data": {
            "text/html": [
              "<html>\n",
              "<head><meta charset=\"utf-8\" /></head>\n",
              "<body>\n",
              "    <div>            <script src=\"https://cdnjs.cloudflare.com/ajax/libs/mathjax/2.7.5/MathJax.js?config=TeX-AMS-MML_SVG\"></script><script type=\"text/javascript\">if (window.MathJax && window.MathJax.Hub && window.MathJax.Hub.Config) {window.MathJax.Hub.Config({SVG: {font: \"STIX-Web\"}});}</script>                <script type=\"text/javascript\">window.PlotlyConfig = {MathJaxConfig: 'local'};</script>\n",
              "        <script charset=\"utf-8\" src=\"https://cdn.plot.ly/plotly-2.35.2.min.js\"></script>                <div id=\"591e2707-73eb-4ea9-abca-9b98c02f84bf\" class=\"plotly-graph-div\" style=\"height:525px; width:100%;\"></div>            <script type=\"text/javascript\">                                    window.PLOTLYENV=window.PLOTLYENV || {};                                    if (document.getElementById(\"591e2707-73eb-4ea9-abca-9b98c02f84bf\")) {                    Plotly.newPlot(                        \"591e2707-73eb-4ea9-abca-9b98c02f84bf\",                        [{\"alignmentgroup\":\"True\",\"bingroup\":\"x\",\"hovertemplate\":\"adherencia_inversion=si\\u003cbr\\u003eprestatario=%{x}\\u003cbr\\u003ecount=%{y}\\u003cextra\\u003e\\u003c\\u002fextra\\u003e\",\"legendgroup\":\"si\",\"marker\":{\"color\":\"#636efa\",\"pattern\":{\"shape\":\"\"}},\"name\":\"si\",\"offsetgroup\":\"si\",\"orientation\":\"v\",\"showlegend\":true,\"texttemplate\":\"%{value}\",\"x\":[\"no\",\"no\",\"no\",\"no\",\"si\",\"no\",\"si\",\"no\",\"no\",\"no\",\"no\",\"no\",\"no\",\"no\",\"no\",\"no\",\"no\",\"si\",\"no\",\"no\",\"no\",\"no\",\"no\",\"no\",\"no\",\"no\",\"no\",\"no\",\"si\",\"no\",\"no\",\"no\",\"no\",\"no\",\"no\",\"no\",\"no\",\"no\",\"no\",\"no\",\"no\",\"no\",\"si\",\"no\",\"no\",\"no\",\"no\",\"no\",\"no\",\"no\",\"no\",\"no\",\"no\",\"no\",\"no\",\"no\",\"no\",\"no\",\"no\",\"si\",\"no\",\"no\",\"no\",\"no\",\"no\",\"no\",\"no\",\"no\",\"no\",\"no\",\"no\",\"si\",\"no\",\"no\",\"no\",\"no\",\"si\",\"no\",\"no\",\"no\",\"no\",\"no\",\"no\",\"no\",\"no\",\"no\",\"no\",\"no\",\"no\",\"no\",\"no\",\"no\",\"no\",\"no\",\"no\",\"no\",\"no\",\"no\",\"no\",\"no\",\"si\",\"no\",\"no\",\"no\",\"no\",\"no\",\"no\",\"no\",\"no\",\"no\",\"no\",\"no\",\"no\",\"no\",\"no\",\"no\",\"no\",\"no\",\"no\",\"no\",\"no\",\"no\",\"no\",\"no\",\"no\",\"no\",\"si\",\"no\",\"no\",\"no\",\"no\",\"no\",\"no\",\"no\",\"no\",\"si\",\"no\",\"no\",\"no\",\"no\",\"no\",\"no\",\"no\",\"no\",\"no\",\"no\",\"no\",\"si\",\"no\",\"no\",\"no\",\"no\",\"no\",\"no\",\"no\",\"no\",\"no\",\"no\",\"si\",\"no\",\"no\",\"no\",\"no\",\"no\",\"no\",\"no\",\"no\",\"no\",\"si\",\"no\",\"no\",\"si\",\"no\",\"si\",\"no\",\"no\",\"no\",\"no\",\"no\",\"no\",\"no\",\"no\",\"no\",\"no\",\"no\",\"no\",\"no\",\"no\",\"no\",\"no\",\"no\",\"no\",\"no\",\"no\",\"no\",\"no\",\"no\",\"no\",\"no\",\"no\",\"no\",\"no\",\"no\",\"no\",\"no\",\"no\",\"no\",\"no\",\"no\",\"no\",\"no\",\"no\",\"no\",\"no\",\"no\",\"no\",\"no\",\"si\",\"no\",\"no\",\"no\",\"no\",\"no\",\"no\",\"no\",\"no\",\"no\",\"no\",\"no\",\"no\",\"no\",\"si\",\"no\",\"no\",\"no\",\"no\",\"no\",\"no\",\"no\",\"no\",\"no\",\"no\",\"no\",\"no\",\"no\",\"no\",\"no\",\"no\",\"no\",\"no\",\"si\",\"no\",\"no\",\"si\",\"no\",\"no\",\"no\",\"no\",\"no\",\"no\",\"no\",\"no\",\"no\",\"no\",\"no\",\"no\",\"no\",\"si\",\"no\",\"no\",\"no\",\"no\",\"si\",\"si\",\"no\",\"no\",\"no\",\"no\",\"no\",\"no\",\"no\",\"no\",\"no\",\"no\",\"no\",\"no\",\"no\",\"no\",\"no\",\"no\",\"no\",\"no\",\"no\",\"no\",\"no\",\"no\",\"no\",\"no\",\"no\",\"no\",\"si\",\"no\",\"no\",\"no\",\"no\",\"no\",\"no\",\"no\",\"no\",\"no\",\"no\",\"si\",\"no\",\"no\",\"no\",\"no\",\"no\",\"no\",\"no\",\"no\",\"no\",\"no\",\"no\",\"no\",\"no\",\"no\",\"si\",\"no\",\"si\",\"no\",\"no\",\"no\",\"no\",\"si\",\"no\",\"no\",\"si\",\"no\",\"no\",\"no\",\"no\",\"no\",\"no\",\"no\",\"no\",\"no\",\"no\",\"no\",\"no\",\"no\",\"no\",\"no\",\"no\",\"no\",\"no\",\"no\",\"no\",\"no\",\"no\",\"no\",\"si\",\"no\",\"no\",\"si\",\"si\",\"no\",\"no\",\"no\",\"no\",\"no\",\"no\",\"no\",\"no\",\"no\",\"si\",\"no\",\"no\",\"no\",\"no\",\"no\",\"no\",\"no\",\"no\",\"no\",\"no\",\"no\",\"no\",\"no\",\"si\",\"no\",\"no\",\"no\",\"no\",\"no\",\"no\",\"no\",\"no\",\"no\",\"no\",\"no\",\"no\",\"no\",\"no\",\"no\",\"no\",\"no\",\"no\",\"si\",\"no\",\"no\",\"no\",\"no\",\"no\",\"no\",\"no\",\"si\",\"no\",\"no\",\"si\",\"no\",\"no\",\"no\",\"si\",\"no\",\"no\",\"no\",\"no\",\"no\",\"no\",\"no\",\"no\",\"no\",\"no\",\"no\",\"no\",\"no\",\"no\",\"no\",\"no\",\"no\",\"si\",\"no\",\"no\",\"no\",\"no\",\"no\",\"no\",\"no\",\"no\",\"no\",\"no\",\"no\",\"no\",\"no\",\"no\",\"no\",\"no\",\"no\",\"si\",\"no\",\"no\",\"no\",\"no\",\"no\",\"no\",\"no\",\"no\",\"no\",\"no\",\"no\",\"si\",\"no\",\"no\",\"no\",\"no\",\"no\",\"no\",\"no\",\"no\",\"no\",\"no\",\"no\",\"no\",\"no\",\"no\",\"no\",\"no\",\"no\",\"no\",\"no\",\"no\",\"si\",\"no\",\"no\",\"no\",\"no\",\"no\",\"no\",\"no\",\"si\",\"no\",\"no\"],\"xaxis\":\"x\",\"yaxis\":\"y\",\"type\":\"histogram\"},{\"alignmentgroup\":\"True\",\"bingroup\":\"x\",\"hovertemplate\":\"adherencia_inversion=no\\u003cbr\\u003eprestatario=%{x}\\u003cbr\\u003ecount=%{y}\\u003cextra\\u003e\\u003c\\u002fextra\\u003e\",\"legendgroup\":\"no\",\"marker\":{\"color\":\"#EF553B\",\"pattern\":{\"shape\":\"\"}},\"name\":\"no\",\"offsetgroup\":\"no\",\"orientation\":\"v\",\"showlegend\":true,\"texttemplate\":\"%{value}\",\"x\":[\"no\",\"no\",\"no\",\"no\",\"no\",\"no\",\"no\",\"no\",\"no\",\"no\",\"no\",\"no\",\"no\",\"no\",\"no\",\"no\",\"si\",\"si\",\"no\",\"no\",\"no\",\"no\",\"no\",\"no\",\"si\",\"no\",\"no\",\"no\",\"no\",\"no\",\"no\",\"si\",\"si\",\"no\",\"no\",\"no\",\"no\",\"no\",\"si\",\"no\",\"no\",\"no\",\"no\",\"no\",\"no\",\"no\",\"no\",\"no\",\"no\",\"si\",\"no\",\"no\",\"no\",\"si\",\"no\",\"si\",\"si\",\"no\",\"no\",\"si\",\"no\",\"no\",\"no\",\"no\",\"no\",\"si\",\"no\",\"no\",\"si\",\"si\",\"si\",\"no\",\"no\",\"no\",\"no\",\"no\",\"no\",\"no\",\"si\",\"no\",\"no\",\"no\",\"no\",\"no\",\"si\",\"no\",\"no\",\"no\",\"no\",\"no\",\"no\",\"no\",\"no\",\"no\",\"si\",\"no\",\"no\",\"no\",\"no\",\"no\",\"no\",\"no\",\"no\",\"no\",\"no\",\"no\",\"no\",\"no\",\"no\",\"no\",\"no\",\"no\",\"si\",\"no\",\"si\",\"no\",\"si\",\"no\",\"no\",\"no\",\"no\",\"no\",\"no\",\"no\",\"no\",\"no\",\"no\",\"no\",\"no\",\"si\",\"no\",\"si\",\"si\",\"no\",\"no\",\"no\",\"no\",\"si\",\"no\",\"no\",\"no\",\"no\",\"si\",\"no\",\"no\",\"no\",\"no\",\"no\",\"no\",\"no\",\"no\",\"no\",\"no\",\"no\",\"si\",\"no\",\"no\",\"no\",\"no\",\"no\",\"no\",\"no\",\"si\",\"no\",\"no\",\"no\",\"no\",\"no\",\"no\",\"no\",\"si\",\"no\",\"no\",\"no\",\"no\",\"no\",\"no\",\"no\",\"no\",\"no\",\"no\",\"no\",\"no\",\"no\",\"no\",\"no\",\"no\",\"no\",\"no\",\"no\",\"no\",\"no\",\"no\",\"no\",\"no\",\"no\",\"no\",\"no\",\"si\",\"no\",\"no\",\"si\",\"no\",\"si\",\"no\",\"no\",\"no\",\"no\",\"si\",\"no\",\"no\",\"si\",\"si\",\"no\",\"no\",\"no\",\"no\",\"no\",\"no\",\"no\",\"si\",\"no\",\"no\",\"no\",\"no\",\"no\",\"no\",\"no\",\"no\",\"no\",\"no\",\"no\",\"no\",\"si\",\"no\",\"no\",\"no\",\"no\",\"no\",\"no\",\"no\",\"no\",\"no\",\"no\",\"no\",\"no\",\"no\",\"si\",\"no\",\"no\",\"no\",\"no\",\"si\",\"no\",\"no\",\"no\",\"no\",\"no\",\"no\",\"no\",\"si\",\"no\",\"no\",\"no\",\"no\",\"no\",\"no\",\"no\",\"no\",\"no\",\"no\",\"no\",\"no\",\"no\",\"no\",\"no\",\"no\",\"no\",\"si\",\"no\",\"no\",\"no\",\"no\",\"no\",\"no\",\"no\",\"no\",\"no\",\"si\",\"no\",\"si\",\"no\",\"si\",\"si\",\"si\",\"no\",\"no\",\"no\",\"no\",\"no\",\"no\",\"no\",\"no\",\"si\",\"no\",\"si\",\"no\",\"no\",\"no\",\"no\",\"no\",\"no\",\"no\",\"no\",\"no\",\"no\",\"no\",\"no\",\"si\",\"no\",\"no\",\"si\",\"si\",\"no\",\"no\",\"no\",\"si\",\"no\",\"si\",\"no\",\"no\",\"no\",\"no\",\"no\",\"no\",\"no\",\"no\",\"no\",\"no\",\"no\",\"no\",\"no\",\"no\",\"si\",\"si\",\"si\",\"no\",\"no\",\"no\",\"no\",\"no\",\"no\",\"si\",\"no\",\"no\",\"si\",\"no\",\"si\",\"no\",\"no\",\"no\",\"no\",\"no\",\"no\",\"no\",\"no\",\"no\",\"no\",\"no\",\"si\",\"si\",\"no\",\"no\",\"no\",\"no\",\"no\",\"no\",\"no\",\"no\",\"si\",\"no\",\"no\",\"no\",\"no\",\"no\",\"si\",\"no\",\"si\",\"si\",\"no\",\"no\",\"no\",\"no\",\"si\",\"si\",\"no\",\"no\",\"no\",\"no\",\"no\",\"no\",\"no\",\"no\",\"no\",\"no\",\"no\",\"no\",\"no\",\"no\",\"no\",\"no\",\"si\",\"no\",\"no\",\"si\",\"no\",\"no\",\"no\",\"no\",\"no\",\"no\",\"no\",\"no\",\"no\",\"si\",\"no\",\"no\",\"no\",\"no\",\"no\",\"no\",\"no\",\"no\",\"no\",\"no\",\"si\",\"no\",\"no\",\"no\",\"no\",\"no\",\"no\",\"no\",\"no\",\"no\",\"no\",\"no\",\"no\",\"no\",\"no\",\"no\",\"no\",\"no\",\"no\",\"si\",\"no\",\"no\",\"si\",\"si\",\"no\",\"no\",\"no\",\"no\",\"no\",\"no\",\"no\",\"no\",\"si\",\"si\",\"no\",\"no\",\"no\",\"no\",\"si\",\"no\",\"si\",\"no\",\"si\",\"no\",\"si\",\"no\",\"si\",\"si\",\"no\",\"no\",\"no\",\"no\",\"no\",\"no\",\"si\",\"no\",\"si\",\"no\",\"si\",\"no\",\"no\",\"no\",\"no\",\"no\",\"no\",\"no\",\"no\",\"si\",\"no\",\"no\",\"no\",\"no\",\"no\",\"no\",\"no\",\"no\",\"si\",\"si\",\"no\",\"no\",\"no\",\"no\",\"no\",\"no\",\"no\",\"no\",\"no\",\"si\",\"no\",\"si\",\"no\",\"no\",\"si\",\"si\",\"no\",\"si\",\"no\",\"no\",\"no\",\"no\",\"no\",\"no\",\"no\",\"no\",\"no\",\"no\",\"no\",\"no\",\"no\",\"no\",\"no\",\"no\",\"no\",\"no\",\"no\",\"no\",\"no\",\"no\",\"si\",\"no\",\"si\",\"no\",\"no\",\"no\",\"si\",\"no\",\"no\",\"no\",\"no\",\"no\",\"no\",\"no\",\"si\",\"no\",\"no\",\"no\",\"no\",\"no\",\"no\",\"no\",\"no\",\"si\",\"si\",\"si\",\"no\",\"no\",\"no\",\"no\",\"no\",\"no\",\"no\",\"no\",\"no\",\"no\",\"no\",\"no\",\"no\",\"no\",\"no\",\"no\",\"no\",\"no\",\"no\",\"no\",\"no\",\"no\",\"no\",\"no\",\"si\",\"si\",\"no\",\"no\",\"no\",\"no\",\"no\",\"si\",\"no\",\"si\",\"no\",\"no\",\"si\",\"si\",\"no\",\"no\",\"no\",\"no\",\"no\",\"no\",\"no\",\"si\",\"si\",\"si\",\"no\",\"no\",\"no\",\"si\",\"no\",\"no\",\"no\",\"no\",\"no\",\"si\",\"no\",\"no\",\"no\",\"no\",\"no\",\"si\",\"no\",\"no\",\"no\",\"no\",\"no\",\"no\",\"no\",\"no\",\"no\",\"si\",\"no\",\"no\",\"no\",\"no\",\"no\",\"no\",\"no\",\"no\",\"no\",\"no\",\"no\",\"no\",\"no\",\"no\",\"no\",\"no\",\"no\",\"no\",\"no\",\"no\",\"no\",\"no\",\"no\",\"no\",\"no\",\"no\",\"no\",\"no\",\"no\",\"no\",\"no\",\"no\",\"si\",\"no\",\"no\",\"no\",\"no\",\"no\",\"no\",\"no\",\"no\",\"no\",\"no\",\"no\",\"no\",\"no\",\"si\",\"no\",\"no\",\"si\",\"no\",\"no\",\"no\",\"no\",\"no\",\"no\",\"no\",\"no\",\"no\",\"no\",\"no\",\"si\",\"no\",\"no\",\"no\",\"si\",\"no\",\"si\",\"no\",\"si\",\"no\",\"no\",\"no\",\"no\",\"no\",\"no\",\"no\",\"no\",\"si\",\"no\",\"si\",\"si\",\"no\",\"no\",\"no\",\"no\",\"no\",\"no\",\"no\",\"no\",\"no\",\"no\",\"no\",\"no\",\"no\",\"no\",\"no\",\"no\",\"no\",\"si\",\"si\",\"no\",\"no\",\"no\",\"no\",\"no\",\"no\",\"no\",\"no\",\"no\",\"no\",\"si\",\"si\"],\"xaxis\":\"x\",\"yaxis\":\"y\",\"type\":\"histogram\"}],                        {\"template\":{\"data\":{\"histogram2dcontour\":[{\"type\":\"histogram2dcontour\",\"colorbar\":{\"outlinewidth\":0,\"ticks\":\"\"},\"colorscale\":[[0.0,\"#0d0887\"],[0.1111111111111111,\"#46039f\"],[0.2222222222222222,\"#7201a8\"],[0.3333333333333333,\"#9c179e\"],[0.4444444444444444,\"#bd3786\"],[0.5555555555555556,\"#d8576b\"],[0.6666666666666666,\"#ed7953\"],[0.7777777777777778,\"#fb9f3a\"],[0.8888888888888888,\"#fdca26\"],[1.0,\"#f0f921\"]]}],\"choropleth\":[{\"type\":\"choropleth\",\"colorbar\":{\"outlinewidth\":0,\"ticks\":\"\"}}],\"histogram2d\":[{\"type\":\"histogram2d\",\"colorbar\":{\"outlinewidth\":0,\"ticks\":\"\"},\"colorscale\":[[0.0,\"#0d0887\"],[0.1111111111111111,\"#46039f\"],[0.2222222222222222,\"#7201a8\"],[0.3333333333333333,\"#9c179e\"],[0.4444444444444444,\"#bd3786\"],[0.5555555555555556,\"#d8576b\"],[0.6666666666666666,\"#ed7953\"],[0.7777777777777778,\"#fb9f3a\"],[0.8888888888888888,\"#fdca26\"],[1.0,\"#f0f921\"]]}],\"heatmap\":[{\"type\":\"heatmap\",\"colorbar\":{\"outlinewidth\":0,\"ticks\":\"\"},\"colorscale\":[[0.0,\"#0d0887\"],[0.1111111111111111,\"#46039f\"],[0.2222222222222222,\"#7201a8\"],[0.3333333333333333,\"#9c179e\"],[0.4444444444444444,\"#bd3786\"],[0.5555555555555556,\"#d8576b\"],[0.6666666666666666,\"#ed7953\"],[0.7777777777777778,\"#fb9f3a\"],[0.8888888888888888,\"#fdca26\"],[1.0,\"#f0f921\"]]}],\"heatmapgl\":[{\"type\":\"heatmapgl\",\"colorbar\":{\"outlinewidth\":0,\"ticks\":\"\"},\"colorscale\":[[0.0,\"#0d0887\"],[0.1111111111111111,\"#46039f\"],[0.2222222222222222,\"#7201a8\"],[0.3333333333333333,\"#9c179e\"],[0.4444444444444444,\"#bd3786\"],[0.5555555555555556,\"#d8576b\"],[0.6666666666666666,\"#ed7953\"],[0.7777777777777778,\"#fb9f3a\"],[0.8888888888888888,\"#fdca26\"],[1.0,\"#f0f921\"]]}],\"contourcarpet\":[{\"type\":\"contourcarpet\",\"colorbar\":{\"outlinewidth\":0,\"ticks\":\"\"}}],\"contour\":[{\"type\":\"contour\",\"colorbar\":{\"outlinewidth\":0,\"ticks\":\"\"},\"colorscale\":[[0.0,\"#0d0887\"],[0.1111111111111111,\"#46039f\"],[0.2222222222222222,\"#7201a8\"],[0.3333333333333333,\"#9c179e\"],[0.4444444444444444,\"#bd3786\"],[0.5555555555555556,\"#d8576b\"],[0.6666666666666666,\"#ed7953\"],[0.7777777777777778,\"#fb9f3a\"],[0.8888888888888888,\"#fdca26\"],[1.0,\"#f0f921\"]]}],\"surface\":[{\"type\":\"surface\",\"colorbar\":{\"outlinewidth\":0,\"ticks\":\"\"},\"colorscale\":[[0.0,\"#0d0887\"],[0.1111111111111111,\"#46039f\"],[0.2222222222222222,\"#7201a8\"],[0.3333333333333333,\"#9c179e\"],[0.4444444444444444,\"#bd3786\"],[0.5555555555555556,\"#d8576b\"],[0.6666666666666666,\"#ed7953\"],[0.7777777777777778,\"#fb9f3a\"],[0.8888888888888888,\"#fdca26\"],[1.0,\"#f0f921\"]]}],\"mesh3d\":[{\"type\":\"mesh3d\",\"colorbar\":{\"outlinewidth\":0,\"ticks\":\"\"}}],\"scatter\":[{\"fillpattern\":{\"fillmode\":\"overlay\",\"size\":10,\"solidity\":0.2},\"type\":\"scatter\"}],\"parcoords\":[{\"type\":\"parcoords\",\"line\":{\"colorbar\":{\"outlinewidth\":0,\"ticks\":\"\"}}}],\"scatterpolargl\":[{\"type\":\"scatterpolargl\",\"marker\":{\"colorbar\":{\"outlinewidth\":0,\"ticks\":\"\"}}}],\"bar\":[{\"error_x\":{\"color\":\"#2a3f5f\"},\"error_y\":{\"color\":\"#2a3f5f\"},\"marker\":{\"line\":{\"color\":\"#E5ECF6\",\"width\":0.5},\"pattern\":{\"fillmode\":\"overlay\",\"size\":10,\"solidity\":0.2}},\"type\":\"bar\"}],\"scattergeo\":[{\"type\":\"scattergeo\",\"marker\":{\"colorbar\":{\"outlinewidth\":0,\"ticks\":\"\"}}}],\"scatterpolar\":[{\"type\":\"scatterpolar\",\"marker\":{\"colorbar\":{\"outlinewidth\":0,\"ticks\":\"\"}}}],\"histogram\":[{\"marker\":{\"pattern\":{\"fillmode\":\"overlay\",\"size\":10,\"solidity\":0.2}},\"type\":\"histogram\"}],\"scattergl\":[{\"type\":\"scattergl\",\"marker\":{\"colorbar\":{\"outlinewidth\":0,\"ticks\":\"\"}}}],\"scatter3d\":[{\"type\":\"scatter3d\",\"line\":{\"colorbar\":{\"outlinewidth\":0,\"ticks\":\"\"}},\"marker\":{\"colorbar\":{\"outlinewidth\":0,\"ticks\":\"\"}}}],\"scattermapbox\":[{\"type\":\"scattermapbox\",\"marker\":{\"colorbar\":{\"outlinewidth\":0,\"ticks\":\"\"}}}],\"scatterternary\":[{\"type\":\"scatterternary\",\"marker\":{\"colorbar\":{\"outlinewidth\":0,\"ticks\":\"\"}}}],\"scattercarpet\":[{\"type\":\"scattercarpet\",\"marker\":{\"colorbar\":{\"outlinewidth\":0,\"ticks\":\"\"}}}],\"carpet\":[{\"aaxis\":{\"endlinecolor\":\"#2a3f5f\",\"gridcolor\":\"white\",\"linecolor\":\"white\",\"minorgridcolor\":\"white\",\"startlinecolor\":\"#2a3f5f\"},\"baxis\":{\"endlinecolor\":\"#2a3f5f\",\"gridcolor\":\"white\",\"linecolor\":\"white\",\"minorgridcolor\":\"white\",\"startlinecolor\":\"#2a3f5f\"},\"type\":\"carpet\"}],\"table\":[{\"cells\":{\"fill\":{\"color\":\"#EBF0F8\"},\"line\":{\"color\":\"white\"}},\"header\":{\"fill\":{\"color\":\"#C8D4E3\"},\"line\":{\"color\":\"white\"}},\"type\":\"table\"}],\"barpolar\":[{\"marker\":{\"line\":{\"color\":\"#E5ECF6\",\"width\":0.5},\"pattern\":{\"fillmode\":\"overlay\",\"size\":10,\"solidity\":0.2}},\"type\":\"barpolar\"}],\"pie\":[{\"automargin\":true,\"type\":\"pie\"}]},\"layout\":{\"autotypenumbers\":\"strict\",\"colorway\":[\"#636efa\",\"#EF553B\",\"#00cc96\",\"#ab63fa\",\"#FFA15A\",\"#19d3f3\",\"#FF6692\",\"#B6E880\",\"#FF97FF\",\"#FECB52\"],\"font\":{\"color\":\"#2a3f5f\"},\"hovermode\":\"closest\",\"hoverlabel\":{\"align\":\"left\"},\"paper_bgcolor\":\"white\",\"plot_bgcolor\":\"#E5ECF6\",\"polar\":{\"bgcolor\":\"#E5ECF6\",\"angularaxis\":{\"gridcolor\":\"white\",\"linecolor\":\"white\",\"ticks\":\"\"},\"radialaxis\":{\"gridcolor\":\"white\",\"linecolor\":\"white\",\"ticks\":\"\"}},\"ternary\":{\"bgcolor\":\"#E5ECF6\",\"aaxis\":{\"gridcolor\":\"white\",\"linecolor\":\"white\",\"ticks\":\"\"},\"baxis\":{\"gridcolor\":\"white\",\"linecolor\":\"white\",\"ticks\":\"\"},\"caxis\":{\"gridcolor\":\"white\",\"linecolor\":\"white\",\"ticks\":\"\"}},\"coloraxis\":{\"colorbar\":{\"outlinewidth\":0,\"ticks\":\"\"}},\"colorscale\":{\"sequential\":[[0.0,\"#0d0887\"],[0.1111111111111111,\"#46039f\"],[0.2222222222222222,\"#7201a8\"],[0.3333333333333333,\"#9c179e\"],[0.4444444444444444,\"#bd3786\"],[0.5555555555555556,\"#d8576b\"],[0.6666666666666666,\"#ed7953\"],[0.7777777777777778,\"#fb9f3a\"],[0.8888888888888888,\"#fdca26\"],[1.0,\"#f0f921\"]],\"sequentialminus\":[[0.0,\"#0d0887\"],[0.1111111111111111,\"#46039f\"],[0.2222222222222222,\"#7201a8\"],[0.3333333333333333,\"#9c179e\"],[0.4444444444444444,\"#bd3786\"],[0.5555555555555556,\"#d8576b\"],[0.6666666666666666,\"#ed7953\"],[0.7777777777777778,\"#fb9f3a\"],[0.8888888888888888,\"#fdca26\"],[1.0,\"#f0f921\"]],\"diverging\":[[0,\"#8e0152\"],[0.1,\"#c51b7d\"],[0.2,\"#de77ae\"],[0.3,\"#f1b6da\"],[0.4,\"#fde0ef\"],[0.5,\"#f7f7f7\"],[0.6,\"#e6f5d0\"],[0.7,\"#b8e186\"],[0.8,\"#7fbc41\"],[0.9,\"#4d9221\"],[1,\"#276419\"]]},\"xaxis\":{\"gridcolor\":\"white\",\"linecolor\":\"white\",\"ticks\":\"\",\"title\":{\"standoff\":15},\"zerolinecolor\":\"white\",\"automargin\":true,\"zerolinewidth\":2},\"yaxis\":{\"gridcolor\":\"white\",\"linecolor\":\"white\",\"ticks\":\"\",\"title\":{\"standoff\":15},\"zerolinecolor\":\"white\",\"automargin\":true,\"zerolinewidth\":2},\"scene\":{\"xaxis\":{\"backgroundcolor\":\"#E5ECF6\",\"gridcolor\":\"white\",\"linecolor\":\"white\",\"showbackground\":true,\"ticks\":\"\",\"zerolinecolor\":\"white\",\"gridwidth\":2},\"yaxis\":{\"backgroundcolor\":\"#E5ECF6\",\"gridcolor\":\"white\",\"linecolor\":\"white\",\"showbackground\":true,\"ticks\":\"\",\"zerolinecolor\":\"white\",\"gridwidth\":2},\"zaxis\":{\"backgroundcolor\":\"#E5ECF6\",\"gridcolor\":\"white\",\"linecolor\":\"white\",\"showbackground\":true,\"ticks\":\"\",\"zerolinecolor\":\"white\",\"gridwidth\":2}},\"shapedefaults\":{\"line\":{\"color\":\"#2a3f5f\"}},\"annotationdefaults\":{\"arrowcolor\":\"#2a3f5f\",\"arrowhead\":0,\"arrowwidth\":1},\"geo\":{\"bgcolor\":\"white\",\"landcolor\":\"#E5ECF6\",\"subunitcolor\":\"white\",\"showland\":true,\"showlakes\":true,\"lakecolor\":\"white\"},\"title\":{\"x\":0.05},\"mapbox\":{\"style\":\"light\"}}},\"xaxis\":{\"anchor\":\"y\",\"domain\":[0.0,1.0],\"title\":{\"text\":\"prestatario\"}},\"yaxis\":{\"anchor\":\"x\",\"domain\":[0.0,1.0],\"title\":{\"text\":\"count\"}},\"legend\":{\"title\":{\"text\":\"adherencia_inversion\"},\"tracegroupgap\":0},\"margin\":{\"t\":60},\"barmode\":\"group\"},                        {\"responsive\": true}                    ).then(function(){\n",
              "                            \n",
              "var gd = document.getElementById('591e2707-73eb-4ea9-abca-9b98c02f84bf');\n",
              "var x = new MutationObserver(function (mutations, observer) {{\n",
              "        var display = window.getComputedStyle(gd).display;\n",
              "        if (!display || display === 'none') {{\n",
              "            console.log([gd, 'removed!']);\n",
              "            Plotly.purge(gd);\n",
              "            observer.disconnect();\n",
              "        }}\n",
              "}});\n",
              "\n",
              "// Listen for the removal of the full notebook cells\n",
              "var notebookContainer = gd.closest('#notebook-container');\n",
              "if (notebookContainer) {{\n",
              "    x.observe(notebookContainer, {childList: true});\n",
              "}}\n",
              "\n",
              "// Listen for the clearing of the current output cell\n",
              "var outputEl = gd.closest('.output');\n",
              "if (outputEl) {{\n",
              "    x.observe(outputEl, {childList: true});\n",
              "}}\n",
              "\n",
              "                        })                };                            </script>        </div>\n",
              "</body>\n",
              "</html>"
            ]
          },
          "metadata": {}
        }
      ]
    },
    {
      "cell_type": "markdown",
      "source": [
        "### Variables numéricas"
      ],
      "metadata": {
        "id": "k9-qL8BEMH23"
      }
    },
    {
      "cell_type": "code",
      "source": [
        "px.box(datos, x='edad', color='adherencia_inversion')"
      ],
      "metadata": {
        "id": "VepkUB3FBXA6",
        "colab": {
          "base_uri": "https://localhost:8080/",
          "height": 542
        },
        "outputId": "91877801-918e-42f2-f173-7bb11c4f75e1"
      },
      "execution_count": 66,
      "outputs": [
        {
          "output_type": "display_data",
          "data": {
            "text/html": [
              "<html>\n",
              "<head><meta charset=\"utf-8\" /></head>\n",
              "<body>\n",
              "    <div>            <script src=\"https://cdnjs.cloudflare.com/ajax/libs/mathjax/2.7.5/MathJax.js?config=TeX-AMS-MML_SVG\"></script><script type=\"text/javascript\">if (window.MathJax && window.MathJax.Hub && window.MathJax.Hub.Config) {window.MathJax.Hub.Config({SVG: {font: \"STIX-Web\"}});}</script>                <script type=\"text/javascript\">window.PlotlyConfig = {MathJaxConfig: 'local'};</script>\n",
              "        <script charset=\"utf-8\" src=\"https://cdn.plot.ly/plotly-2.35.2.min.js\"></script>                <div id=\"b045c50a-33ba-404b-aba2-503e8d06891f\" class=\"plotly-graph-div\" style=\"height:525px; width:100%;\"></div>            <script type=\"text/javascript\">                                    window.PLOTLYENV=window.PLOTLYENV || {};                                    if (document.getElementById(\"b045c50a-33ba-404b-aba2-503e8d06891f\")) {                    Plotly.newPlot(                        \"b045c50a-33ba-404b-aba2-503e8d06891f\",                        [{\"alignmentgroup\":\"True\",\"hovertemplate\":\"adherencia_inversion=si\\u003cbr\\u003eedad=%{x}\\u003cextra\\u003e\\u003c\\u002fextra\\u003e\",\"legendgroup\":\"si\",\"marker\":{\"color\":\"#636efa\"},\"name\":\"si\",\"notched\":false,\"offsetgroup\":\"si\",\"orientation\":\"h\",\"showlegend\":true,\"x\":[45,42,58,50,24,34,33,33,80,46,30,47,30,47,32,71,31,30,52,51,34,59,35,22,28,60,43,35,54,32,49,43,20,49,48,49,49,32,38,31,27,32,34,33,34,32,68,60,32,21,33,39,54,42,45,31,83,34,47,48,29,33,31,58,37,28,49,57,34,30,78,29,59,48,49,75,46,79,28,43,26,66,61,72,53,58,52,62,37,55,33,35,40,25,49,37,74,35,33,39,47,34,51,46,36,43,61,31,55,30,49,32,36,34,49,38,45,53,52,43,61,31,59,30,35,38,53,47,22,35,27,63,28,47,27,29,46,44,32,38,71,73,41,38,25,46,77,30,48,25,32,53,51,37,28,49,19,50,41,80,52,31,46,28,41,27,46,44,41,28,44,57,43,30,37,36,58,54,32,44,24,55,53,35,34,31,32,59,33,30,46,52,45,55,32,33,56,34,43,32,41,42,53,54,23,32,75,37,39,36,36,53,35,32,49,77,41,45,67,46,48,27,54,63,27,32,48,27,33,49,41,35,87,32,53,31,30,56,49,36,28,36,33,32,44,49,35,61,36,46,42,47,48,60,46,66,55,30,34,40,40,59,50,39,37,47,43,38,38,35,25,25,31,50,47,29,59,46,75,37,63,32,34,48,27,33,55,60,46,33,30,45,23,59,44,29,28,34,29,34,50,43,47,71,34,28,32,53,49,33,64,25,60,22,32,34,31,29,31,51,61,83,29,44,38,29,46,44,41,43,39,59,37,40,38,44,42,45,54,28,36,59,59,36,26,26,35,64,38,59,42,60,51,62,27,34,26,53,36,37,30,32,40,43,27,45,19,25,44,38,27,37,35,41,28,56,36,29,33,55,28,84,32,73,77,52,62,56,41,41,31,56,39,40,28,36,42,31,25,35,59,30,53,32,38,34,26,50,38,38,34,69,47,35,39,34,38,29,54,55,48,34,25,52,40,36,24,33,34,68,27,47,39,36,41,34,35,57,32,28,55,41,35,60,28,35,27,74,39,34,56,26,29,33,37,42,61,50,29,36,32,31,53,45,37,53,40,27,36,34,31,55,61,45,45,49,55,41,47,42,37,32,25,38,39,79,26,33,47,24,53,40,30,38,32,37,36,52,35,30,42,29],\"x0\":\" \",\"xaxis\":\"x\",\"y0\":\" \",\"yaxis\":\"y\",\"type\":\"box\"},{\"alignmentgroup\":\"True\",\"hovertemplate\":\"adherencia_inversion=no\\u003cbr\\u003eedad=%{x}\\u003cextra\\u003e\\u003c\\u002fextra\\u003e\",\"legendgroup\":\"no\",\"marker\":{\"color\":\"#EF553B\"},\"name\":\"no\",\"notched\":false,\"offsetgroup\":\"no\",\"orientation\":\"h\",\"showlegend\":true,\"x\":[23,53,30,39,30,39,34,38,48,39,53,38,24,44,53,41,27,58,51,47,34,40,44,55,38,38,54,43,31,36,33,38,57,31,34,29,38,41,34,37,50,55,45,35,49,36,41,48,49,55,34,57,38,40,45,61,57,76,33,32,34,37,34,31,47,31,35,31,35,40,38,49,40,34,50,40,43,39,45,26,42,33,75,30,32,59,38,52,36,50,27,45,40,48,36,49,36,39,33,30,32,29,36,41,38,36,42,30,31,30,27,37,34,59,35,42,28,55,50,33,32,53,60,34,54,42,36,33,67,34,70,35,34,61,47,40,28,33,52,43,30,59,39,32,42,57,33,37,44,45,41,26,51,46,45,46,41,29,41,59,34,30,42,33,30,39,59,39,33,42,52,33,36,40,45,60,36,53,34,49,43,46,39,41,44,41,27,31,25,32,56,30,29,31,37,58,57,33,51,42,54,28,35,46,26,59,50,36,52,32,53,52,41,40,34,49,34,28,32,34,36,56,42,29,45,37,46,40,42,34,55,33,51,42,30,50,41,32,32,53,36,33,33,58,49,43,80,55,30,27,36,35,36,32,39,50,36,52,37,47,39,41,23,36,58,52,23,34,47,50,38,31,40,40,48,39,34,41,55,59,40,28,36,41,27,33,47,44,31,28,34,31,31,34,33,37,58,37,28,34,34,25,35,39,58,26,32,31,31,45,37,83,51,52,29,30,35,30,26,45,41,22,41,33,41,34,33,29,49,51,40,42,31,31,31,46,34,38,27,56,33,37,30,42,52,49,47,46,51,42,59,27,60,38,28,31,38,55,58,53,30,49,25,46,28,49,43,56,38,33,32,27,29,59,28,32,44,63,51,44,38,40,33,36,35,56,32,35,57,31,39,57,44,38,60,38,37,34,49,40,46,29,31,23,48,38,33,42,48,48,45,39,34,59,40,31,33,57,58,36,50,34,45,36,53,36,28,30,33,43,38,32,30,45,30,53,43,49,35,36,45,30,40,40,34,36,42,52,42,28,39,41,46,40,33,54,51,33,56,43,29,43,58,29,57,54,42,34,31,30,31,47,44,30,33,57,37,36,51,43,59,54,32,45,37,69,43,31,58,56,34,47,31,39,38,46,57,27,58,26,58,37,41,49,37,43,34,53,33,36,26,41,37,33,36,38,33,48,33,27,33,33,33,59,33,36,46,26,40,46,26,39,36,39,39,35,31,45,48,47,33,41,31,50,55,37,36,36,60,32,35,32,39,50,52,35,35,43,55,26,31,30,38,48,43,35,37,58,41,49,49,49,53,48,28,36,42,36,37,28,42,69,45,46,40,48,52,52,32,32,31,34,32,56,34,39,44,39,42,30,54,38,35,30,32,36,40,41,31,58,55,39,38,34,42,35,29,54,48,32,46,51,56,35,42,46,58,44,54,53,41,42,25,70,56,35,38,50,30,30,39,36,34,53,27,42,51,57,59,39,38,45,41,45,52,38,40,29,35,43,34,41,76,30,32,39,38,59,47,44,52,51,32,33,56,35,59,58,28,56,42,58,32,33,55,33,48,61,49,36,51,30,27,33,28,34,45,50,54,56,25,47,51,28,33,39,36,37,35,26,41,40,36,35,31,30,47,47,56,33,31,30,30,51,37,34,54,41,35,49,37,49,58,31,42,33,51,36,57,34,42,30,43,42,34,46,33,27,46,31,66,57,38,45,28,33,35,32,58,34,26,37,40,26,38,56],\"x0\":\" \",\"xaxis\":\"x\",\"y0\":\" \",\"yaxis\":\"y\",\"type\":\"box\"}],                        {\"template\":{\"data\":{\"histogram2dcontour\":[{\"type\":\"histogram2dcontour\",\"colorbar\":{\"outlinewidth\":0,\"ticks\":\"\"},\"colorscale\":[[0.0,\"#0d0887\"],[0.1111111111111111,\"#46039f\"],[0.2222222222222222,\"#7201a8\"],[0.3333333333333333,\"#9c179e\"],[0.4444444444444444,\"#bd3786\"],[0.5555555555555556,\"#d8576b\"],[0.6666666666666666,\"#ed7953\"],[0.7777777777777778,\"#fb9f3a\"],[0.8888888888888888,\"#fdca26\"],[1.0,\"#f0f921\"]]}],\"choropleth\":[{\"type\":\"choropleth\",\"colorbar\":{\"outlinewidth\":0,\"ticks\":\"\"}}],\"histogram2d\":[{\"type\":\"histogram2d\",\"colorbar\":{\"outlinewidth\":0,\"ticks\":\"\"},\"colorscale\":[[0.0,\"#0d0887\"],[0.1111111111111111,\"#46039f\"],[0.2222222222222222,\"#7201a8\"],[0.3333333333333333,\"#9c179e\"],[0.4444444444444444,\"#bd3786\"],[0.5555555555555556,\"#d8576b\"],[0.6666666666666666,\"#ed7953\"],[0.7777777777777778,\"#fb9f3a\"],[0.8888888888888888,\"#fdca26\"],[1.0,\"#f0f921\"]]}],\"heatmap\":[{\"type\":\"heatmap\",\"colorbar\":{\"outlinewidth\":0,\"ticks\":\"\"},\"colorscale\":[[0.0,\"#0d0887\"],[0.1111111111111111,\"#46039f\"],[0.2222222222222222,\"#7201a8\"],[0.3333333333333333,\"#9c179e\"],[0.4444444444444444,\"#bd3786\"],[0.5555555555555556,\"#d8576b\"],[0.6666666666666666,\"#ed7953\"],[0.7777777777777778,\"#fb9f3a\"],[0.8888888888888888,\"#fdca26\"],[1.0,\"#f0f921\"]]}],\"heatmapgl\":[{\"type\":\"heatmapgl\",\"colorbar\":{\"outlinewidth\":0,\"ticks\":\"\"},\"colorscale\":[[0.0,\"#0d0887\"],[0.1111111111111111,\"#46039f\"],[0.2222222222222222,\"#7201a8\"],[0.3333333333333333,\"#9c179e\"],[0.4444444444444444,\"#bd3786\"],[0.5555555555555556,\"#d8576b\"],[0.6666666666666666,\"#ed7953\"],[0.7777777777777778,\"#fb9f3a\"],[0.8888888888888888,\"#fdca26\"],[1.0,\"#f0f921\"]]}],\"contourcarpet\":[{\"type\":\"contourcarpet\",\"colorbar\":{\"outlinewidth\":0,\"ticks\":\"\"}}],\"contour\":[{\"type\":\"contour\",\"colorbar\":{\"outlinewidth\":0,\"ticks\":\"\"},\"colorscale\":[[0.0,\"#0d0887\"],[0.1111111111111111,\"#46039f\"],[0.2222222222222222,\"#7201a8\"],[0.3333333333333333,\"#9c179e\"],[0.4444444444444444,\"#bd3786\"],[0.5555555555555556,\"#d8576b\"],[0.6666666666666666,\"#ed7953\"],[0.7777777777777778,\"#fb9f3a\"],[0.8888888888888888,\"#fdca26\"],[1.0,\"#f0f921\"]]}],\"surface\":[{\"type\":\"surface\",\"colorbar\":{\"outlinewidth\":0,\"ticks\":\"\"},\"colorscale\":[[0.0,\"#0d0887\"],[0.1111111111111111,\"#46039f\"],[0.2222222222222222,\"#7201a8\"],[0.3333333333333333,\"#9c179e\"],[0.4444444444444444,\"#bd3786\"],[0.5555555555555556,\"#d8576b\"],[0.6666666666666666,\"#ed7953\"],[0.7777777777777778,\"#fb9f3a\"],[0.8888888888888888,\"#fdca26\"],[1.0,\"#f0f921\"]]}],\"mesh3d\":[{\"type\":\"mesh3d\",\"colorbar\":{\"outlinewidth\":0,\"ticks\":\"\"}}],\"scatter\":[{\"fillpattern\":{\"fillmode\":\"overlay\",\"size\":10,\"solidity\":0.2},\"type\":\"scatter\"}],\"parcoords\":[{\"type\":\"parcoords\",\"line\":{\"colorbar\":{\"outlinewidth\":0,\"ticks\":\"\"}}}],\"scatterpolargl\":[{\"type\":\"scatterpolargl\",\"marker\":{\"colorbar\":{\"outlinewidth\":0,\"ticks\":\"\"}}}],\"bar\":[{\"error_x\":{\"color\":\"#2a3f5f\"},\"error_y\":{\"color\":\"#2a3f5f\"},\"marker\":{\"line\":{\"color\":\"#E5ECF6\",\"width\":0.5},\"pattern\":{\"fillmode\":\"overlay\",\"size\":10,\"solidity\":0.2}},\"type\":\"bar\"}],\"scattergeo\":[{\"type\":\"scattergeo\",\"marker\":{\"colorbar\":{\"outlinewidth\":0,\"ticks\":\"\"}}}],\"scatterpolar\":[{\"type\":\"scatterpolar\",\"marker\":{\"colorbar\":{\"outlinewidth\":0,\"ticks\":\"\"}}}],\"histogram\":[{\"marker\":{\"pattern\":{\"fillmode\":\"overlay\",\"size\":10,\"solidity\":0.2}},\"type\":\"histogram\"}],\"scattergl\":[{\"type\":\"scattergl\",\"marker\":{\"colorbar\":{\"outlinewidth\":0,\"ticks\":\"\"}}}],\"scatter3d\":[{\"type\":\"scatter3d\",\"line\":{\"colorbar\":{\"outlinewidth\":0,\"ticks\":\"\"}},\"marker\":{\"colorbar\":{\"outlinewidth\":0,\"ticks\":\"\"}}}],\"scattermapbox\":[{\"type\":\"scattermapbox\",\"marker\":{\"colorbar\":{\"outlinewidth\":0,\"ticks\":\"\"}}}],\"scatterternary\":[{\"type\":\"scatterternary\",\"marker\":{\"colorbar\":{\"outlinewidth\":0,\"ticks\":\"\"}}}],\"scattercarpet\":[{\"type\":\"scattercarpet\",\"marker\":{\"colorbar\":{\"outlinewidth\":0,\"ticks\":\"\"}}}],\"carpet\":[{\"aaxis\":{\"endlinecolor\":\"#2a3f5f\",\"gridcolor\":\"white\",\"linecolor\":\"white\",\"minorgridcolor\":\"white\",\"startlinecolor\":\"#2a3f5f\"},\"baxis\":{\"endlinecolor\":\"#2a3f5f\",\"gridcolor\":\"white\",\"linecolor\":\"white\",\"minorgridcolor\":\"white\",\"startlinecolor\":\"#2a3f5f\"},\"type\":\"carpet\"}],\"table\":[{\"cells\":{\"fill\":{\"color\":\"#EBF0F8\"},\"line\":{\"color\":\"white\"}},\"header\":{\"fill\":{\"color\":\"#C8D4E3\"},\"line\":{\"color\":\"white\"}},\"type\":\"table\"}],\"barpolar\":[{\"marker\":{\"line\":{\"color\":\"#E5ECF6\",\"width\":0.5},\"pattern\":{\"fillmode\":\"overlay\",\"size\":10,\"solidity\":0.2}},\"type\":\"barpolar\"}],\"pie\":[{\"automargin\":true,\"type\":\"pie\"}]},\"layout\":{\"autotypenumbers\":\"strict\",\"colorway\":[\"#636efa\",\"#EF553B\",\"#00cc96\",\"#ab63fa\",\"#FFA15A\",\"#19d3f3\",\"#FF6692\",\"#B6E880\",\"#FF97FF\",\"#FECB52\"],\"font\":{\"color\":\"#2a3f5f\"},\"hovermode\":\"closest\",\"hoverlabel\":{\"align\":\"left\"},\"paper_bgcolor\":\"white\",\"plot_bgcolor\":\"#E5ECF6\",\"polar\":{\"bgcolor\":\"#E5ECF6\",\"angularaxis\":{\"gridcolor\":\"white\",\"linecolor\":\"white\",\"ticks\":\"\"},\"radialaxis\":{\"gridcolor\":\"white\",\"linecolor\":\"white\",\"ticks\":\"\"}},\"ternary\":{\"bgcolor\":\"#E5ECF6\",\"aaxis\":{\"gridcolor\":\"white\",\"linecolor\":\"white\",\"ticks\":\"\"},\"baxis\":{\"gridcolor\":\"white\",\"linecolor\":\"white\",\"ticks\":\"\"},\"caxis\":{\"gridcolor\":\"white\",\"linecolor\":\"white\",\"ticks\":\"\"}},\"coloraxis\":{\"colorbar\":{\"outlinewidth\":0,\"ticks\":\"\"}},\"colorscale\":{\"sequential\":[[0.0,\"#0d0887\"],[0.1111111111111111,\"#46039f\"],[0.2222222222222222,\"#7201a8\"],[0.3333333333333333,\"#9c179e\"],[0.4444444444444444,\"#bd3786\"],[0.5555555555555556,\"#d8576b\"],[0.6666666666666666,\"#ed7953\"],[0.7777777777777778,\"#fb9f3a\"],[0.8888888888888888,\"#fdca26\"],[1.0,\"#f0f921\"]],\"sequentialminus\":[[0.0,\"#0d0887\"],[0.1111111111111111,\"#46039f\"],[0.2222222222222222,\"#7201a8\"],[0.3333333333333333,\"#9c179e\"],[0.4444444444444444,\"#bd3786\"],[0.5555555555555556,\"#d8576b\"],[0.6666666666666666,\"#ed7953\"],[0.7777777777777778,\"#fb9f3a\"],[0.8888888888888888,\"#fdca26\"],[1.0,\"#f0f921\"]],\"diverging\":[[0,\"#8e0152\"],[0.1,\"#c51b7d\"],[0.2,\"#de77ae\"],[0.3,\"#f1b6da\"],[0.4,\"#fde0ef\"],[0.5,\"#f7f7f7\"],[0.6,\"#e6f5d0\"],[0.7,\"#b8e186\"],[0.8,\"#7fbc41\"],[0.9,\"#4d9221\"],[1,\"#276419\"]]},\"xaxis\":{\"gridcolor\":\"white\",\"linecolor\":\"white\",\"ticks\":\"\",\"title\":{\"standoff\":15},\"zerolinecolor\":\"white\",\"automargin\":true,\"zerolinewidth\":2},\"yaxis\":{\"gridcolor\":\"white\",\"linecolor\":\"white\",\"ticks\":\"\",\"title\":{\"standoff\":15},\"zerolinecolor\":\"white\",\"automargin\":true,\"zerolinewidth\":2},\"scene\":{\"xaxis\":{\"backgroundcolor\":\"#E5ECF6\",\"gridcolor\":\"white\",\"linecolor\":\"white\",\"showbackground\":true,\"ticks\":\"\",\"zerolinecolor\":\"white\",\"gridwidth\":2},\"yaxis\":{\"backgroundcolor\":\"#E5ECF6\",\"gridcolor\":\"white\",\"linecolor\":\"white\",\"showbackground\":true,\"ticks\":\"\",\"zerolinecolor\":\"white\",\"gridwidth\":2},\"zaxis\":{\"backgroundcolor\":\"#E5ECF6\",\"gridcolor\":\"white\",\"linecolor\":\"white\",\"showbackground\":true,\"ticks\":\"\",\"zerolinecolor\":\"white\",\"gridwidth\":2}},\"shapedefaults\":{\"line\":{\"color\":\"#2a3f5f\"}},\"annotationdefaults\":{\"arrowcolor\":\"#2a3f5f\",\"arrowhead\":0,\"arrowwidth\":1},\"geo\":{\"bgcolor\":\"white\",\"landcolor\":\"#E5ECF6\",\"subunitcolor\":\"white\",\"showland\":true,\"showlakes\":true,\"lakecolor\":\"white\"},\"title\":{\"x\":0.05},\"mapbox\":{\"style\":\"light\"}}},\"xaxis\":{\"anchor\":\"y\",\"domain\":[0.0,1.0],\"title\":{\"text\":\"edad\"}},\"yaxis\":{\"anchor\":\"x\",\"domain\":[0.0,1.0]},\"legend\":{\"title\":{\"text\":\"adherencia_inversion\"},\"tracegroupgap\":0},\"margin\":{\"t\":60},\"boxmode\":\"group\"},                        {\"responsive\": true}                    ).then(function(){\n",
              "                            \n",
              "var gd = document.getElementById('b045c50a-33ba-404b-aba2-503e8d06891f');\n",
              "var x = new MutationObserver(function (mutations, observer) {{\n",
              "        var display = window.getComputedStyle(gd).display;\n",
              "        if (!display || display === 'none') {{\n",
              "            console.log([gd, 'removed!']);\n",
              "            Plotly.purge(gd);\n",
              "            observer.disconnect();\n",
              "        }}\n",
              "}});\n",
              "\n",
              "// Listen for the removal of the full notebook cells\n",
              "var notebookContainer = gd.closest('#notebook-container');\n",
              "if (notebookContainer) {{\n",
              "    x.observe(notebookContainer, {childList: true});\n",
              "}}\n",
              "\n",
              "// Listen for the clearing of the current output cell\n",
              "var outputEl = gd.closest('.output');\n",
              "if (outputEl) {{\n",
              "    x.observe(outputEl, {childList: true});\n",
              "}}\n",
              "\n",
              "                        })                };                            </script>        </div>\n",
              "</body>\n",
              "</html>"
            ]
          },
          "metadata": {}
        }
      ]
    },
    {
      "cell_type": "code",
      "source": [
        "px.box(datos, x='saldo', color='adherencia_inversion')"
      ],
      "metadata": {
        "id": "RKDBY1UDBXXf",
        "colab": {
          "base_uri": "https://localhost:8080/",
          "height": 542
        },
        "outputId": "f1bca4ea-def9-4a43-c333-a7eec2640c0e"
      },
      "execution_count": 67,
      "outputs": [
        {
          "output_type": "display_data",
          "data": {
            "text/html": [
              "<html>\n",
              "<head><meta charset=\"utf-8\" /></head>\n",
              "<body>\n",
              "    <div>            <script src=\"https://cdnjs.cloudflare.com/ajax/libs/mathjax/2.7.5/MathJax.js?config=TeX-AMS-MML_SVG\"></script><script type=\"text/javascript\">if (window.MathJax && window.MathJax.Hub && window.MathJax.Hub.Config) {window.MathJax.Hub.Config({SVG: {font: \"STIX-Web\"}});}</script>                <script type=\"text/javascript\">window.PlotlyConfig = {MathJaxConfig: 'local'};</script>\n",
              "        <script charset=\"utf-8\" src=\"https://cdn.plot.ly/plotly-2.35.2.min.js\"></script>                <div id=\"f0ac0362-3080-490e-b031-cc431dbb023f\" class=\"plotly-graph-div\" style=\"height:525px; width:100%;\"></div>            <script type=\"text/javascript\">                                    window.PLOTLYENV=window.PLOTLYENV || {};                                    if (document.getElementById(\"f0ac0362-3080-490e-b031-cc431dbb023f\")) {                    Plotly.newPlot(                        \"f0ac0362-3080-490e-b031-cc431dbb023f\",                        [{\"alignmentgroup\":\"True\",\"hovertemplate\":\"adherencia_inversion=si\\u003cbr\\u003esaldo=%{x}\\u003cextra\\u003e\\u003c\\u002fextra\\u003e\",\"legendgroup\":\"si\",\"marker\":{\"color\":\"#636efa\"},\"name\":\"si\",\"notched\":false,\"offsetgroup\":\"si\",\"orientation\":\"h\",\"showlegend\":true,\"x\":[242,1289,1382,3357,174,5086,139,2411,8304,624,102,4402,2145,1167,118,14220,156,-393,335,117,1337,259,1265,691,0,366,388,470,2171,230,151,1696,502,2146,480,687,3726,2431,3436,3283,213,1905,18,0,606,-53,4189,65,678,2488,3935,1047,2206,372,2048,4148,1097,247,126,1167,1445,478,325,462,0,198,2039,1044,3050,305,229,-20,2308,1147,889,3810,-90,8556,442,2160,255,206,985,763,1796,565,-191,6,238,3450,79,152,1451,760,3608,1315,921,0,3143,7066,405,2374,1679,548,2944,3285,4608,2544,1613,302,-454,811,1133,215,523,2543,410,25,-970,132,997,26965,1026,201,0,2253,104,3696,2488,2658,-195,3904,1562,225,897,199,668,14,2089,-242,4657,796,1646,1988,331,273,0,2,817,8,311,94,297,5106,227,755,302,1200,-386,0,195,636,22,171,39,802,368,205,720,4579,244,0,1429,1942,-242,495,1013,0,38,2776,822,-375,765,7050,197,406,2881,5845,386,944,70,657,844,976,0,61,-1206,462,3403,228,5310,4945,306,8295,4,620,1341,2442,902,3057,12,459,1354,2,1235,7802,75,5346,701,1297,4415,158,0,474,0,874,568,3733,133,197,231,3636,230,152,27,1331,569,3391,3371,1177,80,9,1412,759,7138,320,724,1191,4438,-824,1080,1219,1808,362,2232,1948,538,424,0,0,3,0,4108,607,5355,3727,1304,593,226,4508,808,304,1224,3463,3676,2325,4198,4,3771,480,1490,41,703,4099,489,-416,3334,493,57,273,1221,1893,1129,2013,5063,572,153,479,1070,3301,-54,136,1230,2850,2929,2788,4665,665,823,95,846,505,3735,3472,133,674,12569,437,2603,95,6610,425,113,4758,70,455,556,1058,664,104,2763,0,3665,-17,25,2734,-247,204,876,1633,490,1,9676,1511,668,-887,978,1574,2812,1727,936,11262,9228,1859,451,1076,294,2398,-308,393,-522,0,1836,699,710,-311,103,343,1679,6728,5291,3913,8,326,517,1044,1925,908,2085,9756,4745,639,883,279,4659,2087,0,1238,6046,1020,459,694,426,100,168,495,257,747,10,0,351,239,15,2536,623,5462,1347,341,170,0,-251,2144,1996,2971,2303,69,104,84,-315,2587,7195,2646,-242,2557,1361,197,556,697,1539,19317,54,0,687,2987,5037,925,145,2887,415,0,1580,1066,1792,4256,-46,0,703,4079,3,0,45,622,1026,661,4089,1205,6016,13,482,480,5514,92,732,59,1978,980,0,3792,1049,16,1766,602,2917,0,0,1623,-308,-306,1233,994,0,1625,2506,1199,763,429,170,1064,2306,4500,0,-839,315,3234,889,66,925,83,5958,-477,2187,19],\"x0\":\" \",\"xaxis\":\"x\",\"y0\":\" \",\"yaxis\":\"y\",\"type\":\"box\"},{\"alignmentgroup\":\"True\",\"hovertemplate\":\"adherencia_inversion=no\\u003cbr\\u003esaldo=%{x}\\u003cextra\\u003e\\u003c\\u002fextra\\u003e\",\"legendgroup\":\"no\",\"marker\":{\"color\":\"#EF553B\"},\"name\":\"no\",\"notched\":false,\"offsetgroup\":\"no\",\"orientation\":\"h\",\"showlegend\":true,\"x\":[363,4446,946,879,-94,7685,1116,0,559,0,70,157,-46,10888,719,7735,-247,1640,2662,2246,475,1584,0,-404,168,12877,98,13342,8312,119,3696,497,27069,40,1831,950,1513,1680,61,0,579,2275,0,8,87,3064,771,340,1032,1467,84,320,-673,-495,0,313,195,2590,106,1100,-228,403,415,1660,302,0,1810,0,62,194,2278,937,226,1553,0,10378,8167,102,180,-759,0,3470,6053,0,950,204,-363,-888,-461,201,7,827,0,302,678,2201,63,1439,641,1743,4,451,465,77,432,2394,-921,2,1086,3107,1209,0,1897,92,0,292,225,298,7317,640,1005,751,-396,436,653,508,6,92,16353,4943,2815,1067,470,5207,0,260,-328,0,431,2567,4,879,691,2185,7190,1469,22,1053,900,999,-29,3342,1069,7378,128,834,8,103,231,748,1657,1317,1322,263,4,1506,5314,260,150,1811,217,1240,1109,1012,220,89,1482,2581,475,198,17555,334,0,4900,304,171,619,2395,913,267,2959,975,0,1494,1698,781,158,316,2323,2974,541,0,13658,451,209,0,1111,1855,54,3939,4143,196,8238,1100,899,365,171,0,0,-292,442,442,30,228,757,489,390,61,1628,250,1187,2155,143,1533,178,732,552,1148,6402,5715,1409,474,0,502,1568,422,6483,229,0,2171,0,71,146,795,894,395,0,-9,168,2642,285,174,8627,1531,14412,108,8627,586,1121,52,3732,24,-1,93,-551,1022,943,204,979,9976,502,655,80,72,1,23,2515,22,-230,459,103,775,203,1386,-163,430,435,851,389,5320,180,1790,321,1045,111,-402,1831,25,4888,315,4153,0,1840,1117,828,102,633,1787,-32,295,-217,333,879,0,-256,44,10,14,305,-3,51,12223,614,360,22546,1410,1611,435,671,828,4902,3242,371,0,2347,0,145,2558,2237,525,2381,842,0,279,28,355,0,284,116,4554,6164,280,-221,-3,-298,1019,-93,21664,290,1897,604,186,-194,0,56,401,27,1084,-379,3463,578,9374,215,1746,35,212,705,786,0,500,5803,295,310,258,252,0,2685,902,1114,542,2904,417,388,736,-471,-278,75,-166,2294,1738,7353,399,50,46,462,191,1410,1238,2538,167,283,351,809,222,105,1327,378,2186,324,34,126,736,79,68,1372,71,520,171,949,177,115,125,-117,2805,0,0,179,1623,2,356,1315,4,1427,3571,181,1327,5108,-56,-59,1188,4210,192,314,200,11494,-630,-411,351,462,75,631,2,0,648,5235,82,3561,398,602,-98,2921,2225,569,-839,260,745,7343,5191,-123,2146,1671,136,472,278,0,324,16063,76,225,115,413,410,176,321,1050,291,6766,459,706,475,443,0,140,925,0,0,-53,0,6699,-179,1,359,804,133,137,1594,2262,856,-378,435,454,562,613,266,-540,69,1588,3854,10655,0,621,6563,609,1011,1983,0,605,1328,1025,62,118,493,406,60,1141,1147,0,3060,1011,236,202,20,0,2330,667,44,37,590,2993,902,15,-384,225,20,8,16430,-679,9269,427,2700,0,579,265,222,1670,-583,3163,1054,2349,5878,-219,4348,249,344,262,0,-329,0,130,4213,4382,950,5731,-518,273,553,-396,1172,25,0,61,4722,0,1666,10907,275,3672,0,1355,473,271,1415,16873,1145,157,0,331,5045,1295,-905,2125,0,1420,6850,1270,2988,506,669,11,261,0,2357,79,451,468,382,377,5799,2814,722,595,1269,4824,1529,592,4366,2,330,308,738,0,0,86,329,0,5731,-196,593,477,1071,0,42,3616,595,345,2,163,65,-97,238,3052,23,474,148,138,238,117,967,443,42,-55,931,-584,894,1532,0,-322,181,1480,306,-350,480,5050,0,0,83,40,490,0,1216,1602,33,-381,0,0,3516,881,286,2190,636,79,334,901,40,176,1076,865,429,221,4667,6969,1916,2223,5,47,1844,-55,300,0,318,1932,180,1574,-97,8,-35,1465,872,1790,660,10177,0,1147,784,16,212,5304,2343,1831,297,203,64,6,1064,-762,205],\"x0\":\" \",\"xaxis\":\"x\",\"y0\":\" \",\"yaxis\":\"y\",\"type\":\"box\"}],                        {\"template\":{\"data\":{\"histogram2dcontour\":[{\"type\":\"histogram2dcontour\",\"colorbar\":{\"outlinewidth\":0,\"ticks\":\"\"},\"colorscale\":[[0.0,\"#0d0887\"],[0.1111111111111111,\"#46039f\"],[0.2222222222222222,\"#7201a8\"],[0.3333333333333333,\"#9c179e\"],[0.4444444444444444,\"#bd3786\"],[0.5555555555555556,\"#d8576b\"],[0.6666666666666666,\"#ed7953\"],[0.7777777777777778,\"#fb9f3a\"],[0.8888888888888888,\"#fdca26\"],[1.0,\"#f0f921\"]]}],\"choropleth\":[{\"type\":\"choropleth\",\"colorbar\":{\"outlinewidth\":0,\"ticks\":\"\"}}],\"histogram2d\":[{\"type\":\"histogram2d\",\"colorbar\":{\"outlinewidth\":0,\"ticks\":\"\"},\"colorscale\":[[0.0,\"#0d0887\"],[0.1111111111111111,\"#46039f\"],[0.2222222222222222,\"#7201a8\"],[0.3333333333333333,\"#9c179e\"],[0.4444444444444444,\"#bd3786\"],[0.5555555555555556,\"#d8576b\"],[0.6666666666666666,\"#ed7953\"],[0.7777777777777778,\"#fb9f3a\"],[0.8888888888888888,\"#fdca26\"],[1.0,\"#f0f921\"]]}],\"heatmap\":[{\"type\":\"heatmap\",\"colorbar\":{\"outlinewidth\":0,\"ticks\":\"\"},\"colorscale\":[[0.0,\"#0d0887\"],[0.1111111111111111,\"#46039f\"],[0.2222222222222222,\"#7201a8\"],[0.3333333333333333,\"#9c179e\"],[0.4444444444444444,\"#bd3786\"],[0.5555555555555556,\"#d8576b\"],[0.6666666666666666,\"#ed7953\"],[0.7777777777777778,\"#fb9f3a\"],[0.8888888888888888,\"#fdca26\"],[1.0,\"#f0f921\"]]}],\"heatmapgl\":[{\"type\":\"heatmapgl\",\"colorbar\":{\"outlinewidth\":0,\"ticks\":\"\"},\"colorscale\":[[0.0,\"#0d0887\"],[0.1111111111111111,\"#46039f\"],[0.2222222222222222,\"#7201a8\"],[0.3333333333333333,\"#9c179e\"],[0.4444444444444444,\"#bd3786\"],[0.5555555555555556,\"#d8576b\"],[0.6666666666666666,\"#ed7953\"],[0.7777777777777778,\"#fb9f3a\"],[0.8888888888888888,\"#fdca26\"],[1.0,\"#f0f921\"]]}],\"contourcarpet\":[{\"type\":\"contourcarpet\",\"colorbar\":{\"outlinewidth\":0,\"ticks\":\"\"}}],\"contour\":[{\"type\":\"contour\",\"colorbar\":{\"outlinewidth\":0,\"ticks\":\"\"},\"colorscale\":[[0.0,\"#0d0887\"],[0.1111111111111111,\"#46039f\"],[0.2222222222222222,\"#7201a8\"],[0.3333333333333333,\"#9c179e\"],[0.4444444444444444,\"#bd3786\"],[0.5555555555555556,\"#d8576b\"],[0.6666666666666666,\"#ed7953\"],[0.7777777777777778,\"#fb9f3a\"],[0.8888888888888888,\"#fdca26\"],[1.0,\"#f0f921\"]]}],\"surface\":[{\"type\":\"surface\",\"colorbar\":{\"outlinewidth\":0,\"ticks\":\"\"},\"colorscale\":[[0.0,\"#0d0887\"],[0.1111111111111111,\"#46039f\"],[0.2222222222222222,\"#7201a8\"],[0.3333333333333333,\"#9c179e\"],[0.4444444444444444,\"#bd3786\"],[0.5555555555555556,\"#d8576b\"],[0.6666666666666666,\"#ed7953\"],[0.7777777777777778,\"#fb9f3a\"],[0.8888888888888888,\"#fdca26\"],[1.0,\"#f0f921\"]]}],\"mesh3d\":[{\"type\":\"mesh3d\",\"colorbar\":{\"outlinewidth\":0,\"ticks\":\"\"}}],\"scatter\":[{\"fillpattern\":{\"fillmode\":\"overlay\",\"size\":10,\"solidity\":0.2},\"type\":\"scatter\"}],\"parcoords\":[{\"type\":\"parcoords\",\"line\":{\"colorbar\":{\"outlinewidth\":0,\"ticks\":\"\"}}}],\"scatterpolargl\":[{\"type\":\"scatterpolargl\",\"marker\":{\"colorbar\":{\"outlinewidth\":0,\"ticks\":\"\"}}}],\"bar\":[{\"error_x\":{\"color\":\"#2a3f5f\"},\"error_y\":{\"color\":\"#2a3f5f\"},\"marker\":{\"line\":{\"color\":\"#E5ECF6\",\"width\":0.5},\"pattern\":{\"fillmode\":\"overlay\",\"size\":10,\"solidity\":0.2}},\"type\":\"bar\"}],\"scattergeo\":[{\"type\":\"scattergeo\",\"marker\":{\"colorbar\":{\"outlinewidth\":0,\"ticks\":\"\"}}}],\"scatterpolar\":[{\"type\":\"scatterpolar\",\"marker\":{\"colorbar\":{\"outlinewidth\":0,\"ticks\":\"\"}}}],\"histogram\":[{\"marker\":{\"pattern\":{\"fillmode\":\"overlay\",\"size\":10,\"solidity\":0.2}},\"type\":\"histogram\"}],\"scattergl\":[{\"type\":\"scattergl\",\"marker\":{\"colorbar\":{\"outlinewidth\":0,\"ticks\":\"\"}}}],\"scatter3d\":[{\"type\":\"scatter3d\",\"line\":{\"colorbar\":{\"outlinewidth\":0,\"ticks\":\"\"}},\"marker\":{\"colorbar\":{\"outlinewidth\":0,\"ticks\":\"\"}}}],\"scattermapbox\":[{\"type\":\"scattermapbox\",\"marker\":{\"colorbar\":{\"outlinewidth\":0,\"ticks\":\"\"}}}],\"scatterternary\":[{\"type\":\"scatterternary\",\"marker\":{\"colorbar\":{\"outlinewidth\":0,\"ticks\":\"\"}}}],\"scattercarpet\":[{\"type\":\"scattercarpet\",\"marker\":{\"colorbar\":{\"outlinewidth\":0,\"ticks\":\"\"}}}],\"carpet\":[{\"aaxis\":{\"endlinecolor\":\"#2a3f5f\",\"gridcolor\":\"white\",\"linecolor\":\"white\",\"minorgridcolor\":\"white\",\"startlinecolor\":\"#2a3f5f\"},\"baxis\":{\"endlinecolor\":\"#2a3f5f\",\"gridcolor\":\"white\",\"linecolor\":\"white\",\"minorgridcolor\":\"white\",\"startlinecolor\":\"#2a3f5f\"},\"type\":\"carpet\"}],\"table\":[{\"cells\":{\"fill\":{\"color\":\"#EBF0F8\"},\"line\":{\"color\":\"white\"}},\"header\":{\"fill\":{\"color\":\"#C8D4E3\"},\"line\":{\"color\":\"white\"}},\"type\":\"table\"}],\"barpolar\":[{\"marker\":{\"line\":{\"color\":\"#E5ECF6\",\"width\":0.5},\"pattern\":{\"fillmode\":\"overlay\",\"size\":10,\"solidity\":0.2}},\"type\":\"barpolar\"}],\"pie\":[{\"automargin\":true,\"type\":\"pie\"}]},\"layout\":{\"autotypenumbers\":\"strict\",\"colorway\":[\"#636efa\",\"#EF553B\",\"#00cc96\",\"#ab63fa\",\"#FFA15A\",\"#19d3f3\",\"#FF6692\",\"#B6E880\",\"#FF97FF\",\"#FECB52\"],\"font\":{\"color\":\"#2a3f5f\"},\"hovermode\":\"closest\",\"hoverlabel\":{\"align\":\"left\"},\"paper_bgcolor\":\"white\",\"plot_bgcolor\":\"#E5ECF6\",\"polar\":{\"bgcolor\":\"#E5ECF6\",\"angularaxis\":{\"gridcolor\":\"white\",\"linecolor\":\"white\",\"ticks\":\"\"},\"radialaxis\":{\"gridcolor\":\"white\",\"linecolor\":\"white\",\"ticks\":\"\"}},\"ternary\":{\"bgcolor\":\"#E5ECF6\",\"aaxis\":{\"gridcolor\":\"white\",\"linecolor\":\"white\",\"ticks\":\"\"},\"baxis\":{\"gridcolor\":\"white\",\"linecolor\":\"white\",\"ticks\":\"\"},\"caxis\":{\"gridcolor\":\"white\",\"linecolor\":\"white\",\"ticks\":\"\"}},\"coloraxis\":{\"colorbar\":{\"outlinewidth\":0,\"ticks\":\"\"}},\"colorscale\":{\"sequential\":[[0.0,\"#0d0887\"],[0.1111111111111111,\"#46039f\"],[0.2222222222222222,\"#7201a8\"],[0.3333333333333333,\"#9c179e\"],[0.4444444444444444,\"#bd3786\"],[0.5555555555555556,\"#d8576b\"],[0.6666666666666666,\"#ed7953\"],[0.7777777777777778,\"#fb9f3a\"],[0.8888888888888888,\"#fdca26\"],[1.0,\"#f0f921\"]],\"sequentialminus\":[[0.0,\"#0d0887\"],[0.1111111111111111,\"#46039f\"],[0.2222222222222222,\"#7201a8\"],[0.3333333333333333,\"#9c179e\"],[0.4444444444444444,\"#bd3786\"],[0.5555555555555556,\"#d8576b\"],[0.6666666666666666,\"#ed7953\"],[0.7777777777777778,\"#fb9f3a\"],[0.8888888888888888,\"#fdca26\"],[1.0,\"#f0f921\"]],\"diverging\":[[0,\"#8e0152\"],[0.1,\"#c51b7d\"],[0.2,\"#de77ae\"],[0.3,\"#f1b6da\"],[0.4,\"#fde0ef\"],[0.5,\"#f7f7f7\"],[0.6,\"#e6f5d0\"],[0.7,\"#b8e186\"],[0.8,\"#7fbc41\"],[0.9,\"#4d9221\"],[1,\"#276419\"]]},\"xaxis\":{\"gridcolor\":\"white\",\"linecolor\":\"white\",\"ticks\":\"\",\"title\":{\"standoff\":15},\"zerolinecolor\":\"white\",\"automargin\":true,\"zerolinewidth\":2},\"yaxis\":{\"gridcolor\":\"white\",\"linecolor\":\"white\",\"ticks\":\"\",\"title\":{\"standoff\":15},\"zerolinecolor\":\"white\",\"automargin\":true,\"zerolinewidth\":2},\"scene\":{\"xaxis\":{\"backgroundcolor\":\"#E5ECF6\",\"gridcolor\":\"white\",\"linecolor\":\"white\",\"showbackground\":true,\"ticks\":\"\",\"zerolinecolor\":\"white\",\"gridwidth\":2},\"yaxis\":{\"backgroundcolor\":\"#E5ECF6\",\"gridcolor\":\"white\",\"linecolor\":\"white\",\"showbackground\":true,\"ticks\":\"\",\"zerolinecolor\":\"white\",\"gridwidth\":2},\"zaxis\":{\"backgroundcolor\":\"#E5ECF6\",\"gridcolor\":\"white\",\"linecolor\":\"white\",\"showbackground\":true,\"ticks\":\"\",\"zerolinecolor\":\"white\",\"gridwidth\":2}},\"shapedefaults\":{\"line\":{\"color\":\"#2a3f5f\"}},\"annotationdefaults\":{\"arrowcolor\":\"#2a3f5f\",\"arrowhead\":0,\"arrowwidth\":1},\"geo\":{\"bgcolor\":\"white\",\"landcolor\":\"#E5ECF6\",\"subunitcolor\":\"white\",\"showland\":true,\"showlakes\":true,\"lakecolor\":\"white\"},\"title\":{\"x\":0.05},\"mapbox\":{\"style\":\"light\"}}},\"xaxis\":{\"anchor\":\"y\",\"domain\":[0.0,1.0],\"title\":{\"text\":\"saldo\"}},\"yaxis\":{\"anchor\":\"x\",\"domain\":[0.0,1.0]},\"legend\":{\"title\":{\"text\":\"adherencia_inversion\"},\"tracegroupgap\":0},\"margin\":{\"t\":60},\"boxmode\":\"group\"},                        {\"responsive\": true}                    ).then(function(){\n",
              "                            \n",
              "var gd = document.getElementById('f0ac0362-3080-490e-b031-cc431dbb023f');\n",
              "var x = new MutationObserver(function (mutations, observer) {{\n",
              "        var display = window.getComputedStyle(gd).display;\n",
              "        if (!display || display === 'none') {{\n",
              "            console.log([gd, 'removed!']);\n",
              "            Plotly.purge(gd);\n",
              "            observer.disconnect();\n",
              "        }}\n",
              "}});\n",
              "\n",
              "// Listen for the removal of the full notebook cells\n",
              "var notebookContainer = gd.closest('#notebook-container');\n",
              "if (notebookContainer) {{\n",
              "    x.observe(notebookContainer, {childList: true});\n",
              "}}\n",
              "\n",
              "// Listen for the clearing of the current output cell\n",
              "var outputEl = gd.closest('.output');\n",
              "if (outputEl) {{\n",
              "    x.observe(outputEl, {childList: true});\n",
              "}}\n",
              "\n",
              "                        })                };                            </script>        </div>\n",
              "</body>\n",
              "</html>"
            ]
          },
          "metadata": {}
        }
      ]
    },
    {
      "cell_type": "code",
      "source": [
        "px.box(datos, x='ultimo_contacto', color='adherencia_inversion')"
      ],
      "metadata": {
        "id": "pLTneC3XBW9T",
        "colab": {
          "base_uri": "https://localhost:8080/",
          "height": 542
        },
        "outputId": "0729ba55-1b97-41e7-a338-c1c9a7b50335"
      },
      "execution_count": 68,
      "outputs": [
        {
          "output_type": "display_data",
          "data": {
            "text/html": [
              "<html>\n",
              "<head><meta charset=\"utf-8\" /></head>\n",
              "<body>\n",
              "    <div>            <script src=\"https://cdnjs.cloudflare.com/ajax/libs/mathjax/2.7.5/MathJax.js?config=TeX-AMS-MML_SVG\"></script><script type=\"text/javascript\">if (window.MathJax && window.MathJax.Hub && window.MathJax.Hub.Config) {window.MathJax.Hub.Config({SVG: {font: \"STIX-Web\"}});}</script>                <script type=\"text/javascript\">window.PlotlyConfig = {MathJaxConfig: 'local'};</script>\n",
              "        <script charset=\"utf-8\" src=\"https://cdn.plot.ly/plotly-2.35.2.min.js\"></script>                <div id=\"ddecfca6-9017-4882-a447-21f3a24faba3\" class=\"plotly-graph-div\" style=\"height:525px; width:100%;\"></div>            <script type=\"text/javascript\">                                    window.PLOTLYENV=window.PLOTLYENV || {};                                    if (document.getElementById(\"ddecfca6-9017-4882-a447-21f3a24faba3\")) {                    Plotly.newPlot(                        \"ddecfca6-9017-4882-a447-21f3a24faba3\",                        [{\"alignmentgroup\":\"True\",\"hovertemplate\":\"adherencia_inversion=si\\u003cbr\\u003eultimo_contacto=%{x}\\u003cextra\\u003e\\u003c\\u002fextra\\u003e\",\"legendgroup\":\"si\",\"marker\":{\"color\":\"#636efa\"},\"name\":\"si\",\"notched\":false,\"offsetgroup\":\"si\",\"orientation\":\"h\",\"showlegend\":true,\"x\":[587,250,700,239,487,213,732,130,712,336,470,805,727,968,1275,397,657,435,411,467,330,415,326,338,767,593,2087,743,1034,442,97,257,261,1516,830,772,875,646,663,258,378,709,359,1448,97,648,897,1028,1579,258,765,554,104,654,310,316,181,401,2456,264,328,475,1139,495,146,128,451,585,469,633,97,574,815,389,388,262,270,326,474,261,457,479,998,384,295,876,755,216,185,169,249,563,314,223,231,224,394,1073,421,667,994,161,417,1181,882,1721,212,252,296,528,558,563,293,350,152,223,891,528,489,574,106,654,669,325,1174,937,701,250,449,768,391,250,659,1126,397,1689,1263,167,132,1173,93,427,261,164,170,910,847,1031,517,107,757,493,415,244,278,1212,205,904,477,639,220,352,388,93,549,569,293,289,651,409,1735,648,1015,436,1149,157,206,618,744,701,184,814,959,222,78,736,356,1060,253,251,229,398,1018,345,550,836,382,1877,707,1017,984,311,388,207,395,1234,415,91,691,2769,587,558,736,100,354,421,479,187,254,716,1032,650,161,423,1608,1282,378,198,218,223,352,808,144,158,230,297,976,243,269,330,676,386,480,317,809,1971,287,214,446,429,951,697,245,816,121,216,353,298,154,228,998,493,526,454,466,993,501,1484,762,854,267,226,1441,96,567,125,309,268,185,344,506,686,342,397,356,767,632,671,796,803,279,1259,806,222,418,314,1124,515,30,485,698,363,412,185,518,369,860,371,780,335,671,386,190,332,171,587,344,504,280,1309,481,883,328,712,255,403,646,188,955,635,526,812,664,474,232,897,519,224,269,275,207,159,234,270,576,827,1370,301,830,500,931,323,655,245,652,152,87,317,725,567,670,594,750,1258,653,1030,104,377,718,232,192,124,93,788,681,353,904,1663,501,103,360,353,798,399,161,267,227,1558,300,882,623,144,1029,221,347,213,955,543,857,171,1063,412,921,958,297,430,280,670,442,260,641,417,761,429,775,120,606,1101,2029,328,609,142,600,134,1473,260,460,860,441,249,543,508,869,307,252,709,799,819,777,294,1007,109,630,239,199,524,590,343,488,262,1467,1451,226,968,289,376,670,76,1097,213,319,688,759,873,404,352,147,279,224,990,166,324,215,1472,264,1081,781,500,91,149,268,796,485,178,877,1006,129,562,239,733,80,1018,1407,578,185,1164,321,1223,215,1532,525,110],\"x0\":\" \",\"xaxis\":\"x\",\"y0\":\" \",\"yaxis\":\"y\",\"type\":\"box\"},{\"alignmentgroup\":\"True\",\"hovertemplate\":\"adherencia_inversion=no\\u003cbr\\u003eultimo_contacto=%{x}\\u003cextra\\u003e\\u003c\\u002fextra\\u003e\",\"legendgroup\":\"no\",\"marker\":{\"color\":\"#EF553B\"},\"name\":\"no\",\"notched\":false,\"offsetgroup\":\"no\",\"orientation\":\"h\",\"showlegend\":true,\"x\":[16,429,1065,102,41,493,53,71,1231,793,611,299,23,163,230,220,344,72,148,330,559,661,264,502,212,118,420,465,43,127,305,88,174,123,203,135,330,76,21,129,83,139,211,55,165,240,106,255,41,277,231,76,364,303,768,42,185,68,175,67,187,318,123,342,89,79,65,298,67,189,244,66,176,200,86,523,114,272,62,191,118,285,865,209,219,286,340,135,254,248,98,319,297,208,85,233,56,73,347,192,145,451,160,56,10,184,115,102,410,1516,283,108,441,139,105,222,866,144,172,318,215,343,443,28,352,70,246,127,223,117,125,179,217,336,676,52,318,83,73,109,443,228,517,354,375,364,76,405,322,182,41,329,247,466,275,196,155,314,76,184,566,395,178,119,84,299,200,146,151,150,193,505,328,410,89,156,177,99,538,205,14,36,561,121,129,209,16,218,113,128,325,256,83,275,95,74,73,126,151,187,237,380,220,389,319,3025,50,75,103,209,200,116,124,660,377,59,191,479,181,181,102,77,98,12,103,205,208,112,119,193,193,295,627,86,747,736,463,121,158,287,235,400,224,197,206,110,123,175,127,130,85,836,284,131,491,419,60,123,227,310,209,367,169,81,297,543,281,489,454,22,379,631,173,134,168,20,96,111,123,57,267,606,251,764,65,216,40,265,715,83,956,361,177,185,502,154,122,151,15,114,298,224,189,290,58,127,86,381,475,103,35,140,312,365,215,614,128,79,14,92,313,129,60,236,147,118,167,87,834,91,50,36,72,592,8,93,490,193,332,214,110,233,124,209,603,71,157,107,619,127,173,273,151,110,220,61,179,252,580,8,152,162,250,205,559,285,402,214,283,197,95,136,127,207,66,294,485,201,261,210,112,7,543,99,152,27,20,322,104,19,83,151,200,587,123,39,187,159,283,1816,277,90,730,119,668,143,204,85,251,349,536,133,89,78,272,40,8,274,307,57,226,467,155,317,74,174,346,366,217,29,164,700,317,254,240,86,15,19,245,63,209,238,770,173,163,81,96,21,380,76,1337,74,32,222,265,115,272,119,127,140,119,203,67,322,198,173,78,326,147,123,248,89,389,287,67,140,98,77,347,112,251,73,348,68,446,595,217,187,131,594,160,70,907,60,29,293,352,236,122,46,104,337,42,135,586,150,210,317,329,141,84,107,490,884,147,206,617,176,425,54,257,210,266,206,305,250,44,95,541,192,28,303,86,102,29,461,14,10,5,58,217,136,1126,340,123,115,204,82,388,166,358,289,253,151,22,29,90,253,112,8,146,404,82,15,228,310,24,133,24,210,550,25,304,145,196,197,159,107,371,337,131,230,14,71,161,25,56,273,134,159,66,373,258,221,371,53,171,46,285,142,193,210,164,244,97,106,127,153,169,535,113,483,1473,30,74,144,1210,1366,134,624,134,151,223,82,650,239,82,20,179,213,285,82,124,252,80,179,122,88,157,233,502,228,104,125,109,294,143,97,81,141,245,549,168,160,122,188,197,88,77,585,172,239,192,122,80,175,60,64,973,143,197,51,165,22,605,653,464,162,79,808,32,91,90,717,205,45,635,180,27,102,281,1183,411,509,253,191,225,599,108,212,95,211,75,205,44,69,359,73,340,472,142,70,30,669,71,447,143,557,90,211,235,389,601,79,147,70,71,244,150,130,412,281,1139,101,141,241,119,287,197,133,192,203,167,216,169,304,98,1130,214,115,272,97,249,34,119,260,340,226,1531,63,104,239,140,113,408,442],\"x0\":\" \",\"xaxis\":\"x\",\"y0\":\" \",\"yaxis\":\"y\",\"type\":\"box\"}],                        {\"template\":{\"data\":{\"histogram2dcontour\":[{\"type\":\"histogram2dcontour\",\"colorbar\":{\"outlinewidth\":0,\"ticks\":\"\"},\"colorscale\":[[0.0,\"#0d0887\"],[0.1111111111111111,\"#46039f\"],[0.2222222222222222,\"#7201a8\"],[0.3333333333333333,\"#9c179e\"],[0.4444444444444444,\"#bd3786\"],[0.5555555555555556,\"#d8576b\"],[0.6666666666666666,\"#ed7953\"],[0.7777777777777778,\"#fb9f3a\"],[0.8888888888888888,\"#fdca26\"],[1.0,\"#f0f921\"]]}],\"choropleth\":[{\"type\":\"choropleth\",\"colorbar\":{\"outlinewidth\":0,\"ticks\":\"\"}}],\"histogram2d\":[{\"type\":\"histogram2d\",\"colorbar\":{\"outlinewidth\":0,\"ticks\":\"\"},\"colorscale\":[[0.0,\"#0d0887\"],[0.1111111111111111,\"#46039f\"],[0.2222222222222222,\"#7201a8\"],[0.3333333333333333,\"#9c179e\"],[0.4444444444444444,\"#bd3786\"],[0.5555555555555556,\"#d8576b\"],[0.6666666666666666,\"#ed7953\"],[0.7777777777777778,\"#fb9f3a\"],[0.8888888888888888,\"#fdca26\"],[1.0,\"#f0f921\"]]}],\"heatmap\":[{\"type\":\"heatmap\",\"colorbar\":{\"outlinewidth\":0,\"ticks\":\"\"},\"colorscale\":[[0.0,\"#0d0887\"],[0.1111111111111111,\"#46039f\"],[0.2222222222222222,\"#7201a8\"],[0.3333333333333333,\"#9c179e\"],[0.4444444444444444,\"#bd3786\"],[0.5555555555555556,\"#d8576b\"],[0.6666666666666666,\"#ed7953\"],[0.7777777777777778,\"#fb9f3a\"],[0.8888888888888888,\"#fdca26\"],[1.0,\"#f0f921\"]]}],\"heatmapgl\":[{\"type\":\"heatmapgl\",\"colorbar\":{\"outlinewidth\":0,\"ticks\":\"\"},\"colorscale\":[[0.0,\"#0d0887\"],[0.1111111111111111,\"#46039f\"],[0.2222222222222222,\"#7201a8\"],[0.3333333333333333,\"#9c179e\"],[0.4444444444444444,\"#bd3786\"],[0.5555555555555556,\"#d8576b\"],[0.6666666666666666,\"#ed7953\"],[0.7777777777777778,\"#fb9f3a\"],[0.8888888888888888,\"#fdca26\"],[1.0,\"#f0f921\"]]}],\"contourcarpet\":[{\"type\":\"contourcarpet\",\"colorbar\":{\"outlinewidth\":0,\"ticks\":\"\"}}],\"contour\":[{\"type\":\"contour\",\"colorbar\":{\"outlinewidth\":0,\"ticks\":\"\"},\"colorscale\":[[0.0,\"#0d0887\"],[0.1111111111111111,\"#46039f\"],[0.2222222222222222,\"#7201a8\"],[0.3333333333333333,\"#9c179e\"],[0.4444444444444444,\"#bd3786\"],[0.5555555555555556,\"#d8576b\"],[0.6666666666666666,\"#ed7953\"],[0.7777777777777778,\"#fb9f3a\"],[0.8888888888888888,\"#fdca26\"],[1.0,\"#f0f921\"]]}],\"surface\":[{\"type\":\"surface\",\"colorbar\":{\"outlinewidth\":0,\"ticks\":\"\"},\"colorscale\":[[0.0,\"#0d0887\"],[0.1111111111111111,\"#46039f\"],[0.2222222222222222,\"#7201a8\"],[0.3333333333333333,\"#9c179e\"],[0.4444444444444444,\"#bd3786\"],[0.5555555555555556,\"#d8576b\"],[0.6666666666666666,\"#ed7953\"],[0.7777777777777778,\"#fb9f3a\"],[0.8888888888888888,\"#fdca26\"],[1.0,\"#f0f921\"]]}],\"mesh3d\":[{\"type\":\"mesh3d\",\"colorbar\":{\"outlinewidth\":0,\"ticks\":\"\"}}],\"scatter\":[{\"fillpattern\":{\"fillmode\":\"overlay\",\"size\":10,\"solidity\":0.2},\"type\":\"scatter\"}],\"parcoords\":[{\"type\":\"parcoords\",\"line\":{\"colorbar\":{\"outlinewidth\":0,\"ticks\":\"\"}}}],\"scatterpolargl\":[{\"type\":\"scatterpolargl\",\"marker\":{\"colorbar\":{\"outlinewidth\":0,\"ticks\":\"\"}}}],\"bar\":[{\"error_x\":{\"color\":\"#2a3f5f\"},\"error_y\":{\"color\":\"#2a3f5f\"},\"marker\":{\"line\":{\"color\":\"#E5ECF6\",\"width\":0.5},\"pattern\":{\"fillmode\":\"overlay\",\"size\":10,\"solidity\":0.2}},\"type\":\"bar\"}],\"scattergeo\":[{\"type\":\"scattergeo\",\"marker\":{\"colorbar\":{\"outlinewidth\":0,\"ticks\":\"\"}}}],\"scatterpolar\":[{\"type\":\"scatterpolar\",\"marker\":{\"colorbar\":{\"outlinewidth\":0,\"ticks\":\"\"}}}],\"histogram\":[{\"marker\":{\"pattern\":{\"fillmode\":\"overlay\",\"size\":10,\"solidity\":0.2}},\"type\":\"histogram\"}],\"scattergl\":[{\"type\":\"scattergl\",\"marker\":{\"colorbar\":{\"outlinewidth\":0,\"ticks\":\"\"}}}],\"scatter3d\":[{\"type\":\"scatter3d\",\"line\":{\"colorbar\":{\"outlinewidth\":0,\"ticks\":\"\"}},\"marker\":{\"colorbar\":{\"outlinewidth\":0,\"ticks\":\"\"}}}],\"scattermapbox\":[{\"type\":\"scattermapbox\",\"marker\":{\"colorbar\":{\"outlinewidth\":0,\"ticks\":\"\"}}}],\"scatterternary\":[{\"type\":\"scatterternary\",\"marker\":{\"colorbar\":{\"outlinewidth\":0,\"ticks\":\"\"}}}],\"scattercarpet\":[{\"type\":\"scattercarpet\",\"marker\":{\"colorbar\":{\"outlinewidth\":0,\"ticks\":\"\"}}}],\"carpet\":[{\"aaxis\":{\"endlinecolor\":\"#2a3f5f\",\"gridcolor\":\"white\",\"linecolor\":\"white\",\"minorgridcolor\":\"white\",\"startlinecolor\":\"#2a3f5f\"},\"baxis\":{\"endlinecolor\":\"#2a3f5f\",\"gridcolor\":\"white\",\"linecolor\":\"white\",\"minorgridcolor\":\"white\",\"startlinecolor\":\"#2a3f5f\"},\"type\":\"carpet\"}],\"table\":[{\"cells\":{\"fill\":{\"color\":\"#EBF0F8\"},\"line\":{\"color\":\"white\"}},\"header\":{\"fill\":{\"color\":\"#C8D4E3\"},\"line\":{\"color\":\"white\"}},\"type\":\"table\"}],\"barpolar\":[{\"marker\":{\"line\":{\"color\":\"#E5ECF6\",\"width\":0.5},\"pattern\":{\"fillmode\":\"overlay\",\"size\":10,\"solidity\":0.2}},\"type\":\"barpolar\"}],\"pie\":[{\"automargin\":true,\"type\":\"pie\"}]},\"layout\":{\"autotypenumbers\":\"strict\",\"colorway\":[\"#636efa\",\"#EF553B\",\"#00cc96\",\"#ab63fa\",\"#FFA15A\",\"#19d3f3\",\"#FF6692\",\"#B6E880\",\"#FF97FF\",\"#FECB52\"],\"font\":{\"color\":\"#2a3f5f\"},\"hovermode\":\"closest\",\"hoverlabel\":{\"align\":\"left\"},\"paper_bgcolor\":\"white\",\"plot_bgcolor\":\"#E5ECF6\",\"polar\":{\"bgcolor\":\"#E5ECF6\",\"angularaxis\":{\"gridcolor\":\"white\",\"linecolor\":\"white\",\"ticks\":\"\"},\"radialaxis\":{\"gridcolor\":\"white\",\"linecolor\":\"white\",\"ticks\":\"\"}},\"ternary\":{\"bgcolor\":\"#E5ECF6\",\"aaxis\":{\"gridcolor\":\"white\",\"linecolor\":\"white\",\"ticks\":\"\"},\"baxis\":{\"gridcolor\":\"white\",\"linecolor\":\"white\",\"ticks\":\"\"},\"caxis\":{\"gridcolor\":\"white\",\"linecolor\":\"white\",\"ticks\":\"\"}},\"coloraxis\":{\"colorbar\":{\"outlinewidth\":0,\"ticks\":\"\"}},\"colorscale\":{\"sequential\":[[0.0,\"#0d0887\"],[0.1111111111111111,\"#46039f\"],[0.2222222222222222,\"#7201a8\"],[0.3333333333333333,\"#9c179e\"],[0.4444444444444444,\"#bd3786\"],[0.5555555555555556,\"#d8576b\"],[0.6666666666666666,\"#ed7953\"],[0.7777777777777778,\"#fb9f3a\"],[0.8888888888888888,\"#fdca26\"],[1.0,\"#f0f921\"]],\"sequentialminus\":[[0.0,\"#0d0887\"],[0.1111111111111111,\"#46039f\"],[0.2222222222222222,\"#7201a8\"],[0.3333333333333333,\"#9c179e\"],[0.4444444444444444,\"#bd3786\"],[0.5555555555555556,\"#d8576b\"],[0.6666666666666666,\"#ed7953\"],[0.7777777777777778,\"#fb9f3a\"],[0.8888888888888888,\"#fdca26\"],[1.0,\"#f0f921\"]],\"diverging\":[[0,\"#8e0152\"],[0.1,\"#c51b7d\"],[0.2,\"#de77ae\"],[0.3,\"#f1b6da\"],[0.4,\"#fde0ef\"],[0.5,\"#f7f7f7\"],[0.6,\"#e6f5d0\"],[0.7,\"#b8e186\"],[0.8,\"#7fbc41\"],[0.9,\"#4d9221\"],[1,\"#276419\"]]},\"xaxis\":{\"gridcolor\":\"white\",\"linecolor\":\"white\",\"ticks\":\"\",\"title\":{\"standoff\":15},\"zerolinecolor\":\"white\",\"automargin\":true,\"zerolinewidth\":2},\"yaxis\":{\"gridcolor\":\"white\",\"linecolor\":\"white\",\"ticks\":\"\",\"title\":{\"standoff\":15},\"zerolinecolor\":\"white\",\"automargin\":true,\"zerolinewidth\":2},\"scene\":{\"xaxis\":{\"backgroundcolor\":\"#E5ECF6\",\"gridcolor\":\"white\",\"linecolor\":\"white\",\"showbackground\":true,\"ticks\":\"\",\"zerolinecolor\":\"white\",\"gridwidth\":2},\"yaxis\":{\"backgroundcolor\":\"#E5ECF6\",\"gridcolor\":\"white\",\"linecolor\":\"white\",\"showbackground\":true,\"ticks\":\"\",\"zerolinecolor\":\"white\",\"gridwidth\":2},\"zaxis\":{\"backgroundcolor\":\"#E5ECF6\",\"gridcolor\":\"white\",\"linecolor\":\"white\",\"showbackground\":true,\"ticks\":\"\",\"zerolinecolor\":\"white\",\"gridwidth\":2}},\"shapedefaults\":{\"line\":{\"color\":\"#2a3f5f\"}},\"annotationdefaults\":{\"arrowcolor\":\"#2a3f5f\",\"arrowhead\":0,\"arrowwidth\":1},\"geo\":{\"bgcolor\":\"white\",\"landcolor\":\"#E5ECF6\",\"subunitcolor\":\"white\",\"showland\":true,\"showlakes\":true,\"lakecolor\":\"white\"},\"title\":{\"x\":0.05},\"mapbox\":{\"style\":\"light\"}}},\"xaxis\":{\"anchor\":\"y\",\"domain\":[0.0,1.0],\"title\":{\"text\":\"ultimo_contacto\"}},\"yaxis\":{\"anchor\":\"x\",\"domain\":[0.0,1.0]},\"legend\":{\"title\":{\"text\":\"adherencia_inversion\"},\"tracegroupgap\":0},\"margin\":{\"t\":60},\"boxmode\":\"group\"},                        {\"responsive\": true}                    ).then(function(){\n",
              "                            \n",
              "var gd = document.getElementById('ddecfca6-9017-4882-a447-21f3a24faba3');\n",
              "var x = new MutationObserver(function (mutations, observer) {{\n",
              "        var display = window.getComputedStyle(gd).display;\n",
              "        if (!display || display === 'none') {{\n",
              "            console.log([gd, 'removed!']);\n",
              "            Plotly.purge(gd);\n",
              "            observer.disconnect();\n",
              "        }}\n",
              "}});\n",
              "\n",
              "// Listen for the removal of the full notebook cells\n",
              "var notebookContainer = gd.closest('#notebook-container');\n",
              "if (notebookContainer) {{\n",
              "    x.observe(notebookContainer, {childList: true});\n",
              "}}\n",
              "\n",
              "// Listen for the clearing of the current output cell\n",
              "var outputEl = gd.closest('.output');\n",
              "if (outputEl) {{\n",
              "    x.observe(outputEl, {childList: true});\n",
              "}}\n",
              "\n",
              "                        })                };                            </script>        </div>\n",
              "</body>\n",
              "</html>"
            ]
          },
          "metadata": {}
        }
      ]
    },
    {
      "cell_type": "code",
      "source": [
        "px.box(datos, x='ct_contactos', color='adherencia_inversion')"
      ],
      "metadata": {
        "id": "ZjAzrJWjBW6m",
        "colab": {
          "base_uri": "https://localhost:8080/",
          "height": 542
        },
        "outputId": "517c1db9-5304-405d-98ca-914ea5c85e65"
      },
      "execution_count": 69,
      "outputs": [
        {
          "output_type": "display_data",
          "data": {
            "text/html": [
              "<html>\n",
              "<head><meta charset=\"utf-8\" /></head>\n",
              "<body>\n",
              "    <div>            <script src=\"https://cdnjs.cloudflare.com/ajax/libs/mathjax/2.7.5/MathJax.js?config=TeX-AMS-MML_SVG\"></script><script type=\"text/javascript\">if (window.MathJax && window.MathJax.Hub && window.MathJax.Hub.Config) {window.MathJax.Hub.Config({SVG: {font: \"STIX-Web\"}});}</script>                <script type=\"text/javascript\">window.PlotlyConfig = {MathJaxConfig: 'local'};</script>\n",
              "        <script charset=\"utf-8\" src=\"https://cdn.plot.ly/plotly-2.35.2.min.js\"></script>                <div id=\"79661281-01ae-4ffd-a8d2-5be0680b2c0c\" class=\"plotly-graph-div\" style=\"height:525px; width:100%;\"></div>            <script type=\"text/javascript\">                                    window.PLOTLYENV=window.PLOTLYENV || {};                                    if (document.getElementById(\"79661281-01ae-4ffd-a8d2-5be0680b2c0c\")) {                    Plotly.newPlot(                        \"79661281-01ae-4ffd-a8d2-5be0680b2c0c\",                        [{\"alignmentgroup\":\"True\",\"hovertemplate\":\"adherencia_inversion=si\\u003cbr\\u003ect_contactos=%{x}\\u003cextra\\u003e\\u003c\\u002fextra\\u003e\",\"legendgroup\":\"si\",\"marker\":{\"color\":\"#636efa\"},\"name\":\"si\",\"notched\":false,\"offsetgroup\":\"si\",\"orientation\":\"h\",\"showlegend\":true,\"x\":[1,4,1,4,1,4,2,1,1,2,7,1,2,1,1,1,7,1,1,2,2,1,5,1,5,1,2,13,1,1,3,1,1,2,1,1,2,5,4,1,1,2,1,7,1,1,2,2,1,6,1,1,1,2,1,3,1,2,2,1,2,2,2,1,4,2,1,1,1,1,1,1,1,1,1,1,1,2,3,1,1,1,6,2,1,1,1,1,1,1,2,1,1,3,1,1,2,1,2,3,2,1,1,4,8,2,1,1,1,3,1,1,1,3,2,1,4,2,1,1,1,2,1,2,1,3,1,2,2,2,1,2,4,4,1,4,2,1,1,3,5,1,1,2,4,2,1,8,1,2,2,1,4,1,1,4,1,3,1,1,1,4,6,1,2,1,1,1,1,2,4,1,1,2,6,3,1,1,1,1,1,2,3,3,3,1,1,2,1,2,2,2,3,1,4,3,2,3,2,6,1,2,3,1,2,3,7,3,2,4,2,1,2,2,3,1,9,1,2,3,3,2,1,1,13,6,2,1,1,1,2,2,1,2,3,1,12,1,2,1,2,4,1,5,2,4,2,4,1,3,3,4,1,6,1,1,2,4,1,2,1,2,2,2,4,6,2,24,3,1,2,2,2,1,1,1,1,1,1,2,1,5,1,2,4,2,4,4,1,1,4,6,1,4,2,1,2,1,1,2,2,7,1,1,2,2,2,2,4,1,1,2,1,1,1,2,1,1,4,4,2,1,2,6,3,1,3,3,5,3,2,1,3,1,2,4,1,2,3,1,8,2,2,1,3,2,3,3,1,4,1,1,4,3,1,1,1,1,1,3,2,4,2,2,1,1,2,1,1,1,2,1,3,1,1,2,2,1,2,2,1,3,1,3,1,1,2,1,6,1,1,1,1,1,3,3,2,2,4,1,5,1,2,6,4,1,6,4,1,3,1,1,2,4,3,3,3,2,1,2,2,1,4,5,1,1,2,2,1,1,2,1,1,1,9,1,2,10,4,2,1,3,6,3,1,1,3,3,1,1,1,2,1,1,2,2,3,1,3,1,1,1,2,8,1,1,1,2,4,1,2,3,1,1,1,2,1,1,1,1,2,1,1,1,7,2,1,1,4,2,2,2,1,2,1,2,3,6,1,2,3,2],\"x0\":\" \",\"xaxis\":\"x\",\"y0\":\" \",\"yaxis\":\"y\",\"type\":\"box\"},{\"alignmentgroup\":\"True\",\"hovertemplate\":\"adherencia_inversion=no\\u003cbr\\u003ect_contactos=%{x}\\u003cextra\\u003e\\u003c\\u002fextra\\u003e\",\"legendgroup\":\"no\",\"marker\":{\"color\":\"#EF553B\"},\"name\":\"no\",\"notched\":false,\"offsetgroup\":\"no\",\"orientation\":\"h\",\"showlegend\":true,\"x\":[18,1,1,2,2,3,5,1,2,2,2,5,1,1,1,1,2,6,2,1,1,1,5,3,3,3,4,1,13,8,1,5,3,2,2,3,1,2,1,4,4,9,2,4,1,3,8,2,5,2,1,2,1,2,2,1,4,12,3,1,3,2,1,1,3,3,2,1,1,2,1,1,2,2,4,3,2,2,2,1,6,2,2,2,4,2,2,1,2,1,2,5,1,3,3,3,8,6,2,4,2,1,1,1,2,2,2,1,1,2,1,1,1,2,3,3,2,3,1,1,1,4,1,1,1,1,1,1,2,2,2,6,1,1,1,1,2,12,17,1,2,1,1,2,2,1,2,3,2,2,2,4,2,1,2,2,2,1,2,1,2,2,1,2,3,2,3,1,2,1,6,2,2,1,4,2,2,1,8,3,14,6,4,2,2,1,5,1,4,1,1,2,6,12,2,2,1,3,10,5,3,4,2,4,2,2,1,1,1,2,3,1,4,2,3,2,1,1,2,6,3,3,1,8,1,5,2,3,1,6,2,1,1,1,5,7,1,1,1,2,2,2,8,2,6,1,1,3,1,1,6,12,2,3,1,2,1,1,1,2,1,2,1,3,1,12,1,2,6,8,2,1,1,2,2,3,4,7,1,2,4,2,3,3,2,3,3,2,1,13,2,1,1,6,2,4,6,1,7,6,3,1,1,13,2,2,2,1,4,1,16,10,3,1,3,2,3,1,6,1,1,1,4,10,2,1,5,1,10,9,1,1,4,4,6,1,2,2,2,1,1,1,2,2,3,7,6,1,1,2,2,1,1,5,2,6,2,4,3,6,11,3,1,2,7,5,2,8,1,1,3,2,1,2,1,2,1,1,1,3,2,8,12,1,1,1,4,1,2,18,3,11,1,2,2,2,2,1,1,1,2,1,2,1,7,2,4,4,11,1,2,2,2,2,1,1,1,1,6,1,3,1,2,1,2,2,1,1,2,1,2,3,1,1,2,1,13,3,2,5,4,2,2,6,2,4,1,17,1,2,4,5,3,3,2,2,1,5,6,2,1,2,2,2,1,1,5,11,1,1,4,1,5,1,3,1,1,2,1,2,1,2,1,1,2,1,4,2,2,1,1,1,2,3,32,6,3,1,6,3,5,2,1,3,3,2,5,6,1,3,3,1,1,3,2,1,2,15,1,2,1,1,1,1,12,3,14,5,1,3,18,2,2,2,1,3,1,3,3,3,1,8,1,2,1,1,1,4,8,1,2,2,5,8,5,1,6,2,2,2,1,6,4,1,3,2,2,1,12,2,7,1,1,3,1,3,1,2,3,4,2,1,3,2,2,7,6,1,5,2,2,8,1,1,1,1,1,2,1,4,4,2,2,6,3,2,1,1,5,2,3,1,6,1,3,5,1,1,2,5,4,3,1,2,1,2,3,6,10,1,3,12,2,3,2,1,1,1,1,1,1,2,1,1,1,1,4,1,3,1,3,2,7,1,2,2,5,2,2,4,1,1,1,16,2,2,1,2,1,3,1,2,2,2,1,3,1,1,1,1,1,6,3,1,1,5,1,1,6,4,2,1,2,2,1,2,2,2,1,1,3,2,7,6,8,6,3,1,3,2,1,3,29,6,1,4,1,7,2,11,11,2,1,1,2,2,1,1,1,2,1,3,2,7,1,3,6,1,2,2,32,1,3,4,4,3,4,3,5,1,4,1,5,1,4,2,1,1,1,4,1,4,1,1,2,2],\"x0\":\" \",\"xaxis\":\"x\",\"y0\":\" \",\"yaxis\":\"y\",\"type\":\"box\"}],                        {\"template\":{\"data\":{\"histogram2dcontour\":[{\"type\":\"histogram2dcontour\",\"colorbar\":{\"outlinewidth\":0,\"ticks\":\"\"},\"colorscale\":[[0.0,\"#0d0887\"],[0.1111111111111111,\"#46039f\"],[0.2222222222222222,\"#7201a8\"],[0.3333333333333333,\"#9c179e\"],[0.4444444444444444,\"#bd3786\"],[0.5555555555555556,\"#d8576b\"],[0.6666666666666666,\"#ed7953\"],[0.7777777777777778,\"#fb9f3a\"],[0.8888888888888888,\"#fdca26\"],[1.0,\"#f0f921\"]]}],\"choropleth\":[{\"type\":\"choropleth\",\"colorbar\":{\"outlinewidth\":0,\"ticks\":\"\"}}],\"histogram2d\":[{\"type\":\"histogram2d\",\"colorbar\":{\"outlinewidth\":0,\"ticks\":\"\"},\"colorscale\":[[0.0,\"#0d0887\"],[0.1111111111111111,\"#46039f\"],[0.2222222222222222,\"#7201a8\"],[0.3333333333333333,\"#9c179e\"],[0.4444444444444444,\"#bd3786\"],[0.5555555555555556,\"#d8576b\"],[0.6666666666666666,\"#ed7953\"],[0.7777777777777778,\"#fb9f3a\"],[0.8888888888888888,\"#fdca26\"],[1.0,\"#f0f921\"]]}],\"heatmap\":[{\"type\":\"heatmap\",\"colorbar\":{\"outlinewidth\":0,\"ticks\":\"\"},\"colorscale\":[[0.0,\"#0d0887\"],[0.1111111111111111,\"#46039f\"],[0.2222222222222222,\"#7201a8\"],[0.3333333333333333,\"#9c179e\"],[0.4444444444444444,\"#bd3786\"],[0.5555555555555556,\"#d8576b\"],[0.6666666666666666,\"#ed7953\"],[0.7777777777777778,\"#fb9f3a\"],[0.8888888888888888,\"#fdca26\"],[1.0,\"#f0f921\"]]}],\"heatmapgl\":[{\"type\":\"heatmapgl\",\"colorbar\":{\"outlinewidth\":0,\"ticks\":\"\"},\"colorscale\":[[0.0,\"#0d0887\"],[0.1111111111111111,\"#46039f\"],[0.2222222222222222,\"#7201a8\"],[0.3333333333333333,\"#9c179e\"],[0.4444444444444444,\"#bd3786\"],[0.5555555555555556,\"#d8576b\"],[0.6666666666666666,\"#ed7953\"],[0.7777777777777778,\"#fb9f3a\"],[0.8888888888888888,\"#fdca26\"],[1.0,\"#f0f921\"]]}],\"contourcarpet\":[{\"type\":\"contourcarpet\",\"colorbar\":{\"outlinewidth\":0,\"ticks\":\"\"}}],\"contour\":[{\"type\":\"contour\",\"colorbar\":{\"outlinewidth\":0,\"ticks\":\"\"},\"colorscale\":[[0.0,\"#0d0887\"],[0.1111111111111111,\"#46039f\"],[0.2222222222222222,\"#7201a8\"],[0.3333333333333333,\"#9c179e\"],[0.4444444444444444,\"#bd3786\"],[0.5555555555555556,\"#d8576b\"],[0.6666666666666666,\"#ed7953\"],[0.7777777777777778,\"#fb9f3a\"],[0.8888888888888888,\"#fdca26\"],[1.0,\"#f0f921\"]]}],\"surface\":[{\"type\":\"surface\",\"colorbar\":{\"outlinewidth\":0,\"ticks\":\"\"},\"colorscale\":[[0.0,\"#0d0887\"],[0.1111111111111111,\"#46039f\"],[0.2222222222222222,\"#7201a8\"],[0.3333333333333333,\"#9c179e\"],[0.4444444444444444,\"#bd3786\"],[0.5555555555555556,\"#d8576b\"],[0.6666666666666666,\"#ed7953\"],[0.7777777777777778,\"#fb9f3a\"],[0.8888888888888888,\"#fdca26\"],[1.0,\"#f0f921\"]]}],\"mesh3d\":[{\"type\":\"mesh3d\",\"colorbar\":{\"outlinewidth\":0,\"ticks\":\"\"}}],\"scatter\":[{\"fillpattern\":{\"fillmode\":\"overlay\",\"size\":10,\"solidity\":0.2},\"type\":\"scatter\"}],\"parcoords\":[{\"type\":\"parcoords\",\"line\":{\"colorbar\":{\"outlinewidth\":0,\"ticks\":\"\"}}}],\"scatterpolargl\":[{\"type\":\"scatterpolargl\",\"marker\":{\"colorbar\":{\"outlinewidth\":0,\"ticks\":\"\"}}}],\"bar\":[{\"error_x\":{\"color\":\"#2a3f5f\"},\"error_y\":{\"color\":\"#2a3f5f\"},\"marker\":{\"line\":{\"color\":\"#E5ECF6\",\"width\":0.5},\"pattern\":{\"fillmode\":\"overlay\",\"size\":10,\"solidity\":0.2}},\"type\":\"bar\"}],\"scattergeo\":[{\"type\":\"scattergeo\",\"marker\":{\"colorbar\":{\"outlinewidth\":0,\"ticks\":\"\"}}}],\"scatterpolar\":[{\"type\":\"scatterpolar\",\"marker\":{\"colorbar\":{\"outlinewidth\":0,\"ticks\":\"\"}}}],\"histogram\":[{\"marker\":{\"pattern\":{\"fillmode\":\"overlay\",\"size\":10,\"solidity\":0.2}},\"type\":\"histogram\"}],\"scattergl\":[{\"type\":\"scattergl\",\"marker\":{\"colorbar\":{\"outlinewidth\":0,\"ticks\":\"\"}}}],\"scatter3d\":[{\"type\":\"scatter3d\",\"line\":{\"colorbar\":{\"outlinewidth\":0,\"ticks\":\"\"}},\"marker\":{\"colorbar\":{\"outlinewidth\":0,\"ticks\":\"\"}}}],\"scattermapbox\":[{\"type\":\"scattermapbox\",\"marker\":{\"colorbar\":{\"outlinewidth\":0,\"ticks\":\"\"}}}],\"scatterternary\":[{\"type\":\"scatterternary\",\"marker\":{\"colorbar\":{\"outlinewidth\":0,\"ticks\":\"\"}}}],\"scattercarpet\":[{\"type\":\"scattercarpet\",\"marker\":{\"colorbar\":{\"outlinewidth\":0,\"ticks\":\"\"}}}],\"carpet\":[{\"aaxis\":{\"endlinecolor\":\"#2a3f5f\",\"gridcolor\":\"white\",\"linecolor\":\"white\",\"minorgridcolor\":\"white\",\"startlinecolor\":\"#2a3f5f\"},\"baxis\":{\"endlinecolor\":\"#2a3f5f\",\"gridcolor\":\"white\",\"linecolor\":\"white\",\"minorgridcolor\":\"white\",\"startlinecolor\":\"#2a3f5f\"},\"type\":\"carpet\"}],\"table\":[{\"cells\":{\"fill\":{\"color\":\"#EBF0F8\"},\"line\":{\"color\":\"white\"}},\"header\":{\"fill\":{\"color\":\"#C8D4E3\"},\"line\":{\"color\":\"white\"}},\"type\":\"table\"}],\"barpolar\":[{\"marker\":{\"line\":{\"color\":\"#E5ECF6\",\"width\":0.5},\"pattern\":{\"fillmode\":\"overlay\",\"size\":10,\"solidity\":0.2}},\"type\":\"barpolar\"}],\"pie\":[{\"automargin\":true,\"type\":\"pie\"}]},\"layout\":{\"autotypenumbers\":\"strict\",\"colorway\":[\"#636efa\",\"#EF553B\",\"#00cc96\",\"#ab63fa\",\"#FFA15A\",\"#19d3f3\",\"#FF6692\",\"#B6E880\",\"#FF97FF\",\"#FECB52\"],\"font\":{\"color\":\"#2a3f5f\"},\"hovermode\":\"closest\",\"hoverlabel\":{\"align\":\"left\"},\"paper_bgcolor\":\"white\",\"plot_bgcolor\":\"#E5ECF6\",\"polar\":{\"bgcolor\":\"#E5ECF6\",\"angularaxis\":{\"gridcolor\":\"white\",\"linecolor\":\"white\",\"ticks\":\"\"},\"radialaxis\":{\"gridcolor\":\"white\",\"linecolor\":\"white\",\"ticks\":\"\"}},\"ternary\":{\"bgcolor\":\"#E5ECF6\",\"aaxis\":{\"gridcolor\":\"white\",\"linecolor\":\"white\",\"ticks\":\"\"},\"baxis\":{\"gridcolor\":\"white\",\"linecolor\":\"white\",\"ticks\":\"\"},\"caxis\":{\"gridcolor\":\"white\",\"linecolor\":\"white\",\"ticks\":\"\"}},\"coloraxis\":{\"colorbar\":{\"outlinewidth\":0,\"ticks\":\"\"}},\"colorscale\":{\"sequential\":[[0.0,\"#0d0887\"],[0.1111111111111111,\"#46039f\"],[0.2222222222222222,\"#7201a8\"],[0.3333333333333333,\"#9c179e\"],[0.4444444444444444,\"#bd3786\"],[0.5555555555555556,\"#d8576b\"],[0.6666666666666666,\"#ed7953\"],[0.7777777777777778,\"#fb9f3a\"],[0.8888888888888888,\"#fdca26\"],[1.0,\"#f0f921\"]],\"sequentialminus\":[[0.0,\"#0d0887\"],[0.1111111111111111,\"#46039f\"],[0.2222222222222222,\"#7201a8\"],[0.3333333333333333,\"#9c179e\"],[0.4444444444444444,\"#bd3786\"],[0.5555555555555556,\"#d8576b\"],[0.6666666666666666,\"#ed7953\"],[0.7777777777777778,\"#fb9f3a\"],[0.8888888888888888,\"#fdca26\"],[1.0,\"#f0f921\"]],\"diverging\":[[0,\"#8e0152\"],[0.1,\"#c51b7d\"],[0.2,\"#de77ae\"],[0.3,\"#f1b6da\"],[0.4,\"#fde0ef\"],[0.5,\"#f7f7f7\"],[0.6,\"#e6f5d0\"],[0.7,\"#b8e186\"],[0.8,\"#7fbc41\"],[0.9,\"#4d9221\"],[1,\"#276419\"]]},\"xaxis\":{\"gridcolor\":\"white\",\"linecolor\":\"white\",\"ticks\":\"\",\"title\":{\"standoff\":15},\"zerolinecolor\":\"white\",\"automargin\":true,\"zerolinewidth\":2},\"yaxis\":{\"gridcolor\":\"white\",\"linecolor\":\"white\",\"ticks\":\"\",\"title\":{\"standoff\":15},\"zerolinecolor\":\"white\",\"automargin\":true,\"zerolinewidth\":2},\"scene\":{\"xaxis\":{\"backgroundcolor\":\"#E5ECF6\",\"gridcolor\":\"white\",\"linecolor\":\"white\",\"showbackground\":true,\"ticks\":\"\",\"zerolinecolor\":\"white\",\"gridwidth\":2},\"yaxis\":{\"backgroundcolor\":\"#E5ECF6\",\"gridcolor\":\"white\",\"linecolor\":\"white\",\"showbackground\":true,\"ticks\":\"\",\"zerolinecolor\":\"white\",\"gridwidth\":2},\"zaxis\":{\"backgroundcolor\":\"#E5ECF6\",\"gridcolor\":\"white\",\"linecolor\":\"white\",\"showbackground\":true,\"ticks\":\"\",\"zerolinecolor\":\"white\",\"gridwidth\":2}},\"shapedefaults\":{\"line\":{\"color\":\"#2a3f5f\"}},\"annotationdefaults\":{\"arrowcolor\":\"#2a3f5f\",\"arrowhead\":0,\"arrowwidth\":1},\"geo\":{\"bgcolor\":\"white\",\"landcolor\":\"#E5ECF6\",\"subunitcolor\":\"white\",\"showland\":true,\"showlakes\":true,\"lakecolor\":\"white\"},\"title\":{\"x\":0.05},\"mapbox\":{\"style\":\"light\"}}},\"xaxis\":{\"anchor\":\"y\",\"domain\":[0.0,1.0],\"title\":{\"text\":\"ct_contactos\"}},\"yaxis\":{\"anchor\":\"x\",\"domain\":[0.0,1.0]},\"legend\":{\"title\":{\"text\":\"adherencia_inversion\"},\"tracegroupgap\":0},\"margin\":{\"t\":60},\"boxmode\":\"group\"},                        {\"responsive\": true}                    ).then(function(){\n",
              "                            \n",
              "var gd = document.getElementById('79661281-01ae-4ffd-a8d2-5be0680b2c0c');\n",
              "var x = new MutationObserver(function (mutations, observer) {{\n",
              "        var display = window.getComputedStyle(gd).display;\n",
              "        if (!display || display === 'none') {{\n",
              "            console.log([gd, 'removed!']);\n",
              "            Plotly.purge(gd);\n",
              "            observer.disconnect();\n",
              "        }}\n",
              "}});\n",
              "\n",
              "// Listen for the removal of the full notebook cells\n",
              "var notebookContainer = gd.closest('#notebook-container');\n",
              "if (notebookContainer) {{\n",
              "    x.observe(notebookContainer, {childList: true});\n",
              "}}\n",
              "\n",
              "// Listen for the clearing of the current output cell\n",
              "var outputEl = gd.closest('.output');\n",
              "if (outputEl) {{\n",
              "    x.observe(outputEl, {childList: true});\n",
              "}}\n",
              "\n",
              "                        })                };                            </script>        </div>\n",
              "</body>\n",
              "</html>"
            ]
          },
          "metadata": {}
        }
      ]
    },
    {
      "cell_type": "markdown",
      "source": [
        "# 2. Tranformación de los datos"
      ],
      "metadata": {
        "id": "NGNspq7WoGrH"
      }
    },
    {
      "cell_type": "markdown",
      "source": [
        "## Variables explicativas y variable de respuesta"
      ],
      "metadata": {
        "id": "EZIgFOVLmg5v"
      }
    },
    {
      "cell_type": "markdown",
      "source": [
        "Para realizar la predicción de los valores con un modelo de aprendizaje automático, necesitamos separar la variable objetivo de las variables explicativas. La variable **y** representa lo que queremos predecir, mientras que **x** incluye todas las variables que se utilizarán para explicar el comportamiento de **y**."
      ],
      "metadata": {
        "id": "Ji18mcM3In44"
      }
    },
    {
      "cell_type": "code",
      "source": [
        "datos"
      ],
      "metadata": {
        "id": "cAo4uhHRA9Jb",
        "colab": {
          "base_uri": "https://localhost:8080/",
          "height": 424
        },
        "outputId": "008916e7-c5f3-42a3-bb8f-2249b3d4aa27"
      },
      "execution_count": 70,
      "outputs": [
        {
          "output_type": "execute_result",
          "data": {
            "text/plain": [
              "      edad    estado_civil escolaridad default  saldo prestatario  \\\n",
              "0       45      casado (a)    superior      no    242          no   \n",
              "1       42      casado (a)  secundaria      no   1289          no   \n",
              "2       23     soltero (a)    superior      no    363          no   \n",
              "3       58  divorciado (a)    superior      no   1382          no   \n",
              "4       50      casado (a)  secundaria      no   3357          no   \n",
              "...    ...             ...         ...     ...    ...         ...   \n",
              "1263    52     soltero (a)    superior      no     83          no   \n",
              "1264    35     soltero (a)    superior      no   5958          no   \n",
              "1265    30     soltero (a)    superior      no   -477          si   \n",
              "1266    42      casado (a)    superior      no   2187          no   \n",
              "1267    29     soltero (a)    superior      no     19          no   \n",
              "\n",
              "      ultimo_contacto  ct_contactos adherencia_inversion  \n",
              "0                 587             1                   si  \n",
              "1                 250             4                   si  \n",
              "2                  16            18                   no  \n",
              "3                 700             1                   si  \n",
              "4                 239             4                   si  \n",
              "...               ...           ...                  ...  \n",
              "1263             1223             6                   si  \n",
              "1264              215             1                   si  \n",
              "1265             1532             2                   si  \n",
              "1266              525             3                   si  \n",
              "1267              110             2                   si  \n",
              "\n",
              "[1268 rows x 9 columns]"
            ],
            "text/html": [
              "\n",
              "  <div id=\"df-71ba516d-9678-41d4-803c-2b7ba6c942c2\" class=\"colab-df-container\">\n",
              "    <div>\n",
              "<style scoped>\n",
              "    .dataframe tbody tr th:only-of-type {\n",
              "        vertical-align: middle;\n",
              "    }\n",
              "\n",
              "    .dataframe tbody tr th {\n",
              "        vertical-align: top;\n",
              "    }\n",
              "\n",
              "    .dataframe thead th {\n",
              "        text-align: right;\n",
              "    }\n",
              "</style>\n",
              "<table border=\"1\" class=\"dataframe\">\n",
              "  <thead>\n",
              "    <tr style=\"text-align: right;\">\n",
              "      <th></th>\n",
              "      <th>edad</th>\n",
              "      <th>estado_civil</th>\n",
              "      <th>escolaridad</th>\n",
              "      <th>default</th>\n",
              "      <th>saldo</th>\n",
              "      <th>prestatario</th>\n",
              "      <th>ultimo_contacto</th>\n",
              "      <th>ct_contactos</th>\n",
              "      <th>adherencia_inversion</th>\n",
              "    </tr>\n",
              "  </thead>\n",
              "  <tbody>\n",
              "    <tr>\n",
              "      <th>0</th>\n",
              "      <td>45</td>\n",
              "      <td>casado (a)</td>\n",
              "      <td>superior</td>\n",
              "      <td>no</td>\n",
              "      <td>242</td>\n",
              "      <td>no</td>\n",
              "      <td>587</td>\n",
              "      <td>1</td>\n",
              "      <td>si</td>\n",
              "    </tr>\n",
              "    <tr>\n",
              "      <th>1</th>\n",
              "      <td>42</td>\n",
              "      <td>casado (a)</td>\n",
              "      <td>secundaria</td>\n",
              "      <td>no</td>\n",
              "      <td>1289</td>\n",
              "      <td>no</td>\n",
              "      <td>250</td>\n",
              "      <td>4</td>\n",
              "      <td>si</td>\n",
              "    </tr>\n",
              "    <tr>\n",
              "      <th>2</th>\n",
              "      <td>23</td>\n",
              "      <td>soltero (a)</td>\n",
              "      <td>superior</td>\n",
              "      <td>no</td>\n",
              "      <td>363</td>\n",
              "      <td>no</td>\n",
              "      <td>16</td>\n",
              "      <td>18</td>\n",
              "      <td>no</td>\n",
              "    </tr>\n",
              "    <tr>\n",
              "      <th>3</th>\n",
              "      <td>58</td>\n",
              "      <td>divorciado (a)</td>\n",
              "      <td>superior</td>\n",
              "      <td>no</td>\n",
              "      <td>1382</td>\n",
              "      <td>no</td>\n",
              "      <td>700</td>\n",
              "      <td>1</td>\n",
              "      <td>si</td>\n",
              "    </tr>\n",
              "    <tr>\n",
              "      <th>4</th>\n",
              "      <td>50</td>\n",
              "      <td>casado (a)</td>\n",
              "      <td>secundaria</td>\n",
              "      <td>no</td>\n",
              "      <td>3357</td>\n",
              "      <td>no</td>\n",
              "      <td>239</td>\n",
              "      <td>4</td>\n",
              "      <td>si</td>\n",
              "    </tr>\n",
              "    <tr>\n",
              "      <th>...</th>\n",
              "      <td>...</td>\n",
              "      <td>...</td>\n",
              "      <td>...</td>\n",
              "      <td>...</td>\n",
              "      <td>...</td>\n",
              "      <td>...</td>\n",
              "      <td>...</td>\n",
              "      <td>...</td>\n",
              "      <td>...</td>\n",
              "    </tr>\n",
              "    <tr>\n",
              "      <th>1263</th>\n",
              "      <td>52</td>\n",
              "      <td>soltero (a)</td>\n",
              "      <td>superior</td>\n",
              "      <td>no</td>\n",
              "      <td>83</td>\n",
              "      <td>no</td>\n",
              "      <td>1223</td>\n",
              "      <td>6</td>\n",
              "      <td>si</td>\n",
              "    </tr>\n",
              "    <tr>\n",
              "      <th>1264</th>\n",
              "      <td>35</td>\n",
              "      <td>soltero (a)</td>\n",
              "      <td>superior</td>\n",
              "      <td>no</td>\n",
              "      <td>5958</td>\n",
              "      <td>no</td>\n",
              "      <td>215</td>\n",
              "      <td>1</td>\n",
              "      <td>si</td>\n",
              "    </tr>\n",
              "    <tr>\n",
              "      <th>1265</th>\n",
              "      <td>30</td>\n",
              "      <td>soltero (a)</td>\n",
              "      <td>superior</td>\n",
              "      <td>no</td>\n",
              "      <td>-477</td>\n",
              "      <td>si</td>\n",
              "      <td>1532</td>\n",
              "      <td>2</td>\n",
              "      <td>si</td>\n",
              "    </tr>\n",
              "    <tr>\n",
              "      <th>1266</th>\n",
              "      <td>42</td>\n",
              "      <td>casado (a)</td>\n",
              "      <td>superior</td>\n",
              "      <td>no</td>\n",
              "      <td>2187</td>\n",
              "      <td>no</td>\n",
              "      <td>525</td>\n",
              "      <td>3</td>\n",
              "      <td>si</td>\n",
              "    </tr>\n",
              "    <tr>\n",
              "      <th>1267</th>\n",
              "      <td>29</td>\n",
              "      <td>soltero (a)</td>\n",
              "      <td>superior</td>\n",
              "      <td>no</td>\n",
              "      <td>19</td>\n",
              "      <td>no</td>\n",
              "      <td>110</td>\n",
              "      <td>2</td>\n",
              "      <td>si</td>\n",
              "    </tr>\n",
              "  </tbody>\n",
              "</table>\n",
              "<p>1268 rows × 9 columns</p>\n",
              "</div>\n",
              "    <div class=\"colab-df-buttons\">\n",
              "\n",
              "  <div class=\"colab-df-container\">\n",
              "    <button class=\"colab-df-convert\" onclick=\"convertToInteractive('df-71ba516d-9678-41d4-803c-2b7ba6c942c2')\"\n",
              "            title=\"Convert this dataframe to an interactive table.\"\n",
              "            style=\"display:none;\">\n",
              "\n",
              "  <svg xmlns=\"http://www.w3.org/2000/svg\" height=\"24px\" viewBox=\"0 -960 960 960\">\n",
              "    <path d=\"M120-120v-720h720v720H120Zm60-500h600v-160H180v160Zm220 220h160v-160H400v160Zm0 220h160v-160H400v160ZM180-400h160v-160H180v160Zm440 0h160v-160H620v160ZM180-180h160v-160H180v160Zm440 0h160v-160H620v160Z\"/>\n",
              "  </svg>\n",
              "    </button>\n",
              "\n",
              "  <style>\n",
              "    .colab-df-container {\n",
              "      display:flex;\n",
              "      gap: 12px;\n",
              "    }\n",
              "\n",
              "    .colab-df-convert {\n",
              "      background-color: #E8F0FE;\n",
              "      border: none;\n",
              "      border-radius: 50%;\n",
              "      cursor: pointer;\n",
              "      display: none;\n",
              "      fill: #1967D2;\n",
              "      height: 32px;\n",
              "      padding: 0 0 0 0;\n",
              "      width: 32px;\n",
              "    }\n",
              "\n",
              "    .colab-df-convert:hover {\n",
              "      background-color: #E2EBFA;\n",
              "      box-shadow: 0px 1px 2px rgba(60, 64, 67, 0.3), 0px 1px 3px 1px rgba(60, 64, 67, 0.15);\n",
              "      fill: #174EA6;\n",
              "    }\n",
              "\n",
              "    .colab-df-buttons div {\n",
              "      margin-bottom: 4px;\n",
              "    }\n",
              "\n",
              "    [theme=dark] .colab-df-convert {\n",
              "      background-color: #3B4455;\n",
              "      fill: #D2E3FC;\n",
              "    }\n",
              "\n",
              "    [theme=dark] .colab-df-convert:hover {\n",
              "      background-color: #434B5C;\n",
              "      box-shadow: 0px 1px 3px 1px rgba(0, 0, 0, 0.15);\n",
              "      filter: drop-shadow(0px 1px 2px rgba(0, 0, 0, 0.3));\n",
              "      fill: #FFFFFF;\n",
              "    }\n",
              "  </style>\n",
              "\n",
              "    <script>\n",
              "      const buttonEl =\n",
              "        document.querySelector('#df-71ba516d-9678-41d4-803c-2b7ba6c942c2 button.colab-df-convert');\n",
              "      buttonEl.style.display =\n",
              "        google.colab.kernel.accessAllowed ? 'block' : 'none';\n",
              "\n",
              "      async function convertToInteractive(key) {\n",
              "        const element = document.querySelector('#df-71ba516d-9678-41d4-803c-2b7ba6c942c2');\n",
              "        const dataTable =\n",
              "          await google.colab.kernel.invokeFunction('convertToInteractive',\n",
              "                                                    [key], {});\n",
              "        if (!dataTable) return;\n",
              "\n",
              "        const docLinkHtml = 'Like what you see? Visit the ' +\n",
              "          '<a target=\"_blank\" href=https://colab.research.google.com/notebooks/data_table.ipynb>data table notebook</a>'\n",
              "          + ' to learn more about interactive tables.';\n",
              "        element.innerHTML = '';\n",
              "        dataTable['output_type'] = 'display_data';\n",
              "        await google.colab.output.renderOutput(dataTable, element);\n",
              "        const docLink = document.createElement('div');\n",
              "        docLink.innerHTML = docLinkHtml;\n",
              "        element.appendChild(docLink);\n",
              "      }\n",
              "    </script>\n",
              "  </div>\n",
              "\n",
              "\n",
              "    <div id=\"df-19fd74cc-a5de-4d82-a53a-f628f6394f15\">\n",
              "      <button class=\"colab-df-quickchart\" onclick=\"quickchart('df-19fd74cc-a5de-4d82-a53a-f628f6394f15')\"\n",
              "                title=\"Suggest charts\"\n",
              "                style=\"display:none;\">\n",
              "\n",
              "<svg xmlns=\"http://www.w3.org/2000/svg\" height=\"24px\"viewBox=\"0 0 24 24\"\n",
              "     width=\"24px\">\n",
              "    <g>\n",
              "        <path d=\"M19 3H5c-1.1 0-2 .9-2 2v14c0 1.1.9 2 2 2h14c1.1 0 2-.9 2-2V5c0-1.1-.9-2-2-2zM9 17H7v-7h2v7zm4 0h-2V7h2v10zm4 0h-2v-4h2v4z\"/>\n",
              "    </g>\n",
              "</svg>\n",
              "      </button>\n",
              "\n",
              "<style>\n",
              "  .colab-df-quickchart {\n",
              "      --bg-color: #E8F0FE;\n",
              "      --fill-color: #1967D2;\n",
              "      --hover-bg-color: #E2EBFA;\n",
              "      --hover-fill-color: #174EA6;\n",
              "      --disabled-fill-color: #AAA;\n",
              "      --disabled-bg-color: #DDD;\n",
              "  }\n",
              "\n",
              "  [theme=dark] .colab-df-quickchart {\n",
              "      --bg-color: #3B4455;\n",
              "      --fill-color: #D2E3FC;\n",
              "      --hover-bg-color: #434B5C;\n",
              "      --hover-fill-color: #FFFFFF;\n",
              "      --disabled-bg-color: #3B4455;\n",
              "      --disabled-fill-color: #666;\n",
              "  }\n",
              "\n",
              "  .colab-df-quickchart {\n",
              "    background-color: var(--bg-color);\n",
              "    border: none;\n",
              "    border-radius: 50%;\n",
              "    cursor: pointer;\n",
              "    display: none;\n",
              "    fill: var(--fill-color);\n",
              "    height: 32px;\n",
              "    padding: 0;\n",
              "    width: 32px;\n",
              "  }\n",
              "\n",
              "  .colab-df-quickchart:hover {\n",
              "    background-color: var(--hover-bg-color);\n",
              "    box-shadow: 0 1px 2px rgba(60, 64, 67, 0.3), 0 1px 3px 1px rgba(60, 64, 67, 0.15);\n",
              "    fill: var(--button-hover-fill-color);\n",
              "  }\n",
              "\n",
              "  .colab-df-quickchart-complete:disabled,\n",
              "  .colab-df-quickchart-complete:disabled:hover {\n",
              "    background-color: var(--disabled-bg-color);\n",
              "    fill: var(--disabled-fill-color);\n",
              "    box-shadow: none;\n",
              "  }\n",
              "\n",
              "  .colab-df-spinner {\n",
              "    border: 2px solid var(--fill-color);\n",
              "    border-color: transparent;\n",
              "    border-bottom-color: var(--fill-color);\n",
              "    animation:\n",
              "      spin 1s steps(1) infinite;\n",
              "  }\n",
              "\n",
              "  @keyframes spin {\n",
              "    0% {\n",
              "      border-color: transparent;\n",
              "      border-bottom-color: var(--fill-color);\n",
              "      border-left-color: var(--fill-color);\n",
              "    }\n",
              "    20% {\n",
              "      border-color: transparent;\n",
              "      border-left-color: var(--fill-color);\n",
              "      border-top-color: var(--fill-color);\n",
              "    }\n",
              "    30% {\n",
              "      border-color: transparent;\n",
              "      border-left-color: var(--fill-color);\n",
              "      border-top-color: var(--fill-color);\n",
              "      border-right-color: var(--fill-color);\n",
              "    }\n",
              "    40% {\n",
              "      border-color: transparent;\n",
              "      border-right-color: var(--fill-color);\n",
              "      border-top-color: var(--fill-color);\n",
              "    }\n",
              "    60% {\n",
              "      border-color: transparent;\n",
              "      border-right-color: var(--fill-color);\n",
              "    }\n",
              "    80% {\n",
              "      border-color: transparent;\n",
              "      border-right-color: var(--fill-color);\n",
              "      border-bottom-color: var(--fill-color);\n",
              "    }\n",
              "    90% {\n",
              "      border-color: transparent;\n",
              "      border-bottom-color: var(--fill-color);\n",
              "    }\n",
              "  }\n",
              "</style>\n",
              "\n",
              "      <script>\n",
              "        async function quickchart(key) {\n",
              "          const quickchartButtonEl =\n",
              "            document.querySelector('#' + key + ' button');\n",
              "          quickchartButtonEl.disabled = true;  // To prevent multiple clicks.\n",
              "          quickchartButtonEl.classList.add('colab-df-spinner');\n",
              "          try {\n",
              "            const charts = await google.colab.kernel.invokeFunction(\n",
              "                'suggestCharts', [key], {});\n",
              "          } catch (error) {\n",
              "            console.error('Error during call to suggestCharts:', error);\n",
              "          }\n",
              "          quickchartButtonEl.classList.remove('colab-df-spinner');\n",
              "          quickchartButtonEl.classList.add('colab-df-quickchart-complete');\n",
              "        }\n",
              "        (() => {\n",
              "          let quickchartButtonEl =\n",
              "            document.querySelector('#df-19fd74cc-a5de-4d82-a53a-f628f6394f15 button');\n",
              "          quickchartButtonEl.style.display =\n",
              "            google.colab.kernel.accessAllowed ? 'block' : 'none';\n",
              "        })();\n",
              "      </script>\n",
              "    </div>\n",
              "\n",
              "  <div id=\"id_e3b56636-ad2c-48f8-bc57-340d9ac82ee3\">\n",
              "    <style>\n",
              "      .colab-df-generate {\n",
              "        background-color: #E8F0FE;\n",
              "        border: none;\n",
              "        border-radius: 50%;\n",
              "        cursor: pointer;\n",
              "        display: none;\n",
              "        fill: #1967D2;\n",
              "        height: 32px;\n",
              "        padding: 0 0 0 0;\n",
              "        width: 32px;\n",
              "      }\n",
              "\n",
              "      .colab-df-generate:hover {\n",
              "        background-color: #E2EBFA;\n",
              "        box-shadow: 0px 1px 2px rgba(60, 64, 67, 0.3), 0px 1px 3px 1px rgba(60, 64, 67, 0.15);\n",
              "        fill: #174EA6;\n",
              "      }\n",
              "\n",
              "      [theme=dark] .colab-df-generate {\n",
              "        background-color: #3B4455;\n",
              "        fill: #D2E3FC;\n",
              "      }\n",
              "\n",
              "      [theme=dark] .colab-df-generate:hover {\n",
              "        background-color: #434B5C;\n",
              "        box-shadow: 0px 1px 3px 1px rgba(0, 0, 0, 0.15);\n",
              "        filter: drop-shadow(0px 1px 2px rgba(0, 0, 0, 0.3));\n",
              "        fill: #FFFFFF;\n",
              "      }\n",
              "    </style>\n",
              "    <button class=\"colab-df-generate\" onclick=\"generateWithVariable('datos')\"\n",
              "            title=\"Generate code using this dataframe.\"\n",
              "            style=\"display:none;\">\n",
              "\n",
              "  <svg xmlns=\"http://www.w3.org/2000/svg\" height=\"24px\"viewBox=\"0 0 24 24\"\n",
              "       width=\"24px\">\n",
              "    <path d=\"M7,19H8.4L18.45,9,17,7.55,7,17.6ZM5,21V16.75L18.45,3.32a2,2,0,0,1,2.83,0l1.4,1.43a1.91,1.91,0,0,1,.58,1.4,1.91,1.91,0,0,1-.58,1.4L9.25,21ZM18.45,9,17,7.55Zm-12,3A5.31,5.31,0,0,0,4.9,8.1,5.31,5.31,0,0,0,1,6.5,5.31,5.31,0,0,0,4.9,4.9,5.31,5.31,0,0,0,6.5,1,5.31,5.31,0,0,0,8.1,4.9,5.31,5.31,0,0,0,12,6.5,5.46,5.46,0,0,0,6.5,12Z\"/>\n",
              "  </svg>\n",
              "    </button>\n",
              "    <script>\n",
              "      (() => {\n",
              "      const buttonEl =\n",
              "        document.querySelector('#id_e3b56636-ad2c-48f8-bc57-340d9ac82ee3 button.colab-df-generate');\n",
              "      buttonEl.style.display =\n",
              "        google.colab.kernel.accessAllowed ? 'block' : 'none';\n",
              "\n",
              "      buttonEl.onclick = () => {\n",
              "        google.colab.notebook.generateWithVariable('datos');\n",
              "      }\n",
              "      })();\n",
              "    </script>\n",
              "  </div>\n",
              "\n",
              "    </div>\n",
              "  </div>\n"
            ],
            "application/vnd.google.colaboratory.intrinsic+json": {
              "type": "dataframe",
              "variable_name": "datos",
              "summary": "{\n  \"name\": \"datos\",\n  \"rows\": 1268,\n  \"fields\": [\n    {\n      \"column\": \"edad\",\n      \"properties\": {\n        \"dtype\": \"number\",\n        \"std\": 11,\n        \"min\": 19,\n        \"max\": 87,\n        \"num_unique_values\": 64,\n        \"samples\": [\n          70,\n          77,\n          45\n        ],\n        \"semantic_type\": \"\",\n        \"description\": \"\"\n      }\n    },\n    {\n      \"column\": \"estado_civil\",\n      \"properties\": {\n        \"dtype\": \"category\",\n        \"num_unique_values\": 3,\n        \"samples\": [\n          \"casado (a)\",\n          \"soltero (a)\",\n          \"divorciado (a)\"\n        ],\n        \"semantic_type\": \"\",\n        \"description\": \"\"\n      }\n    },\n    {\n      \"column\": \"escolaridad\",\n      \"properties\": {\n        \"dtype\": \"category\",\n        \"num_unique_values\": 3,\n        \"samples\": [\n          \"superior\",\n          \"secundaria\",\n          \"primaria\"\n        ],\n        \"semantic_type\": \"\",\n        \"description\": \"\"\n      }\n    },\n    {\n      \"column\": \"default\",\n      \"properties\": {\n        \"dtype\": \"category\",\n        \"num_unique_values\": 2,\n        \"samples\": [\n          \"si\",\n          \"no\"\n        ],\n        \"semantic_type\": \"\",\n        \"description\": \"\"\n      }\n    },\n    {\n      \"column\": \"saldo\",\n      \"properties\": {\n        \"dtype\": \"number\",\n        \"std\": 2690,\n        \"min\": -1206,\n        \"max\": 27069,\n        \"num_unique_values\": 946,\n        \"samples\": [\n          1148,\n          -247\n        ],\n        \"semantic_type\": \"\",\n        \"description\": \"\"\n      }\n    },\n    {\n      \"column\": \"prestatario\",\n      \"properties\": {\n        \"dtype\": \"category\",\n        \"num_unique_values\": 2,\n        \"samples\": [\n          \"si\",\n          \"no\"\n        ],\n        \"semantic_type\": \"\",\n        \"description\": \"\"\n      }\n    },\n    {\n      \"column\": \"ultimo_contacto\",\n      \"properties\": {\n        \"dtype\": \"number\",\n        \"std\": 347,\n        \"min\": 5,\n        \"max\": 3025,\n        \"num_unique_values\": 646,\n        \"samples\": [\n          1006,\n          1060\n        ],\n        \"semantic_type\": \"\",\n        \"description\": \"\"\n      }\n    },\n    {\n      \"column\": \"ct_contactos\",\n      \"properties\": {\n        \"dtype\": \"number\",\n        \"std\": 2,\n        \"min\": 1,\n        \"max\": 32,\n        \"num_unique_values\": 21,\n        \"samples\": [\n          1,\n          24\n        ],\n        \"semantic_type\": \"\",\n        \"description\": \"\"\n      }\n    },\n    {\n      \"column\": \"adherencia_inversion\",\n      \"properties\": {\n        \"dtype\": \"category\",\n        \"num_unique_values\": 2,\n        \"samples\": [\n          \"no\",\n          \"si\"\n        ],\n        \"semantic_type\": \"\",\n        \"description\": \"\"\n      }\n    }\n  ]\n}"
            }
          },
          "metadata": {},
          "execution_count": 70
        }
      ]
    },
    {
      "cell_type": "code",
      "source": [
        "X = datos.drop('adherencia_inversion', axis=1)\n",
        "y = datos['adherencia_inversion']"
      ],
      "metadata": {
        "id": "hRAqFK0NA845"
      },
      "execution_count": 71,
      "outputs": []
    },
    {
      "cell_type": "code",
      "source": [
        "X"
      ],
      "metadata": {
        "id": "it_i0dxpA82F",
        "colab": {
          "base_uri": "https://localhost:8080/",
          "height": 424
        },
        "outputId": "95654a01-dd39-4218-9400-09b4b7654281"
      },
      "execution_count": 72,
      "outputs": [
        {
          "output_type": "execute_result",
          "data": {
            "text/plain": [
              "      edad    estado_civil escolaridad default  saldo prestatario  \\\n",
              "0       45      casado (a)    superior      no    242          no   \n",
              "1       42      casado (a)  secundaria      no   1289          no   \n",
              "2       23     soltero (a)    superior      no    363          no   \n",
              "3       58  divorciado (a)    superior      no   1382          no   \n",
              "4       50      casado (a)  secundaria      no   3357          no   \n",
              "...    ...             ...         ...     ...    ...         ...   \n",
              "1263    52     soltero (a)    superior      no     83          no   \n",
              "1264    35     soltero (a)    superior      no   5958          no   \n",
              "1265    30     soltero (a)    superior      no   -477          si   \n",
              "1266    42      casado (a)    superior      no   2187          no   \n",
              "1267    29     soltero (a)    superior      no     19          no   \n",
              "\n",
              "      ultimo_contacto  ct_contactos  \n",
              "0                 587             1  \n",
              "1                 250             4  \n",
              "2                  16            18  \n",
              "3                 700             1  \n",
              "4                 239             4  \n",
              "...               ...           ...  \n",
              "1263             1223             6  \n",
              "1264              215             1  \n",
              "1265             1532             2  \n",
              "1266              525             3  \n",
              "1267              110             2  \n",
              "\n",
              "[1268 rows x 8 columns]"
            ],
            "text/html": [
              "\n",
              "  <div id=\"df-3a57bb35-3aa7-4850-b07c-b4bec5475d1e\" class=\"colab-df-container\">\n",
              "    <div>\n",
              "<style scoped>\n",
              "    .dataframe tbody tr th:only-of-type {\n",
              "        vertical-align: middle;\n",
              "    }\n",
              "\n",
              "    .dataframe tbody tr th {\n",
              "        vertical-align: top;\n",
              "    }\n",
              "\n",
              "    .dataframe thead th {\n",
              "        text-align: right;\n",
              "    }\n",
              "</style>\n",
              "<table border=\"1\" class=\"dataframe\">\n",
              "  <thead>\n",
              "    <tr style=\"text-align: right;\">\n",
              "      <th></th>\n",
              "      <th>edad</th>\n",
              "      <th>estado_civil</th>\n",
              "      <th>escolaridad</th>\n",
              "      <th>default</th>\n",
              "      <th>saldo</th>\n",
              "      <th>prestatario</th>\n",
              "      <th>ultimo_contacto</th>\n",
              "      <th>ct_contactos</th>\n",
              "    </tr>\n",
              "  </thead>\n",
              "  <tbody>\n",
              "    <tr>\n",
              "      <th>0</th>\n",
              "      <td>45</td>\n",
              "      <td>casado (a)</td>\n",
              "      <td>superior</td>\n",
              "      <td>no</td>\n",
              "      <td>242</td>\n",
              "      <td>no</td>\n",
              "      <td>587</td>\n",
              "      <td>1</td>\n",
              "    </tr>\n",
              "    <tr>\n",
              "      <th>1</th>\n",
              "      <td>42</td>\n",
              "      <td>casado (a)</td>\n",
              "      <td>secundaria</td>\n",
              "      <td>no</td>\n",
              "      <td>1289</td>\n",
              "      <td>no</td>\n",
              "      <td>250</td>\n",
              "      <td>4</td>\n",
              "    </tr>\n",
              "    <tr>\n",
              "      <th>2</th>\n",
              "      <td>23</td>\n",
              "      <td>soltero (a)</td>\n",
              "      <td>superior</td>\n",
              "      <td>no</td>\n",
              "      <td>363</td>\n",
              "      <td>no</td>\n",
              "      <td>16</td>\n",
              "      <td>18</td>\n",
              "    </tr>\n",
              "    <tr>\n",
              "      <th>3</th>\n",
              "      <td>58</td>\n",
              "      <td>divorciado (a)</td>\n",
              "      <td>superior</td>\n",
              "      <td>no</td>\n",
              "      <td>1382</td>\n",
              "      <td>no</td>\n",
              "      <td>700</td>\n",
              "      <td>1</td>\n",
              "    </tr>\n",
              "    <tr>\n",
              "      <th>4</th>\n",
              "      <td>50</td>\n",
              "      <td>casado (a)</td>\n",
              "      <td>secundaria</td>\n",
              "      <td>no</td>\n",
              "      <td>3357</td>\n",
              "      <td>no</td>\n",
              "      <td>239</td>\n",
              "      <td>4</td>\n",
              "    </tr>\n",
              "    <tr>\n",
              "      <th>...</th>\n",
              "      <td>...</td>\n",
              "      <td>...</td>\n",
              "      <td>...</td>\n",
              "      <td>...</td>\n",
              "      <td>...</td>\n",
              "      <td>...</td>\n",
              "      <td>...</td>\n",
              "      <td>...</td>\n",
              "    </tr>\n",
              "    <tr>\n",
              "      <th>1263</th>\n",
              "      <td>52</td>\n",
              "      <td>soltero (a)</td>\n",
              "      <td>superior</td>\n",
              "      <td>no</td>\n",
              "      <td>83</td>\n",
              "      <td>no</td>\n",
              "      <td>1223</td>\n",
              "      <td>6</td>\n",
              "    </tr>\n",
              "    <tr>\n",
              "      <th>1264</th>\n",
              "      <td>35</td>\n",
              "      <td>soltero (a)</td>\n",
              "      <td>superior</td>\n",
              "      <td>no</td>\n",
              "      <td>5958</td>\n",
              "      <td>no</td>\n",
              "      <td>215</td>\n",
              "      <td>1</td>\n",
              "    </tr>\n",
              "    <tr>\n",
              "      <th>1265</th>\n",
              "      <td>30</td>\n",
              "      <td>soltero (a)</td>\n",
              "      <td>superior</td>\n",
              "      <td>no</td>\n",
              "      <td>-477</td>\n",
              "      <td>si</td>\n",
              "      <td>1532</td>\n",
              "      <td>2</td>\n",
              "    </tr>\n",
              "    <tr>\n",
              "      <th>1266</th>\n",
              "      <td>42</td>\n",
              "      <td>casado (a)</td>\n",
              "      <td>superior</td>\n",
              "      <td>no</td>\n",
              "      <td>2187</td>\n",
              "      <td>no</td>\n",
              "      <td>525</td>\n",
              "      <td>3</td>\n",
              "    </tr>\n",
              "    <tr>\n",
              "      <th>1267</th>\n",
              "      <td>29</td>\n",
              "      <td>soltero (a)</td>\n",
              "      <td>superior</td>\n",
              "      <td>no</td>\n",
              "      <td>19</td>\n",
              "      <td>no</td>\n",
              "      <td>110</td>\n",
              "      <td>2</td>\n",
              "    </tr>\n",
              "  </tbody>\n",
              "</table>\n",
              "<p>1268 rows × 8 columns</p>\n",
              "</div>\n",
              "    <div class=\"colab-df-buttons\">\n",
              "\n",
              "  <div class=\"colab-df-container\">\n",
              "    <button class=\"colab-df-convert\" onclick=\"convertToInteractive('df-3a57bb35-3aa7-4850-b07c-b4bec5475d1e')\"\n",
              "            title=\"Convert this dataframe to an interactive table.\"\n",
              "            style=\"display:none;\">\n",
              "\n",
              "  <svg xmlns=\"http://www.w3.org/2000/svg\" height=\"24px\" viewBox=\"0 -960 960 960\">\n",
              "    <path d=\"M120-120v-720h720v720H120Zm60-500h600v-160H180v160Zm220 220h160v-160H400v160Zm0 220h160v-160H400v160ZM180-400h160v-160H180v160Zm440 0h160v-160H620v160ZM180-180h160v-160H180v160Zm440 0h160v-160H620v160Z\"/>\n",
              "  </svg>\n",
              "    </button>\n",
              "\n",
              "  <style>\n",
              "    .colab-df-container {\n",
              "      display:flex;\n",
              "      gap: 12px;\n",
              "    }\n",
              "\n",
              "    .colab-df-convert {\n",
              "      background-color: #E8F0FE;\n",
              "      border: none;\n",
              "      border-radius: 50%;\n",
              "      cursor: pointer;\n",
              "      display: none;\n",
              "      fill: #1967D2;\n",
              "      height: 32px;\n",
              "      padding: 0 0 0 0;\n",
              "      width: 32px;\n",
              "    }\n",
              "\n",
              "    .colab-df-convert:hover {\n",
              "      background-color: #E2EBFA;\n",
              "      box-shadow: 0px 1px 2px rgba(60, 64, 67, 0.3), 0px 1px 3px 1px rgba(60, 64, 67, 0.15);\n",
              "      fill: #174EA6;\n",
              "    }\n",
              "\n",
              "    .colab-df-buttons div {\n",
              "      margin-bottom: 4px;\n",
              "    }\n",
              "\n",
              "    [theme=dark] .colab-df-convert {\n",
              "      background-color: #3B4455;\n",
              "      fill: #D2E3FC;\n",
              "    }\n",
              "\n",
              "    [theme=dark] .colab-df-convert:hover {\n",
              "      background-color: #434B5C;\n",
              "      box-shadow: 0px 1px 3px 1px rgba(0, 0, 0, 0.15);\n",
              "      filter: drop-shadow(0px 1px 2px rgba(0, 0, 0, 0.3));\n",
              "      fill: #FFFFFF;\n",
              "    }\n",
              "  </style>\n",
              "\n",
              "    <script>\n",
              "      const buttonEl =\n",
              "        document.querySelector('#df-3a57bb35-3aa7-4850-b07c-b4bec5475d1e button.colab-df-convert');\n",
              "      buttonEl.style.display =\n",
              "        google.colab.kernel.accessAllowed ? 'block' : 'none';\n",
              "\n",
              "      async function convertToInteractive(key) {\n",
              "        const element = document.querySelector('#df-3a57bb35-3aa7-4850-b07c-b4bec5475d1e');\n",
              "        const dataTable =\n",
              "          await google.colab.kernel.invokeFunction('convertToInteractive',\n",
              "                                                    [key], {});\n",
              "        if (!dataTable) return;\n",
              "\n",
              "        const docLinkHtml = 'Like what you see? Visit the ' +\n",
              "          '<a target=\"_blank\" href=https://colab.research.google.com/notebooks/data_table.ipynb>data table notebook</a>'\n",
              "          + ' to learn more about interactive tables.';\n",
              "        element.innerHTML = '';\n",
              "        dataTable['output_type'] = 'display_data';\n",
              "        await google.colab.output.renderOutput(dataTable, element);\n",
              "        const docLink = document.createElement('div');\n",
              "        docLink.innerHTML = docLinkHtml;\n",
              "        element.appendChild(docLink);\n",
              "      }\n",
              "    </script>\n",
              "  </div>\n",
              "\n",
              "\n",
              "    <div id=\"df-26a8a97b-ae61-46c7-b398-664edc22c4be\">\n",
              "      <button class=\"colab-df-quickchart\" onclick=\"quickchart('df-26a8a97b-ae61-46c7-b398-664edc22c4be')\"\n",
              "                title=\"Suggest charts\"\n",
              "                style=\"display:none;\">\n",
              "\n",
              "<svg xmlns=\"http://www.w3.org/2000/svg\" height=\"24px\"viewBox=\"0 0 24 24\"\n",
              "     width=\"24px\">\n",
              "    <g>\n",
              "        <path d=\"M19 3H5c-1.1 0-2 .9-2 2v14c0 1.1.9 2 2 2h14c1.1 0 2-.9 2-2V5c0-1.1-.9-2-2-2zM9 17H7v-7h2v7zm4 0h-2V7h2v10zm4 0h-2v-4h2v4z\"/>\n",
              "    </g>\n",
              "</svg>\n",
              "      </button>\n",
              "\n",
              "<style>\n",
              "  .colab-df-quickchart {\n",
              "      --bg-color: #E8F0FE;\n",
              "      --fill-color: #1967D2;\n",
              "      --hover-bg-color: #E2EBFA;\n",
              "      --hover-fill-color: #174EA6;\n",
              "      --disabled-fill-color: #AAA;\n",
              "      --disabled-bg-color: #DDD;\n",
              "  }\n",
              "\n",
              "  [theme=dark] .colab-df-quickchart {\n",
              "      --bg-color: #3B4455;\n",
              "      --fill-color: #D2E3FC;\n",
              "      --hover-bg-color: #434B5C;\n",
              "      --hover-fill-color: #FFFFFF;\n",
              "      --disabled-bg-color: #3B4455;\n",
              "      --disabled-fill-color: #666;\n",
              "  }\n",
              "\n",
              "  .colab-df-quickchart {\n",
              "    background-color: var(--bg-color);\n",
              "    border: none;\n",
              "    border-radius: 50%;\n",
              "    cursor: pointer;\n",
              "    display: none;\n",
              "    fill: var(--fill-color);\n",
              "    height: 32px;\n",
              "    padding: 0;\n",
              "    width: 32px;\n",
              "  }\n",
              "\n",
              "  .colab-df-quickchart:hover {\n",
              "    background-color: var(--hover-bg-color);\n",
              "    box-shadow: 0 1px 2px rgba(60, 64, 67, 0.3), 0 1px 3px 1px rgba(60, 64, 67, 0.15);\n",
              "    fill: var(--button-hover-fill-color);\n",
              "  }\n",
              "\n",
              "  .colab-df-quickchart-complete:disabled,\n",
              "  .colab-df-quickchart-complete:disabled:hover {\n",
              "    background-color: var(--disabled-bg-color);\n",
              "    fill: var(--disabled-fill-color);\n",
              "    box-shadow: none;\n",
              "  }\n",
              "\n",
              "  .colab-df-spinner {\n",
              "    border: 2px solid var(--fill-color);\n",
              "    border-color: transparent;\n",
              "    border-bottom-color: var(--fill-color);\n",
              "    animation:\n",
              "      spin 1s steps(1) infinite;\n",
              "  }\n",
              "\n",
              "  @keyframes spin {\n",
              "    0% {\n",
              "      border-color: transparent;\n",
              "      border-bottom-color: var(--fill-color);\n",
              "      border-left-color: var(--fill-color);\n",
              "    }\n",
              "    20% {\n",
              "      border-color: transparent;\n",
              "      border-left-color: var(--fill-color);\n",
              "      border-top-color: var(--fill-color);\n",
              "    }\n",
              "    30% {\n",
              "      border-color: transparent;\n",
              "      border-left-color: var(--fill-color);\n",
              "      border-top-color: var(--fill-color);\n",
              "      border-right-color: var(--fill-color);\n",
              "    }\n",
              "    40% {\n",
              "      border-color: transparent;\n",
              "      border-right-color: var(--fill-color);\n",
              "      border-top-color: var(--fill-color);\n",
              "    }\n",
              "    60% {\n",
              "      border-color: transparent;\n",
              "      border-right-color: var(--fill-color);\n",
              "    }\n",
              "    80% {\n",
              "      border-color: transparent;\n",
              "      border-right-color: var(--fill-color);\n",
              "      border-bottom-color: var(--fill-color);\n",
              "    }\n",
              "    90% {\n",
              "      border-color: transparent;\n",
              "      border-bottom-color: var(--fill-color);\n",
              "    }\n",
              "  }\n",
              "</style>\n",
              "\n",
              "      <script>\n",
              "        async function quickchart(key) {\n",
              "          const quickchartButtonEl =\n",
              "            document.querySelector('#' + key + ' button');\n",
              "          quickchartButtonEl.disabled = true;  // To prevent multiple clicks.\n",
              "          quickchartButtonEl.classList.add('colab-df-spinner');\n",
              "          try {\n",
              "            const charts = await google.colab.kernel.invokeFunction(\n",
              "                'suggestCharts', [key], {});\n",
              "          } catch (error) {\n",
              "            console.error('Error during call to suggestCharts:', error);\n",
              "          }\n",
              "          quickchartButtonEl.classList.remove('colab-df-spinner');\n",
              "          quickchartButtonEl.classList.add('colab-df-quickchart-complete');\n",
              "        }\n",
              "        (() => {\n",
              "          let quickchartButtonEl =\n",
              "            document.querySelector('#df-26a8a97b-ae61-46c7-b398-664edc22c4be button');\n",
              "          quickchartButtonEl.style.display =\n",
              "            google.colab.kernel.accessAllowed ? 'block' : 'none';\n",
              "        })();\n",
              "      </script>\n",
              "    </div>\n",
              "\n",
              "  <div id=\"id_c3708091-792a-4a77-b4ae-67f951c1e891\">\n",
              "    <style>\n",
              "      .colab-df-generate {\n",
              "        background-color: #E8F0FE;\n",
              "        border: none;\n",
              "        border-radius: 50%;\n",
              "        cursor: pointer;\n",
              "        display: none;\n",
              "        fill: #1967D2;\n",
              "        height: 32px;\n",
              "        padding: 0 0 0 0;\n",
              "        width: 32px;\n",
              "      }\n",
              "\n",
              "      .colab-df-generate:hover {\n",
              "        background-color: #E2EBFA;\n",
              "        box-shadow: 0px 1px 2px rgba(60, 64, 67, 0.3), 0px 1px 3px 1px rgba(60, 64, 67, 0.15);\n",
              "        fill: #174EA6;\n",
              "      }\n",
              "\n",
              "      [theme=dark] .colab-df-generate {\n",
              "        background-color: #3B4455;\n",
              "        fill: #D2E3FC;\n",
              "      }\n",
              "\n",
              "      [theme=dark] .colab-df-generate:hover {\n",
              "        background-color: #434B5C;\n",
              "        box-shadow: 0px 1px 3px 1px rgba(0, 0, 0, 0.15);\n",
              "        filter: drop-shadow(0px 1px 2px rgba(0, 0, 0, 0.3));\n",
              "        fill: #FFFFFF;\n",
              "      }\n",
              "    </style>\n",
              "    <button class=\"colab-df-generate\" onclick=\"generateWithVariable('X')\"\n",
              "            title=\"Generate code using this dataframe.\"\n",
              "            style=\"display:none;\">\n",
              "\n",
              "  <svg xmlns=\"http://www.w3.org/2000/svg\" height=\"24px\"viewBox=\"0 0 24 24\"\n",
              "       width=\"24px\">\n",
              "    <path d=\"M7,19H8.4L18.45,9,17,7.55,7,17.6ZM5,21V16.75L18.45,3.32a2,2,0,0,1,2.83,0l1.4,1.43a1.91,1.91,0,0,1,.58,1.4,1.91,1.91,0,0,1-.58,1.4L9.25,21ZM18.45,9,17,7.55Zm-12,3A5.31,5.31,0,0,0,4.9,8.1,5.31,5.31,0,0,0,1,6.5,5.31,5.31,0,0,0,4.9,4.9,5.31,5.31,0,0,0,6.5,1,5.31,5.31,0,0,0,8.1,4.9,5.31,5.31,0,0,0,12,6.5,5.46,5.46,0,0,0,6.5,12Z\"/>\n",
              "  </svg>\n",
              "    </button>\n",
              "    <script>\n",
              "      (() => {\n",
              "      const buttonEl =\n",
              "        document.querySelector('#id_c3708091-792a-4a77-b4ae-67f951c1e891 button.colab-df-generate');\n",
              "      buttonEl.style.display =\n",
              "        google.colab.kernel.accessAllowed ? 'block' : 'none';\n",
              "\n",
              "      buttonEl.onclick = () => {\n",
              "        google.colab.notebook.generateWithVariable('X');\n",
              "      }\n",
              "      })();\n",
              "    </script>\n",
              "  </div>\n",
              "\n",
              "    </div>\n",
              "  </div>\n"
            ],
            "application/vnd.google.colaboratory.intrinsic+json": {
              "type": "dataframe",
              "variable_name": "X",
              "summary": "{\n  \"name\": \"X\",\n  \"rows\": 1268,\n  \"fields\": [\n    {\n      \"column\": \"edad\",\n      \"properties\": {\n        \"dtype\": \"number\",\n        \"std\": 11,\n        \"min\": 19,\n        \"max\": 87,\n        \"num_unique_values\": 64,\n        \"samples\": [\n          70,\n          77,\n          45\n        ],\n        \"semantic_type\": \"\",\n        \"description\": \"\"\n      }\n    },\n    {\n      \"column\": \"estado_civil\",\n      \"properties\": {\n        \"dtype\": \"category\",\n        \"num_unique_values\": 3,\n        \"samples\": [\n          \"casado (a)\",\n          \"soltero (a)\",\n          \"divorciado (a)\"\n        ],\n        \"semantic_type\": \"\",\n        \"description\": \"\"\n      }\n    },\n    {\n      \"column\": \"escolaridad\",\n      \"properties\": {\n        \"dtype\": \"category\",\n        \"num_unique_values\": 3,\n        \"samples\": [\n          \"superior\",\n          \"secundaria\",\n          \"primaria\"\n        ],\n        \"semantic_type\": \"\",\n        \"description\": \"\"\n      }\n    },\n    {\n      \"column\": \"default\",\n      \"properties\": {\n        \"dtype\": \"category\",\n        \"num_unique_values\": 2,\n        \"samples\": [\n          \"si\",\n          \"no\"\n        ],\n        \"semantic_type\": \"\",\n        \"description\": \"\"\n      }\n    },\n    {\n      \"column\": \"saldo\",\n      \"properties\": {\n        \"dtype\": \"number\",\n        \"std\": 2690,\n        \"min\": -1206,\n        \"max\": 27069,\n        \"num_unique_values\": 946,\n        \"samples\": [\n          1148,\n          -247\n        ],\n        \"semantic_type\": \"\",\n        \"description\": \"\"\n      }\n    },\n    {\n      \"column\": \"prestatario\",\n      \"properties\": {\n        \"dtype\": \"category\",\n        \"num_unique_values\": 2,\n        \"samples\": [\n          \"si\",\n          \"no\"\n        ],\n        \"semantic_type\": \"\",\n        \"description\": \"\"\n      }\n    },\n    {\n      \"column\": \"ultimo_contacto\",\n      \"properties\": {\n        \"dtype\": \"number\",\n        \"std\": 347,\n        \"min\": 5,\n        \"max\": 3025,\n        \"num_unique_values\": 646,\n        \"samples\": [\n          1006,\n          1060\n        ],\n        \"semantic_type\": \"\",\n        \"description\": \"\"\n      }\n    },\n    {\n      \"column\": \"ct_contactos\",\n      \"properties\": {\n        \"dtype\": \"number\",\n        \"std\": 2,\n        \"min\": 1,\n        \"max\": 32,\n        \"num_unique_values\": 21,\n        \"samples\": [\n          1,\n          24\n        ],\n        \"semantic_type\": \"\",\n        \"description\": \"\"\n      }\n    }\n  ]\n}"
            }
          },
          "metadata": {},
          "execution_count": 72
        }
      ]
    },
    {
      "cell_type": "code",
      "source": [
        "y"
      ],
      "metadata": {
        "id": "RYamYUlpA8zi",
        "colab": {
          "base_uri": "https://localhost:8080/",
          "height": 458
        },
        "outputId": "b3e7ac25-23ee-4e83-94f0-9916d3f17bc4"
      },
      "execution_count": 73,
      "outputs": [
        {
          "output_type": "execute_result",
          "data": {
            "text/plain": [
              "0       si\n",
              "1       si\n",
              "2       no\n",
              "3       si\n",
              "4       si\n",
              "        ..\n",
              "1263    si\n",
              "1264    si\n",
              "1265    si\n",
              "1266    si\n",
              "1267    si\n",
              "Name: adherencia_inversion, Length: 1268, dtype: object"
            ],
            "text/html": [
              "<div>\n",
              "<style scoped>\n",
              "    .dataframe tbody tr th:only-of-type {\n",
              "        vertical-align: middle;\n",
              "    }\n",
              "\n",
              "    .dataframe tbody tr th {\n",
              "        vertical-align: top;\n",
              "    }\n",
              "\n",
              "    .dataframe thead th {\n",
              "        text-align: right;\n",
              "    }\n",
              "</style>\n",
              "<table border=\"1\" class=\"dataframe\">\n",
              "  <thead>\n",
              "    <tr style=\"text-align: right;\">\n",
              "      <th></th>\n",
              "      <th>adherencia_inversion</th>\n",
              "    </tr>\n",
              "  </thead>\n",
              "  <tbody>\n",
              "    <tr>\n",
              "      <th>0</th>\n",
              "      <td>si</td>\n",
              "    </tr>\n",
              "    <tr>\n",
              "      <th>1</th>\n",
              "      <td>si</td>\n",
              "    </tr>\n",
              "    <tr>\n",
              "      <th>2</th>\n",
              "      <td>no</td>\n",
              "    </tr>\n",
              "    <tr>\n",
              "      <th>3</th>\n",
              "      <td>si</td>\n",
              "    </tr>\n",
              "    <tr>\n",
              "      <th>4</th>\n",
              "      <td>si</td>\n",
              "    </tr>\n",
              "    <tr>\n",
              "      <th>...</th>\n",
              "      <td>...</td>\n",
              "    </tr>\n",
              "    <tr>\n",
              "      <th>1263</th>\n",
              "      <td>si</td>\n",
              "    </tr>\n",
              "    <tr>\n",
              "      <th>1264</th>\n",
              "      <td>si</td>\n",
              "    </tr>\n",
              "    <tr>\n",
              "      <th>1265</th>\n",
              "      <td>si</td>\n",
              "    </tr>\n",
              "    <tr>\n",
              "      <th>1266</th>\n",
              "      <td>si</td>\n",
              "    </tr>\n",
              "    <tr>\n",
              "      <th>1267</th>\n",
              "      <td>si</td>\n",
              "    </tr>\n",
              "  </tbody>\n",
              "</table>\n",
              "<p>1268 rows × 1 columns</p>\n",
              "</div><br><label><b>dtype:</b> object</label>"
            ]
          },
          "metadata": {},
          "execution_count": 73
        }
      ]
    },
    {
      "cell_type": "markdown",
      "source": [
        "## Transformando las variables explicativas"
      ],
      "metadata": {
        "id": "lAwB5Nv6n6S0"
      }
    },
    {
      "cell_type": "markdown",
      "source": [
        "Los algoritmos de aprendizaje automático no comprenden datos en formato de texto, por lo que debemos transformar los datos a un formato numérico para que el algoritmo pueda interpretar la información. Esta transformación debe realizarse de manera que no altere la información original del conjunto de datos, por lo que no basta con simplemente cambiar los valores a números aleatorios."
      ],
      "metadata": {
        "id": "twG9GNHPKIky"
      }
    },
    {
      "cell_type": "markdown",
      "source": [
        "![image.png](data:image/png;base64,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)"
      ],
      "metadata": {
        "id": "vcnL3X4VAHE5"
      }
    },
    {
      "cell_type": "code",
      "source": [
        "from sklearn.compose import make_column_transformer\n",
        "from sklearn.preprocessing import OneHotEncoder"
      ],
      "metadata": {
        "id": "PyGM0TVzA7Dk"
      },
      "execution_count": 74,
      "outputs": []
    },
    {
      "cell_type": "code",
      "source": [
        "columnas = X.columns"
      ],
      "metadata": {
        "id": "Mnb5v1dcA61R"
      },
      "execution_count": 75,
      "outputs": []
    },
    {
      "cell_type": "code",
      "source": [
        "one_hot = make_column_transformer((OneHotEncoder(drop='if_binary'),\n",
        "                                ['estado_civil', 'escolaridad', 'default', 'prestatario']),\n",
        "                                remainder='passthrough',\n",
        "                                sparse_threshold=0,\n",
        "                                force_int_remainder_cols=False)"
      ],
      "metadata": {
        "id": "cVgxDa88A6zB"
      },
      "execution_count": 76,
      "outputs": []
    },
    {
      "cell_type": "code",
      "source": [
        "X = one_hot.fit_transform(X)"
      ],
      "metadata": {
        "id": "yQ7gh8xXA6wb"
      },
      "execution_count": 77,
      "outputs": []
    },
    {
      "cell_type": "code",
      "source": [
        "one_hot.get_feature_names_out(columnas)"
      ],
      "metadata": {
        "colab": {
          "base_uri": "https://localhost:8080/"
        },
        "id": "B0l9NuaM1xW2",
        "outputId": "5d0b09ec-0516-46af-ce0b-dadd085cefa2"
      },
      "execution_count": 78,
      "outputs": [
        {
          "output_type": "execute_result",
          "data": {
            "text/plain": [
              "array(['onehotencoder__estado_civil_casado (a)',\n",
              "       'onehotencoder__estado_civil_divorciado (a)',\n",
              "       'onehotencoder__estado_civil_soltero (a)',\n",
              "       'onehotencoder__escolaridad_primaria',\n",
              "       'onehotencoder__escolaridad_secundaria',\n",
              "       'onehotencoder__escolaridad_superior', 'onehotencoder__default_si',\n",
              "       'onehotencoder__prestatario_si', 'remainder__edad',\n",
              "       'remainder__saldo', 'remainder__ultimo_contacto',\n",
              "       'remainder__ct_contactos'], dtype=object)"
            ]
          },
          "metadata": {},
          "execution_count": 78
        }
      ]
    },
    {
      "cell_type": "code",
      "source": [
        "pd.DataFrame(X, columns=one_hot.get_feature_names_out(columnas))"
      ],
      "metadata": {
        "colab": {
          "base_uri": "https://localhost:8080/",
          "height": 461
        },
        "id": "bhDI7yh42Lzm",
        "outputId": "3ca8460a-5cbe-4256-81f5-198ae91b419c"
      },
      "execution_count": 79,
      "outputs": [
        {
          "output_type": "execute_result",
          "data": {
            "text/plain": [
              "      onehotencoder__estado_civil_casado (a)  \\\n",
              "0                                        1.0   \n",
              "1                                        1.0   \n",
              "2                                        0.0   \n",
              "3                                        0.0   \n",
              "4                                        1.0   \n",
              "...                                      ...   \n",
              "1263                                     0.0   \n",
              "1264                                     0.0   \n",
              "1265                                     0.0   \n",
              "1266                                     1.0   \n",
              "1267                                     0.0   \n",
              "\n",
              "      onehotencoder__estado_civil_divorciado (a)  \\\n",
              "0                                            0.0   \n",
              "1                                            0.0   \n",
              "2                                            0.0   \n",
              "3                                            1.0   \n",
              "4                                            0.0   \n",
              "...                                          ...   \n",
              "1263                                         0.0   \n",
              "1264                                         0.0   \n",
              "1265                                         0.0   \n",
              "1266                                         0.0   \n",
              "1267                                         0.0   \n",
              "\n",
              "      onehotencoder__estado_civil_soltero (a)  \\\n",
              "0                                         0.0   \n",
              "1                                         0.0   \n",
              "2                                         1.0   \n",
              "3                                         0.0   \n",
              "4                                         0.0   \n",
              "...                                       ...   \n",
              "1263                                      1.0   \n",
              "1264                                      1.0   \n",
              "1265                                      1.0   \n",
              "1266                                      0.0   \n",
              "1267                                      1.0   \n",
              "\n",
              "      onehotencoder__escolaridad_primaria  \\\n",
              "0                                     0.0   \n",
              "1                                     0.0   \n",
              "2                                     0.0   \n",
              "3                                     0.0   \n",
              "4                                     0.0   \n",
              "...                                   ...   \n",
              "1263                                  0.0   \n",
              "1264                                  0.0   \n",
              "1265                                  0.0   \n",
              "1266                                  0.0   \n",
              "1267                                  0.0   \n",
              "\n",
              "      onehotencoder__escolaridad_secundaria  \\\n",
              "0                                       0.0   \n",
              "1                                       1.0   \n",
              "2                                       0.0   \n",
              "3                                       0.0   \n",
              "4                                       1.0   \n",
              "...                                     ...   \n",
              "1263                                    0.0   \n",
              "1264                                    0.0   \n",
              "1265                                    0.0   \n",
              "1266                                    0.0   \n",
              "1267                                    0.0   \n",
              "\n",
              "      onehotencoder__escolaridad_superior  onehotencoder__default_si  \\\n",
              "0                                     1.0                        0.0   \n",
              "1                                     0.0                        0.0   \n",
              "2                                     1.0                        0.0   \n",
              "3                                     1.0                        0.0   \n",
              "4                                     0.0                        0.0   \n",
              "...                                   ...                        ...   \n",
              "1263                                  1.0                        0.0   \n",
              "1264                                  1.0                        0.0   \n",
              "1265                                  1.0                        0.0   \n",
              "1266                                  1.0                        0.0   \n",
              "1267                                  1.0                        0.0   \n",
              "\n",
              "      onehotencoder__prestatario_si  remainder__edad  remainder__saldo  \\\n",
              "0                               0.0             45.0             242.0   \n",
              "1                               0.0             42.0            1289.0   \n",
              "2                               0.0             23.0             363.0   \n",
              "3                               0.0             58.0            1382.0   \n",
              "4                               0.0             50.0            3357.0   \n",
              "...                             ...              ...               ...   \n",
              "1263                            0.0             52.0              83.0   \n",
              "1264                            0.0             35.0            5958.0   \n",
              "1265                            1.0             30.0            -477.0   \n",
              "1266                            0.0             42.0            2187.0   \n",
              "1267                            0.0             29.0              19.0   \n",
              "\n",
              "      remainder__ultimo_contacto  remainder__ct_contactos  \n",
              "0                          587.0                      1.0  \n",
              "1                          250.0                      4.0  \n",
              "2                           16.0                     18.0  \n",
              "3                          700.0                      1.0  \n",
              "4                          239.0                      4.0  \n",
              "...                          ...                      ...  \n",
              "1263                      1223.0                      6.0  \n",
              "1264                       215.0                      1.0  \n",
              "1265                      1532.0                      2.0  \n",
              "1266                       525.0                      3.0  \n",
              "1267                       110.0                      2.0  \n",
              "\n",
              "[1268 rows x 12 columns]"
            ],
            "text/html": [
              "\n",
              "  <div id=\"df-d2171990-f211-432b-b1d1-e9d07d735216\" class=\"colab-df-container\">\n",
              "    <div>\n",
              "<style scoped>\n",
              "    .dataframe tbody tr th:only-of-type {\n",
              "        vertical-align: middle;\n",
              "    }\n",
              "\n",
              "    .dataframe tbody tr th {\n",
              "        vertical-align: top;\n",
              "    }\n",
              "\n",
              "    .dataframe thead th {\n",
              "        text-align: right;\n",
              "    }\n",
              "</style>\n",
              "<table border=\"1\" class=\"dataframe\">\n",
              "  <thead>\n",
              "    <tr style=\"text-align: right;\">\n",
              "      <th></th>\n",
              "      <th>onehotencoder__estado_civil_casado (a)</th>\n",
              "      <th>onehotencoder__estado_civil_divorciado (a)</th>\n",
              "      <th>onehotencoder__estado_civil_soltero (a)</th>\n",
              "      <th>onehotencoder__escolaridad_primaria</th>\n",
              "      <th>onehotencoder__escolaridad_secundaria</th>\n",
              "      <th>onehotencoder__escolaridad_superior</th>\n",
              "      <th>onehotencoder__default_si</th>\n",
              "      <th>onehotencoder__prestatario_si</th>\n",
              "      <th>remainder__edad</th>\n",
              "      <th>remainder__saldo</th>\n",
              "      <th>remainder__ultimo_contacto</th>\n",
              "      <th>remainder__ct_contactos</th>\n",
              "    </tr>\n",
              "  </thead>\n",
              "  <tbody>\n",
              "    <tr>\n",
              "      <th>0</th>\n",
              "      <td>1.0</td>\n",
              "      <td>0.0</td>\n",
              "      <td>0.0</td>\n",
              "      <td>0.0</td>\n",
              "      <td>0.0</td>\n",
              "      <td>1.0</td>\n",
              "      <td>0.0</td>\n",
              "      <td>0.0</td>\n",
              "      <td>45.0</td>\n",
              "      <td>242.0</td>\n",
              "      <td>587.0</td>\n",
              "      <td>1.0</td>\n",
              "    </tr>\n",
              "    <tr>\n",
              "      <th>1</th>\n",
              "      <td>1.0</td>\n",
              "      <td>0.0</td>\n",
              "      <td>0.0</td>\n",
              "      <td>0.0</td>\n",
              "      <td>1.0</td>\n",
              "      <td>0.0</td>\n",
              "      <td>0.0</td>\n",
              "      <td>0.0</td>\n",
              "      <td>42.0</td>\n",
              "      <td>1289.0</td>\n",
              "      <td>250.0</td>\n",
              "      <td>4.0</td>\n",
              "    </tr>\n",
              "    <tr>\n",
              "      <th>2</th>\n",
              "      <td>0.0</td>\n",
              "      <td>0.0</td>\n",
              "      <td>1.0</td>\n",
              "      <td>0.0</td>\n",
              "      <td>0.0</td>\n",
              "      <td>1.0</td>\n",
              "      <td>0.0</td>\n",
              "      <td>0.0</td>\n",
              "      <td>23.0</td>\n",
              "      <td>363.0</td>\n",
              "      <td>16.0</td>\n",
              "      <td>18.0</td>\n",
              "    </tr>\n",
              "    <tr>\n",
              "      <th>3</th>\n",
              "      <td>0.0</td>\n",
              "      <td>1.0</td>\n",
              "      <td>0.0</td>\n",
              "      <td>0.0</td>\n",
              "      <td>0.0</td>\n",
              "      <td>1.0</td>\n",
              "      <td>0.0</td>\n",
              "      <td>0.0</td>\n",
              "      <td>58.0</td>\n",
              "      <td>1382.0</td>\n",
              "      <td>700.0</td>\n",
              "      <td>1.0</td>\n",
              "    </tr>\n",
              "    <tr>\n",
              "      <th>4</th>\n",
              "      <td>1.0</td>\n",
              "      <td>0.0</td>\n",
              "      <td>0.0</td>\n",
              "      <td>0.0</td>\n",
              "      <td>1.0</td>\n",
              "      <td>0.0</td>\n",
              "      <td>0.0</td>\n",
              "      <td>0.0</td>\n",
              "      <td>50.0</td>\n",
              "      <td>3357.0</td>\n",
              "      <td>239.0</td>\n",
              "      <td>4.0</td>\n",
              "    </tr>\n",
              "    <tr>\n",
              "      <th>...</th>\n",
              "      <td>...</td>\n",
              "      <td>...</td>\n",
              "      <td>...</td>\n",
              "      <td>...</td>\n",
              "      <td>...</td>\n",
              "      <td>...</td>\n",
              "      <td>...</td>\n",
              "      <td>...</td>\n",
              "      <td>...</td>\n",
              "      <td>...</td>\n",
              "      <td>...</td>\n",
              "      <td>...</td>\n",
              "    </tr>\n",
              "    <tr>\n",
              "      <th>1263</th>\n",
              "      <td>0.0</td>\n",
              "      <td>0.0</td>\n",
              "      <td>1.0</td>\n",
              "      <td>0.0</td>\n",
              "      <td>0.0</td>\n",
              "      <td>1.0</td>\n",
              "      <td>0.0</td>\n",
              "      <td>0.0</td>\n",
              "      <td>52.0</td>\n",
              "      <td>83.0</td>\n",
              "      <td>1223.0</td>\n",
              "      <td>6.0</td>\n",
              "    </tr>\n",
              "    <tr>\n",
              "      <th>1264</th>\n",
              "      <td>0.0</td>\n",
              "      <td>0.0</td>\n",
              "      <td>1.0</td>\n",
              "      <td>0.0</td>\n",
              "      <td>0.0</td>\n",
              "      <td>1.0</td>\n",
              "      <td>0.0</td>\n",
              "      <td>0.0</td>\n",
              "      <td>35.0</td>\n",
              "      <td>5958.0</td>\n",
              "      <td>215.0</td>\n",
              "      <td>1.0</td>\n",
              "    </tr>\n",
              "    <tr>\n",
              "      <th>1265</th>\n",
              "      <td>0.0</td>\n",
              "      <td>0.0</td>\n",
              "      <td>1.0</td>\n",
              "      <td>0.0</td>\n",
              "      <td>0.0</td>\n",
              "      <td>1.0</td>\n",
              "      <td>0.0</td>\n",
              "      <td>1.0</td>\n",
              "      <td>30.0</td>\n",
              "      <td>-477.0</td>\n",
              "      <td>1532.0</td>\n",
              "      <td>2.0</td>\n",
              "    </tr>\n",
              "    <tr>\n",
              "      <th>1266</th>\n",
              "      <td>1.0</td>\n",
              "      <td>0.0</td>\n",
              "      <td>0.0</td>\n",
              "      <td>0.0</td>\n",
              "      <td>0.0</td>\n",
              "      <td>1.0</td>\n",
              "      <td>0.0</td>\n",
              "      <td>0.0</td>\n",
              "      <td>42.0</td>\n",
              "      <td>2187.0</td>\n",
              "      <td>525.0</td>\n",
              "      <td>3.0</td>\n",
              "    </tr>\n",
              "    <tr>\n",
              "      <th>1267</th>\n",
              "      <td>0.0</td>\n",
              "      <td>0.0</td>\n",
              "      <td>1.0</td>\n",
              "      <td>0.0</td>\n",
              "      <td>0.0</td>\n",
              "      <td>1.0</td>\n",
              "      <td>0.0</td>\n",
              "      <td>0.0</td>\n",
              "      <td>29.0</td>\n",
              "      <td>19.0</td>\n",
              "      <td>110.0</td>\n",
              "      <td>2.0</td>\n",
              "    </tr>\n",
              "  </tbody>\n",
              "</table>\n",
              "<p>1268 rows × 12 columns</p>\n",
              "</div>\n",
              "    <div class=\"colab-df-buttons\">\n",
              "\n",
              "  <div class=\"colab-df-container\">\n",
              "    <button class=\"colab-df-convert\" onclick=\"convertToInteractive('df-d2171990-f211-432b-b1d1-e9d07d735216')\"\n",
              "            title=\"Convert this dataframe to an interactive table.\"\n",
              "            style=\"display:none;\">\n",
              "\n",
              "  <svg xmlns=\"http://www.w3.org/2000/svg\" height=\"24px\" viewBox=\"0 -960 960 960\">\n",
              "    <path d=\"M120-120v-720h720v720H120Zm60-500h600v-160H180v160Zm220 220h160v-160H400v160Zm0 220h160v-160H400v160ZM180-400h160v-160H180v160Zm440 0h160v-160H620v160ZM180-180h160v-160H180v160Zm440 0h160v-160H620v160Z\"/>\n",
              "  </svg>\n",
              "    </button>\n",
              "\n",
              "  <style>\n",
              "    .colab-df-container {\n",
              "      display:flex;\n",
              "      gap: 12px;\n",
              "    }\n",
              "\n",
              "    .colab-df-convert {\n",
              "      background-color: #E8F0FE;\n",
              "      border: none;\n",
              "      border-radius: 50%;\n",
              "      cursor: pointer;\n",
              "      display: none;\n",
              "      fill: #1967D2;\n",
              "      height: 32px;\n",
              "      padding: 0 0 0 0;\n",
              "      width: 32px;\n",
              "    }\n",
              "\n",
              "    .colab-df-convert:hover {\n",
              "      background-color: #E2EBFA;\n",
              "      box-shadow: 0px 1px 2px rgba(60, 64, 67, 0.3), 0px 1px 3px 1px rgba(60, 64, 67, 0.15);\n",
              "      fill: #174EA6;\n",
              "    }\n",
              "\n",
              "    .colab-df-buttons div {\n",
              "      margin-bottom: 4px;\n",
              "    }\n",
              "\n",
              "    [theme=dark] .colab-df-convert {\n",
              "      background-color: #3B4455;\n",
              "      fill: #D2E3FC;\n",
              "    }\n",
              "\n",
              "    [theme=dark] .colab-df-convert:hover {\n",
              "      background-color: #434B5C;\n",
              "      box-shadow: 0px 1px 3px 1px rgba(0, 0, 0, 0.15);\n",
              "      filter: drop-shadow(0px 1px 2px rgba(0, 0, 0, 0.3));\n",
              "      fill: #FFFFFF;\n",
              "    }\n",
              "  </style>\n",
              "\n",
              "    <script>\n",
              "      const buttonEl =\n",
              "        document.querySelector('#df-d2171990-f211-432b-b1d1-e9d07d735216 button.colab-df-convert');\n",
              "      buttonEl.style.display =\n",
              "        google.colab.kernel.accessAllowed ? 'block' : 'none';\n",
              "\n",
              "      async function convertToInteractive(key) {\n",
              "        const element = document.querySelector('#df-d2171990-f211-432b-b1d1-e9d07d735216');\n",
              "        const dataTable =\n",
              "          await google.colab.kernel.invokeFunction('convertToInteractive',\n",
              "                                                    [key], {});\n",
              "        if (!dataTable) return;\n",
              "\n",
              "        const docLinkHtml = 'Like what you see? Visit the ' +\n",
              "          '<a target=\"_blank\" href=https://colab.research.google.com/notebooks/data_table.ipynb>data table notebook</a>'\n",
              "          + ' to learn more about interactive tables.';\n",
              "        element.innerHTML = '';\n",
              "        dataTable['output_type'] = 'display_data';\n",
              "        await google.colab.output.renderOutput(dataTable, element);\n",
              "        const docLink = document.createElement('div');\n",
              "        docLink.innerHTML = docLinkHtml;\n",
              "        element.appendChild(docLink);\n",
              "      }\n",
              "    </script>\n",
              "  </div>\n",
              "\n",
              "\n",
              "    <div id=\"df-f7b6ea34-f1bd-42de-a15a-78d5e88b8da2\">\n",
              "      <button class=\"colab-df-quickchart\" onclick=\"quickchart('df-f7b6ea34-f1bd-42de-a15a-78d5e88b8da2')\"\n",
              "                title=\"Suggest charts\"\n",
              "                style=\"display:none;\">\n",
              "\n",
              "<svg xmlns=\"http://www.w3.org/2000/svg\" height=\"24px\"viewBox=\"0 0 24 24\"\n",
              "     width=\"24px\">\n",
              "    <g>\n",
              "        <path d=\"M19 3H5c-1.1 0-2 .9-2 2v14c0 1.1.9 2 2 2h14c1.1 0 2-.9 2-2V5c0-1.1-.9-2-2-2zM9 17H7v-7h2v7zm4 0h-2V7h2v10zm4 0h-2v-4h2v4z\"/>\n",
              "    </g>\n",
              "</svg>\n",
              "      </button>\n",
              "\n",
              "<style>\n",
              "  .colab-df-quickchart {\n",
              "      --bg-color: #E8F0FE;\n",
              "      --fill-color: #1967D2;\n",
              "      --hover-bg-color: #E2EBFA;\n",
              "      --hover-fill-color: #174EA6;\n",
              "      --disabled-fill-color: #AAA;\n",
              "      --disabled-bg-color: #DDD;\n",
              "  }\n",
              "\n",
              "  [theme=dark] .colab-df-quickchart {\n",
              "      --bg-color: #3B4455;\n",
              "      --fill-color: #D2E3FC;\n",
              "      --hover-bg-color: #434B5C;\n",
              "      --hover-fill-color: #FFFFFF;\n",
              "      --disabled-bg-color: #3B4455;\n",
              "      --disabled-fill-color: #666;\n",
              "  }\n",
              "\n",
              "  .colab-df-quickchart {\n",
              "    background-color: var(--bg-color);\n",
              "    border: none;\n",
              "    border-radius: 50%;\n",
              "    cursor: pointer;\n",
              "    display: none;\n",
              "    fill: var(--fill-color);\n",
              "    height: 32px;\n",
              "    padding: 0;\n",
              "    width: 32px;\n",
              "  }\n",
              "\n",
              "  .colab-df-quickchart:hover {\n",
              "    background-color: var(--hover-bg-color);\n",
              "    box-shadow: 0 1px 2px rgba(60, 64, 67, 0.3), 0 1px 3px 1px rgba(60, 64, 67, 0.15);\n",
              "    fill: var(--button-hover-fill-color);\n",
              "  }\n",
              "\n",
              "  .colab-df-quickchart-complete:disabled,\n",
              "  .colab-df-quickchart-complete:disabled:hover {\n",
              "    background-color: var(--disabled-bg-color);\n",
              "    fill: var(--disabled-fill-color);\n",
              "    box-shadow: none;\n",
              "  }\n",
              "\n",
              "  .colab-df-spinner {\n",
              "    border: 2px solid var(--fill-color);\n",
              "    border-color: transparent;\n",
              "    border-bottom-color: var(--fill-color);\n",
              "    animation:\n",
              "      spin 1s steps(1) infinite;\n",
              "  }\n",
              "\n",
              "  @keyframes spin {\n",
              "    0% {\n",
              "      border-color: transparent;\n",
              "      border-bottom-color: var(--fill-color);\n",
              "      border-left-color: var(--fill-color);\n",
              "    }\n",
              "    20% {\n",
              "      border-color: transparent;\n",
              "      border-left-color: var(--fill-color);\n",
              "      border-top-color: var(--fill-color);\n",
              "    }\n",
              "    30% {\n",
              "      border-color: transparent;\n",
              "      border-left-color: var(--fill-color);\n",
              "      border-top-color: var(--fill-color);\n",
              "      border-right-color: var(--fill-color);\n",
              "    }\n",
              "    40% {\n",
              "      border-color: transparent;\n",
              "      border-right-color: var(--fill-color);\n",
              "      border-top-color: var(--fill-color);\n",
              "    }\n",
              "    60% {\n",
              "      border-color: transparent;\n",
              "      border-right-color: var(--fill-color);\n",
              "    }\n",
              "    80% {\n",
              "      border-color: transparent;\n",
              "      border-right-color: var(--fill-color);\n",
              "      border-bottom-color: var(--fill-color);\n",
              "    }\n",
              "    90% {\n",
              "      border-color: transparent;\n",
              "      border-bottom-color: var(--fill-color);\n",
              "    }\n",
              "  }\n",
              "</style>\n",
              "\n",
              "      <script>\n",
              "        async function quickchart(key) {\n",
              "          const quickchartButtonEl =\n",
              "            document.querySelector('#' + key + ' button');\n",
              "          quickchartButtonEl.disabled = true;  // To prevent multiple clicks.\n",
              "          quickchartButtonEl.classList.add('colab-df-spinner');\n",
              "          try {\n",
              "            const charts = await google.colab.kernel.invokeFunction(\n",
              "                'suggestCharts', [key], {});\n",
              "          } catch (error) {\n",
              "            console.error('Error during call to suggestCharts:', error);\n",
              "          }\n",
              "          quickchartButtonEl.classList.remove('colab-df-spinner');\n",
              "          quickchartButtonEl.classList.add('colab-df-quickchart-complete');\n",
              "        }\n",
              "        (() => {\n",
              "          let quickchartButtonEl =\n",
              "            document.querySelector('#df-f7b6ea34-f1bd-42de-a15a-78d5e88b8da2 button');\n",
              "          quickchartButtonEl.style.display =\n",
              "            google.colab.kernel.accessAllowed ? 'block' : 'none';\n",
              "        })();\n",
              "      </script>\n",
              "    </div>\n",
              "\n",
              "    </div>\n",
              "  </div>\n"
            ],
            "application/vnd.google.colaboratory.intrinsic+json": {
              "type": "dataframe",
              "summary": "{\n  \"name\": \"pd\",\n  \"rows\": 1268,\n  \"fields\": [\n    {\n      \"column\": \"onehotencoder__estado_civil_casado (a)\",\n      \"properties\": {\n        \"dtype\": \"number\",\n        \"std\": 0.4934216275780293,\n        \"min\": 0.0,\n        \"max\": 1.0,\n        \"num_unique_values\": 2,\n        \"samples\": [\n          0.0,\n          1.0\n        ],\n        \"semantic_type\": \"\",\n        \"description\": \"\"\n      }\n    },\n    {\n      \"column\": \"onehotencoder__estado_civil_divorciado (a)\",\n      \"properties\": {\n        \"dtype\": \"number\",\n        \"std\": 0.33395437437580244,\n        \"min\": 0.0,\n        \"max\": 1.0,\n        \"num_unique_values\": 2,\n        \"samples\": [\n          1.0,\n          0.0\n        ],\n        \"semantic_type\": \"\",\n        \"description\": \"\"\n      }\n    },\n    {\n      \"column\": \"onehotencoder__estado_civil_soltero (a)\",\n      \"properties\": {\n        \"dtype\": \"number\",\n        \"std\": 0.45404325646940547,\n        \"min\": 0.0,\n        \"max\": 1.0,\n        \"num_unique_values\": 2,\n        \"samples\": [\n          1.0,\n          0.0\n        ],\n        \"semantic_type\": \"\",\n        \"description\": \"\"\n      }\n    },\n    {\n      \"column\": \"onehotencoder__escolaridad_primaria\",\n      \"properties\": {\n        \"dtype\": \"number\",\n        \"std\": 0.3593643175588921,\n        \"min\": 0.0,\n        \"max\": 1.0,\n        \"num_unique_values\": 2,\n        \"samples\": [\n          1.0,\n          0.0\n        ],\n        \"semantic_type\": \"\",\n        \"description\": \"\"\n      }\n    },\n    {\n      \"column\": \"onehotencoder__escolaridad_secundaria\",\n      \"properties\": {\n        \"dtype\": \"number\",\n        \"std\": 0.4997092315310663,\n        \"min\": 0.0,\n        \"max\": 1.0,\n        \"num_unique_values\": 2,\n        \"samples\": [\n          1.0,\n          0.0\n        ],\n        \"semantic_type\": \"\",\n        \"description\": \"\"\n      }\n    },\n    {\n      \"column\": \"onehotencoder__escolaridad_superior\",\n      \"properties\": {\n        \"dtype\": \"number\",\n        \"std\": 0.4688243379191868,\n        \"min\": 0.0,\n        \"max\": 1.0,\n        \"num_unique_values\": 2,\n        \"samples\": [\n          0.0,\n          1.0\n        ],\n        \"semantic_type\": \"\",\n        \"description\": \"\"\n      }\n    },\n    {\n      \"column\": \"onehotencoder__default_si\",\n      \"properties\": {\n        \"dtype\": \"number\",\n        \"std\": 0.13350596169531515,\n        \"min\": 0.0,\n        \"max\": 1.0,\n        \"num_unique_values\": 2,\n        \"samples\": [\n          1.0,\n          0.0\n        ],\n        \"semantic_type\": \"\",\n        \"description\": \"\"\n      }\n    },\n    {\n      \"column\": \"onehotencoder__prestatario_si\",\n      \"properties\": {\n        \"dtype\": \"number\",\n        \"std\": 0.3408613004126143,\n        \"min\": 0.0,\n        \"max\": 1.0,\n        \"num_unique_values\": 2,\n        \"samples\": [\n          1.0,\n          0.0\n        ],\n        \"semantic_type\": \"\",\n        \"description\": \"\"\n      }\n    },\n    {\n      \"column\": \"remainder__edad\",\n      \"properties\": {\n        \"dtype\": \"number\",\n        \"std\": 11.383804651491229,\n        \"min\": 19.0,\n        \"max\": 87.0,\n        \"num_unique_values\": 64,\n        \"samples\": [\n          70.0,\n          77.0\n        ],\n        \"semantic_type\": \"\",\n        \"description\": \"\"\n      }\n    },\n    {\n      \"column\": \"remainder__saldo\",\n      \"properties\": {\n        \"dtype\": \"number\",\n        \"std\": 2690.40676693504,\n        \"min\": -1206.0,\n        \"max\": 27069.0,\n        \"num_unique_values\": 946,\n        \"samples\": [\n          1148.0,\n          -247.0\n        ],\n        \"semantic_type\": \"\",\n        \"description\": \"\"\n      }\n    },\n    {\n      \"column\": \"remainder__ultimo_contacto\",\n      \"properties\": {\n        \"dtype\": \"number\",\n        \"std\": 347.9697229415952,\n        \"min\": 5.0,\n        \"max\": 3025.0,\n        \"num_unique_values\": 646,\n        \"samples\": [\n          1006.0,\n          1060.0\n        ],\n        \"semantic_type\": \"\",\n        \"description\": \"\"\n      }\n    },\n    {\n      \"column\": \"remainder__ct_contactos\",\n      \"properties\": {\n        \"dtype\": \"number\",\n        \"std\": 2.8856424362736948,\n        \"min\": 1.0,\n        \"max\": 32.0,\n        \"num_unique_values\": 21,\n        \"samples\": [\n          1.0,\n          24.0\n        ],\n        \"semantic_type\": \"\",\n        \"description\": \"\"\n      }\n    }\n  ]\n}"
            }
          },
          "metadata": {},
          "execution_count": 79
        }
      ]
    },
    {
      "cell_type": "markdown",
      "source": [
        "## Transformando la variable respuesta"
      ],
      "metadata": {
        "id": "eVg26seuoAvc"
      }
    },
    {
      "cell_type": "markdown",
      "source": [
        "Así como las variables explicativas, la variable objetivo también debe convertirse al formato numérico. Podemos representar una variable objetivo binaria como 0 o 1, donde 0 indica la ausencia de la característica de la variable y 1 representa su presencia."
      ],
      "metadata": {
        "id": "v2czom6YKsCp"
      }
    },
    {
      "cell_type": "code",
      "source": [
        "from sklearn.preprocessing import LabelEncoder"
      ],
      "metadata": {
        "id": "kOVKLS1uA2LN"
      },
      "execution_count": 80,
      "outputs": []
    },
    {
      "cell_type": "code",
      "source": [
        "label_encoder = LabelEncoder()"
      ],
      "metadata": {
        "id": "aB0ESpVxA2Hj"
      },
      "execution_count": 81,
      "outputs": []
    },
    {
      "cell_type": "code",
      "source": [
        "y = label_encoder.fit_transform(y)"
      ],
      "metadata": {
        "id": "-t4p8aO2A3oY"
      },
      "execution_count": 82,
      "outputs": []
    },
    {
      "cell_type": "code",
      "source": [
        "y"
      ],
      "metadata": {
        "id": "kiQDHea5A2E1",
        "colab": {
          "base_uri": "https://localhost:8080/"
        },
        "outputId": "e0a66507-43de-4725-f172-f1766c8c49af"
      },
      "execution_count": 83,
      "outputs": [
        {
          "output_type": "execute_result",
          "data": {
            "text/plain": [
              "array([1, 1, 0, ..., 1, 1, 1])"
            ]
          },
          "metadata": {},
          "execution_count": 83
        }
      ]
    },
    {
      "cell_type": "markdown",
      "source": [
        "# 3 Ajustando modelos"
      ],
      "metadata": {
        "id": "04r_U98KoNML"
      }
    },
    {
      "cell_type": "markdown",
      "source": [
        "## Dividiendo los datos entre entrenamiento y prueba"
      ],
      "metadata": {
        "id": "IhVdsTrEobYU"
      }
    },
    {
      "cell_type": "markdown",
      "source": [
        "Para comprender si el modelo realmente está aprendiendo de los datos, necesitamos hacer una separación de los datos entre entrenamiento y prueba. Los datos de **entrenamiento** se utilizan para ajustar el modelo, mientras que los datos de **prueba** sirven para verificar el aprendizaje del modelo en datos que no fueron utilizados en el momento del ajuste."
      ],
      "metadata": {
        "id": "fj__Hu1bLCVY"
      }
    },
    {
      "cell_type": "markdown",
      "source": [
        "<a href=\"https://ibb.co/2749Chh3\"><img src=\"https://i.ibb.co/Y7sC1QQB/train-test.png\" alt=\"train-test\" border=\"0\"></a>"
      ],
      "metadata": {
        "id": "Az25kGn-PYir"
      }
    },
    {
      "cell_type": "code",
      "source": [
        "from sklearn.model_selection import train_test_split"
      ],
      "metadata": {
        "id": "PRttl9ml_3o9"
      },
      "execution_count": 84,
      "outputs": []
    },
    {
      "cell_type": "code",
      "source": [
        "X_train, X_test, y_train, y_test = train_test_split(X, y, stratify=y, random_state=5)"
      ],
      "metadata": {
        "id": "XXGsRowP_3XX"
      },
      "execution_count": 85,
      "outputs": []
    },
    {
      "cell_type": "markdown",
      "source": [
        "## Modelo de referencia - Baseline"
      ],
      "metadata": {
        "id": "EPMZl3TasDtS"
      }
    },
    {
      "cell_type": "markdown",
      "source": [
        "El modelo más simple de clasificar los datos es simplemente utilizar un algoritmo que asigna todas las clasificaciones a la clase que tiene mayor frecuencia. Este algoritmo sirve como un criterio de comparación para identificar si los otros modelos tienen un rendimiento mejor que la clasificación más simple posible."
      ],
      "metadata": {
        "id": "fuydEJIBLbmh"
      }
    },
    {
      "cell_type": "code",
      "source": [],
      "metadata": {
        "id": "XhmVFsrT_7b0"
      },
      "execution_count": 82,
      "outputs": []
    },
    {
      "cell_type": "code",
      "source": [],
      "metadata": {
        "id": "nn-egwQm_7Xw"
      },
      "execution_count": 82,
      "outputs": []
    },
    {
      "cell_type": "markdown",
      "source": [
        "## Árboles de Decisión"
      ],
      "metadata": {
        "id": "4piugifGsF4g"
      }
    },
    {
      "cell_type": "markdown",
      "source": [
        "El modelo de árbol de decisión es muy utilizado debido a su alta **explicabilidad** y **procesamiento rápido**, manteniendo un rendimiento bastante interesante.\n",
        "\n",
        "Se basa en decisiones simples tomadas por el algoritmo, separando los datos mediante comparaciones de **menor** y **mayor** en los valores de las columnas de la base de datos."
      ],
      "metadata": {
        "id": "Hx3luIUAMEWY"
      }
    },
    {
      "cell_type": "code",
      "source": [],
      "metadata": {
        "id": "7RW7IJ_t_8N3"
      },
      "execution_count": 82,
      "outputs": []
    },
    {
      "cell_type": "code",
      "source": [],
      "metadata": {
        "id": "0o5XX-5U_8KC"
      },
      "execution_count": 82,
      "outputs": []
    },
    {
      "cell_type": "code",
      "source": [],
      "metadata": {
        "id": "2Z-vk9hs_8G6"
      },
      "execution_count": 82,
      "outputs": []
    },
    {
      "cell_type": "markdown",
      "source": [
        "```python\n",
        "valores_columnas = ['casado (a)',\n",
        "                'divorciado (a)',\n",
        "                'soltero (a)',\n",
        "                'primaria',\n",
        "                'secundaria',\n",
        "                'superior',\n",
        "                'default',\n",
        "                'prestatario',\n",
        "                'edad',\n",
        "                'saldo',\n",
        "                'ultimo_contacto',\n",
        "                'ct_contactos']\n",
        "```"
      ],
      "metadata": {
        "id": "df2Z_0iWhe6s"
      }
    },
    {
      "cell_type": "code",
      "source": [],
      "metadata": {
        "id": "tTXqDZxWAA4q"
      },
      "execution_count": 82,
      "outputs": []
    },
    {
      "cell_type": "code",
      "source": [],
      "metadata": {
        "id": "SVyXiwIMAA1L"
      },
      "execution_count": 82,
      "outputs": []
    },
    {
      "cell_type": "code",
      "source": [],
      "metadata": {
        "id": "0UwoiWOEAAyq"
      },
      "execution_count": 82,
      "outputs": []
    },
    {
      "cell_type": "markdown",
      "source": [
        "# 4. Selección de modelos"
      ],
      "metadata": {
        "id": "VKrlCIXdP7Yi"
      }
    },
    {
      "cell_type": "markdown",
      "source": [
        "## Normalizando los datos"
      ],
      "metadata": {
        "id": "jc5hcDjhP_7i"
      }
    },
    {
      "cell_type": "markdown",
      "source": [
        "Algunos algoritmos pueden asignar un mayor peso a los valores de las variables debido a la escala de los valores y no por la importancia de la clasificación de la variable objetivo. Por ejemplo, en una base de datos con las columnas **edad** y **salario**, el algoritmo puede dar un mayor peso de decisión a los valores del salario simplemente por estar en una escala mayor que los valores de la edad, y no porque la variable salario sea más importante que la variable edad.\n",
        "\n",
        "En estos casos, necesitamos realizar una transformación en los datos para que estén en una misma escala, evitando que el algoritmo sea influenciado incorrectamente por los valores numéricos divergentes entre las variables."
      ],
      "metadata": {
        "id": "5lPMT48xM1Jm"
      }
    },
    {
      "cell_type": "markdown",
      "source": [
        "$X_{sc} = \\frac{X - X_{min}}{X_{max} - X_{min}} $"
      ],
      "metadata": {
        "id": "v1lUQnVXbhCb"
      }
    },
    {
      "cell_type": "code",
      "source": [],
      "metadata": {
        "id": "sOJiNe2A-eH_"
      },
      "execution_count": 82,
      "outputs": []
    },
    {
      "cell_type": "code",
      "source": [],
      "metadata": {
        "id": "ogyiUP8e-eBg"
      },
      "execution_count": 82,
      "outputs": []
    },
    {
      "cell_type": "code",
      "source": [],
      "metadata": {
        "id": "9jONGKMz-d_M"
      },
      "execution_count": 82,
      "outputs": []
    },
    {
      "cell_type": "markdown",
      "source": [
        "## KNN"
      ],
      "metadata": {
        "id": "EeLwrThg0W7C"
      }
    },
    {
      "cell_type": "markdown",
      "source": [
        "El algoritmo KNN se basa en el cálculo de la distancia entre los registros de la base de datos y busca elementos que estén cerca unos de otros (vecinos) para tomar la decisión de clasificación.\n",
        "\n",
        "Debido a que utiliza cálculos de distancia, este algoritmo está influenciado por la escala de las variables, y por eso es necesario realizar una transformación en los datos antes de utilizar este método."
      ],
      "metadata": {
        "id": "QmAV0IFuNs43"
      }
    },
    {
      "cell_type": "code",
      "source": [],
      "metadata": {
        "id": "WWfngI9t-fjN"
      },
      "execution_count": 82,
      "outputs": []
    },
    {
      "cell_type": "code",
      "source": [],
      "metadata": {
        "id": "OLA-IDeJ-ffP"
      },
      "execution_count": 82,
      "outputs": []
    },
    {
      "cell_type": "code",
      "source": [],
      "metadata": {
        "id": "sLFS5Q-W-fc3"
      },
      "execution_count": 82,
      "outputs": []
    },
    {
      "cell_type": "markdown",
      "source": [
        "## Escogiendo y serializando el mejor modelo"
      ],
      "metadata": {
        "id": "8qdYbnwhVFSU"
      }
    },
    {
      "cell_type": "markdown",
      "source": [
        "Al final de un proyecto de machine learning, debemos comparar los resultados de los modelos y elegir el que tenga el mejor rendimiento.\n",
        "\n",
        "Podemos almacenar el modelo en un archivo serializado del tipo pickle para que sea utilizado en producción, es decir, en datos del mundo real para atender las necesidades del problema que necesita ser resuelto."
      ],
      "metadata": {
        "id": "HXa-CK0kOGr3"
      }
    },
    {
      "cell_type": "code",
      "source": [],
      "metadata": {
        "id": "5nPHjdtn-jDe"
      },
      "execution_count": 82,
      "outputs": []
    },
    {
      "cell_type": "code",
      "source": [],
      "metadata": {
        "id": "_QJx3nzo-i7j"
      },
      "execution_count": 82,
      "outputs": []
    },
    {
      "cell_type": "code",
      "source": [],
      "metadata": {
        "id": "H_miBe1Z-i31"
      },
      "execution_count": 82,
      "outputs": []
    },
    {
      "cell_type": "markdown",
      "source": [
        "```python\n",
        "nuevo_dato = {\n",
        "    'edad': [45],\n",
        "    'estado_civil':['soltero (a)'],\n",
        "    'escolaridad':['superior'],\n",
        "    'default': ['no'],\n",
        "    'saldo': [23040],\n",
        "    'prestatario': ['no'],\n",
        "    'ultimo_contacto': [800],\n",
        "    'ct_contactos': [4]\n",
        "}\n",
        "```"
      ],
      "metadata": {
        "id": "nKDya8qahXrt"
      }
    },
    {
      "cell_type": "code",
      "source": [],
      "metadata": {
        "id": "M36ZyNeI-nXD"
      },
      "execution_count": 82,
      "outputs": []
    },
    {
      "cell_type": "code",
      "source": [],
      "metadata": {
        "id": "9e6TGmHX-nSW"
      },
      "execution_count": 82,
      "outputs": []
    },
    {
      "cell_type": "code",
      "source": [],
      "metadata": {
        "id": "MJhJ1VzS-nPM"
      },
      "execution_count": 82,
      "outputs": []
    }
  ]
}